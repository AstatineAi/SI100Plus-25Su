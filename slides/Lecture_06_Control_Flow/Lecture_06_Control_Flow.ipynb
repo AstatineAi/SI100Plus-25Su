{
 "cells": [
  {
   "cell_type": "markdown",
   "metadata": {},
   "source": [
    "# Python Lecture 6：**控制流**\n",
    "\n",
    "*100% 真人手敲制作！不含任何 GPT 成分！*\n",
    "\n",
    "Made with ♥  by SI100+ (2025) Staff."
   ]
  },
  {
   "cell_type": "markdown",
   "metadata": {},
   "source": [
    "## 00. 控制流是什么"
   ]
  },
  {
   "cell_type": "markdown",
   "metadata": {},
   "source": [
    "## 01. 条件语句"
   ]
  },
  {
   "cell_type": "markdown",
   "metadata": {},
   "source": [
    "### `if`, `if-else`, `if-elif-else`"
   ]
  },
  {
   "cell_type": "code",
   "execution_count": null,
   "metadata": {},
   "outputs": [],
   "source": [
    "x = 10\n",
    "if x > 0:\n",
    "    print(\"x is a positive number\")"
   ]
  },
  {
   "cell_type": "code",
   "execution_count": null,
   "metadata": {},
   "outputs": [],
   "source": [
    "x = -10\n",
    "if x > 0:\n",
    "    print(\"x is a positive number\")\n",
    "else:\n",
    "    print(\"x is not a positive number\")"
   ]
  },
  {
   "cell_type": "code",
   "execution_count": null,
   "metadata": {},
   "outputs": [],
   "source": [
    "x = 0\n",
    "if x > 0:\n",
    "    print(\"x is a positive number\")\n",
    "elif x < 0:\n",
    "    print(\"x is a negative number\")\n",
    "else:\n",
    "    print(\"x is zero\")"
   ]
  },
  {
   "cell_type": "code",
   "execution_count": null,
   "metadata": {},
   "outputs": [],
   "source": [
    "x = 0\n",
    "if x > 1:\n",
    "    print(\"x > 1\")\n",
    "elif x < 1: # 中间的条件已经满足，后面的条件不会再判断\n",
    "    print(\"x < 1\") \n",
    "elif x == 0:\n",
    "    print(\"x is zero\")\n",
    "else:\n",
    "    print(\"sth\")"
   ]
  },
  {
   "cell_type": "markdown",
   "metadata": {},
   "source": [
    "- 大家可以更改 `x` 的值，看看是否符合预期"
   ]
  },
  {
   "cell_type": "code",
   "execution_count": null,
   "metadata": {},
   "outputs": [],
   "source": [
    "x = 50\n",
    "if x < 2:\n",
    "    print('Small')\n",
    "else:\n",
    "    if x < 10: # 可以简化为 elif x < 10: 试试看吧！（别忘记缩进调整）\n",
    "        print('Medium')\n",
    "    elif x < 20:\n",
    "        print('Big')\n",
    "    elif x < 100:\n",
    "        print('Huge')\n",
    "    else:\n",
    "        print('Ginormous')"
   ]
  },
  {
   "attachments": {
    "image-10.png": {
     "image/png": "[encoded data removed]"
    }
   },
   "cell_type": "markdown",
   "metadata": {},
   "source": [
    "- 【2024 四川内江高三一模】如图是一个电子元件在处理数据时的流程图：\n",
    "\n",
    "<div style=\"background: white\">\n",
    "\n",
    "![attachment](attachment:image-10.png)\n",
    "\n",
    "</div>"
   ]
  },
  {
   "cell_type": "code",
   "execution_count": null,
   "metadata": {},
   "outputs": [],
   "source": [
    "def f(x):\n",
    "    if x >= 1:\n",
    "        y1 = x + 2\n",
    "        return y1 ** 2\n",
    "    else: # 写成 elif x < 1: 也可以，但没必要\n",
    "        y2 = x ** 2\n",
    "        return y2 + 2\n",
    "\n",
    "x = int(input(\"请输入 x\"))\n",
    "print(f(x))"
   ]
  },
  {
   "cell_type": "markdown",
   "metadata": {},
   "source": [
    "- Example: 登机判断"
   ]
  },
  {
   "cell_type": "code",
   "execution_count": null,
   "metadata": {},
   "outputs": [],
   "source": [
    "def fly():\n",
    "    ticket = int(input(\"是否购买机票（0-未购买 1-购买）\"))\n",
    "    safety = int(input(\"是否通过安检（0-未通过 1-通过）\"))\n",
    "    \n",
    "    if ticket == 1 and safety == 1:\n",
    "        print(\"请登机\")\n",
    "    elif ticket == 1 and safety != 1:\n",
    "        print(\"未通过安检，不能登机\")\n",
    "    else:\n",
    "        print(\"没有机票不能登机\")\n",
    "\n",
    "fly()"
   ]
  },
  {
   "cell_type": "markdown",
   "metadata": {},
   "source": [
    "## 02. 更多类型！列表、元组与字典！"
   ]
  },
  {
   "cell_type": "markdown",
   "metadata": {},
   "source": [
    "### 列表\n",
    "\n",
    "请逐一执行，观察结果～"
   ]
  },
  {
   "cell_type": "code",
   "execution_count": null,
   "metadata": {},
   "outputs": [],
   "source": [
    "# 创建空列表\n",
    "empty_list = []\n",
    "empty_list2 = list()\n",
    "print(empty_list)\n",
    "print(empty_list == empty_list2)"
   ]
  },
  {
   "cell_type": "code",
   "execution_count": null,
   "metadata": {},
   "outputs": [],
   "source": [
    "# 创建 / 赋值列表\n",
    "fruits = ['apple']\n",
    "print(fruits)\n",
    "\n",
    "fruits = ['apple', 'banana', 'cherry']\n",
    "print(fruits)"
   ]
  },
  {
   "cell_type": "code",
   "execution_count": null,
   "metadata": {},
   "outputs": [],
   "source": [
    "# 使用下标访问列表元素\n",
    "print(fruits[0]) # 下标从 0 开始\n",
    "print(fruits[-1]) # -1 表示最后一个元素，同理 -2 表示倒数第二个元素"
   ]
  },
  {
   "cell_type": "code",
   "execution_count": null,
   "metadata": {},
   "outputs": [],
   "source": [
    "# 修改特定元素\n",
    "fruits[0] = 'orange'\n",
    "print(fruits)"
   ]
  },
  {
   "cell_type": "code",
   "execution_count": null,
   "metadata": {},
   "outputs": [],
   "source": [
    "# 在末尾追加元素\n",
    "fruits.append('apple')\n",
    "fruits.append('apple')\n",
    "print(fruits)\n",
    "\n",
    "# 在指定位置插入元素\n",
    "fruits.insert(1, 'mango')\n",
    "print(fruits)"
   ]
  },
  {
   "cell_type": "code",
   "execution_count": null,
   "metadata": {},
   "outputs": [],
   "source": [
    "# 删除指定元素(只删除第一个)\n",
    "fruits.remove('apple') # 尝试：删除一个不存在的元素，看看会发生什么？\n",
    "print(fruits)\n",
    "\n",
    "# 删除指定位置的元素\n",
    "del fruits[-1]\n",
    "print(fruits)\n",
    "\n",
    "# 移除并返回最后一个元素\n",
    "last_fruit = fruits.pop()\n",
    "print(\"last_one:\", last_fruit)\n",
    "print(fruits)"
   ]
  },
  {
   "cell_type": "code",
   "execution_count": null,
   "metadata": {},
   "outputs": [],
   "source": [
    "# 切片\n",
    "print(\"Origin =>\", fruits) # 原列表不变\n",
    "print(\"[1:3]  =>\", fruits[1:3]) # 1 <= index < 3\n",
    "print(\"[:2]   =>\", fruits[:2]) # 0 <= index < 2\n",
    "print(\"[2:]   =>\", fruits[2:]) # 2 <= index < end\n",
    "print(\"[:]    =>\", fruits[:]) # 整个列表\n",
    "print(\"[:-1]  =>\", fruits[:-1]) # 0 <= index < end-1\n",
    "print(\"[::2   =>\", fruits[::2]) # 间隔 2\n",
    "print(\"[::-1] =>\", fruits[::-1]) # 逆序\n",
    "print(\"After  =>\", fruits) # 原列表不变"
   ]
  },
  {
   "cell_type": "code",
   "execution_count": null,
   "metadata": {},
   "outputs": [],
   "source": [
    "# 获取长度 -> int\n",
    "print(type(len(fruits)))\n",
    "print(len(fruits))"
   ]
  },
  {
   "cell_type": "code",
   "execution_count": null,
   "metadata": {},
   "outputs": [],
   "source": [
    "# `+`` 连接列表\n",
    "more_fruits = ['grape', 'kiwi']\n",
    "all_fruits = fruits + more_fruits\n",
    "print(all_fruits)\n",
    "\n",
    "# `*` 复制列表\n",
    "print(fruits * 2)\n",
    "\n",
    "# 判断元素是否在列表中\n",
    "print('apple' in fruits)"
   ]
  },
  {
   "cell_type": "code",
   "execution_count": null,
   "metadata": {},
   "outputs": [],
   "source": [
    "# 不同的类型也可以放在同一个列表中\n",
    "mixed_list = [1, 2.0, 'three']\n",
    "print(mixed_list)\n",
    "\n",
    "mixed_list.append(False)\n",
    "print(mixed_list)"
   ]
  },
  {
   "cell_type": "code",
   "execution_count": null,
   "metadata": {},
   "outputs": [],
   "source": [
    "# 嵌套列表和访问\n",
    "\n",
    "matrix = [[1, 2, 3], [4, 5, 6], [7, 8, 9]]\n",
    "print(matrix[1][2])"
   ]
  },
  {
   "cell_type": "markdown",
   "metadata": {},
   "source": [
    "### 元组：不可变的列表"
   ]
  },
  {
   "cell_type": "code",
   "execution_count": null,
   "metadata": {},
   "outputs": [],
   "source": [
    "# 元组的创建\n",
    "empty_tuple = ()\n",
    "print(type(empty_tuple))\n",
    "\n",
    "# 一个元素的元组\n",
    "single_tuple = (1,) # 注意逗号！这是区分元组和表达式的关键\n",
    "print(type(single_tuple))\n",
    "not_tuple = (1)\n",
    "print(type(not_tuple))\n",
    "\n",
    "# 多个元素的元组\n",
    "fruits_tuple = ('apple', True, 2.0)\n",
    "print(fruits_tuple)"
   ]
  },
  {
   "cell_type": "code",
   "execution_count": null,
   "metadata": {},
   "outputs": [],
   "source": [
    "# 元组的访问等操作和列表类似\n",
    "print(fruits_tuple[0])"
   ]
  },
  {
   "cell_type": "code",
   "execution_count": null,
   "metadata": {},
   "outputs": [],
   "source": [
    "# 但是元组不可变，尝试修改元组的元素会发生什么？\n",
    "fruits_tuple[0] = 'orange'"
   ]
  },
  {
   "cell_type": "markdown",
   "metadata": {},
   "source": [
    "### 集合"
   ]
  },
  {
   "cell_type": "code",
   "execution_count": null,
   "metadata": {},
   "outputs": [],
   "source": [
    "# 集合的创建\n",
    "# 空集合只能用 set() 创建\n",
    "empty_set = set()\n",
    "print(type(empty_set))\n",
    "print(empty_set) # 空集合输出 set()\n",
    "\n",
    "# 可以用大括号创建集合，用逗号分隔元素\n",
    "fruits_set = {'apple', 'banana', 'cherry'}\n",
    "print(fruits_set)"
   ]
  },
  {
   "cell_type": "code",
   "execution_count": null,
   "metadata": {},
   "outputs": [],
   "source": [
    "# 集合不会重复元素\n",
    "repeated = {1, 1, 2, 2, 3, 3}\n",
    "print(repeated)\n",
    "\n",
    "# 哪怕追加 (add)\n",
    "repeated.add(3)\n",
    "print(repeated)"
   ]
  },
  {
   "cell_type": "markdown",
   "metadata": {},
   "source": [
    "### 字典 (Optional)\n",
    "\n",
    "- 字典是 Python 中一个独特的数据类型，字典是一组包含着 键 (key) 与 值 (value) 的键值对 (key-value pairs)，通常表示为 `key:value`\n",
    "- 顾名思义，我们在查字典的时候，根据“字”来寻找“解释”，那么“字”就是键，“解释”就是“值”"
   ]
  },
  {
   "cell_type": "code",
   "execution_count": null,
   "metadata": {},
   "outputs": [],
   "source": [
    "# 创建字典\n",
    "empty_dict = {}\n",
    "print(type(empty_dict))\n",
    "print(empty_dict)\n",
    "\n",
    "# 用大括号创建字典，用冒号分隔键和值，记得打逗号分割键值对\n",
    "my_info = { # 这里用了一个比较美观的换行写法，适用于长文本排版\n",
    "    \"name\": \"ZAMBAR\",\n",
    "    \"bilibili\": \"糌粑_ZAMBAR\",\n",
    "    \"homepage\": \"https://hezebang.github.io\",\n",
    "    \"geekpie\": \"https://geekpie.club\", # 这个逗号可选\n",
    "}\n",
    "\n",
    "print(my_info)"
   ]
  },
  {
   "cell_type": "code",
   "execution_count": null,
   "metadata": {},
   "outputs": [],
   "source": [
    "# 访问字典的值\n",
    "print(my_info[\"name\"])\n",
    "\n",
    "# 更多用法，会在后面的 Python 进阶 录播课介绍，敬请期待！"
   ]
  },
  {
   "cell_type": "code",
   "execution_count": null,
   "metadata": {},
   "outputs": [],
   "source": [
    "# 运行下列代码，看看会发生什么？（笑）\n",
    "\n",
    "from IPython.display import IFrame\n",
    "\n",
    "IFrame(my_info[\"geekpie\"], width=800, height=600)"
   ]
  },
  {
   "cell_type": "markdown",
   "metadata": {},
   "source": [
    "## 03. 循环语句"
   ]
  },
  {
   "cell_type": "markdown",
   "metadata": {},
   "source": [
    "### `While` 循环"
   ]
  },
  {
   "cell_type": "code",
   "execution_count": null,
   "metadata": {},
   "outputs": [],
   "source": [
    "hungry = 10 # 如饱\n",
    "print(\"很内向，吃饱了也不说话，就一直\", end=\"\")\n",
    "\n",
    "while hungry > 0:\n",
    "    print(\"吃\", end=\"\")\n",
    "    hungry = hungry - 1\n",
    "\n",
    "print()\n",
    "print(\"吃饱了\")"
   ]
  },
  {
   "cell_type": "markdown",
   "metadata": {},
   "source": [
    "#### Example: 一个猜数字小游戏"
   ]
  },
  {
   "cell_type": "code",
   "execution_count": null,
   "metadata": {},
   "outputs": [],
   "source": [
    "ans = 25\n",
    "guess = int(input(\"请猜测: \"))\n",
    "\n",
    "while(ans != guess):\n",
    "    if(ans < guess):\n",
    "        print(\"大了\")\n",
    "    else:\n",
    "        print(\"小了\")\n",
    "    guess = int(input(\"请重猜: \"))\n",
    "\n",
    "print(\"猜对了\")"
   ]
  },
  {
   "cell_type": "markdown",
   "metadata": {},
   "source": [
    "#### （可选）调试你的程序来观察运行状态\n",
    "\n",
    "- 注意到下面代码左侧有一个小红点了吗？\n",
    "- 鼠标悬浮在当前行的最左侧，就可以启用/禁用该红点\n",
    "- 这个点的名字叫 断点 (breakpoint)\n",
    "- 使用 调试 模式启动（代码块旁边有一个 ▶️ 的下拉菜单里，有一个 调试该代码块）时候\n",
    "    - 代码会自动在此处停止\n",
    "    - 上面会多出一个执行的小方框\n",
    "        - 我们暂时只需要无脑点 步入 (Step into) 就可以一步一步执行了\n",
    "        - 上面小方框里的 ▶️ 代表继续，继续执行到下一次遇见断点或结束\n",
    "    - 左侧会切换到 运行与调试 的菜单\n",
    "        - 最上面写了一些探测到的变量，你可以实时观察他们\n",
    "        - 中间是 监视，点击 + 可以输入一个 **表达式** 进行观测，就像实时 `print` 一样，非常方便\n",
    "        - **小任务: 尝试观察 guess, 和 guess + 1**\n",
    "    - 代码会有一行亮着的行，代表 **下一步** 将执行的代码\n"
   ]
  },
  {
   "cell_type": "code",
   "execution_count": null,
   "metadata": {},
   "outputs": [],
   "source": [
    "ans = 25\n",
    "guess = int(input(\"请猜测: \"))\n",
    "\n",
    "while(ans != guess):\n",
    "    if(ans < guess):\n",
    "        print(\"大了\")\n",
    "    else:\n",
    "        print(\"小了\")\n",
    "    guess = int(input(\"请重猜: \"))\n",
    "\n",
    "print(\"猜对了\")"
   ]
  },
  {
   "cell_type": "markdown",
   "metadata": {},
   "source": [
    "#### `break`, `continue`\n",
    "\n",
    "- 尝试在 `i = 0` 处打断点，用 监视 窗口观察 `i` 的变化\n",
    "    - 👁👁👁我会一👁直👁看着你👁👁"
   ]
  },
  {
   "cell_type": "code",
   "execution_count": null,
   "metadata": {},
   "outputs": [],
   "source": [
    "i = 0\n",
    "while i < 5:\n",
    "    i += 1 # i = i + 1\n",
    "    print(i)\n",
    "    if i == 3:\n",
    "        break\n",
    "    print(i)\n",
    "print(\"end.\")"
   ]
  },
  {
   "cell_type": "code",
   "execution_count": null,
   "metadata": {},
   "outputs": [],
   "source": [
    "i = 0\n",
    "while i < 5:\n",
    "    i += 1\n",
    "    print(i)\n",
    "    if i == 3:\n",
    "        continue\n",
    "    print(i)\n",
    "print(\"end.\")"
   ]
  },
  {
   "cell_type": "markdown",
   "metadata": {},
   "source": [
    "#### Example: 进制转换 (HARD)\n",
    "\n",
    "我们将在这里与函数的知识一起运用！"
   ]
  },
  {
   "cell_type": "code",
   "execution_count": null,
   "metadata": {},
   "outputs": [],
   "source": [
    "def decimal_to_binary(n):  \n",
    "    binary_num = ''  \n",
    "    while n > 0:  \n",
    "        remainder = n % 2\n",
    "        binary_num = str(remainder) + binary_num # 不能写成 += 顺序不对\n",
    "        n //= 2 # n = n // 2\n",
    "    return binary_num\n",
    "\n",
    "decimal_number = 10\n",
    "binary_number = decimal_to_binary(decimal_number)  \n",
    "print(decimal_number, \"的二进制是\", binary_number)"
   ]
  },
  {
   "cell_type": "markdown",
   "metadata": {},
   "source": [
    "### `for`"
   ]
  },
  {
   "cell_type": "code",
   "execution_count": null,
   "metadata": {},
   "outputs": [],
   "source": [
    "skills = ['唱', '跳', 'rap', '篮球']\n",
    "\n",
    "print(\"前面忘了，喜欢\", end=\"\")\n",
    "\n",
    "for skill in skills:\n",
    "    print(skill, end=\", \")\n",
    "\n",
    "print(\"Music!\")"
   ]
  },
  {
   "cell_type": "code",
   "execution_count": null,
   "metadata": {},
   "outputs": [],
   "source": [
    "for char in \"123456\":\n",
    "    print(char, end=\"!\")\n",
    "print()\n",
    "print(char)"
   ]
  },
  {
   "cell_type": "code",
   "execution_count": null,
   "metadata": {},
   "outputs": [],
   "source": [
    "for fruit in [\"apple\", \"banana\", \"cherry\"]:\n",
    "    print(fruit, end=\", \")"
   ]
  },
  {
   "cell_type": "markdown",
   "metadata": {},
   "source": [
    "#### `for` 中的 `break`, `continue`"
   ]
  },
  {
   "cell_type": "code",
   "execution_count": null,
   "metadata": {},
   "outputs": [],
   "source": [
    "for fruit in [\"apple\", \"banana\", \"cherry\"]:\n",
    "    if fruit == \"banana\": # 当遇到 banana 时结束循环\n",
    "        break\n",
    "    print(fruit, end=\", \")\n",
    "print(\"end.\")"
   ]
  },
  {
   "cell_type": "code",
   "execution_count": null,
   "metadata": {},
   "outputs": [],
   "source": [
    "for fruit in [\"apple\", \"banana\", \"cherry\"]:\n",
    "    if fruit == \"banana\": # 当遇到 banana 时跳过本轮循环\n",
    "        continue\n",
    "    print(fruit, end=\", \")\n",
    "print(\"end.\")"
   ]
  },
  {
   "cell_type": "markdown",
   "metadata": {},
   "source": [
    "#### 字符串 VS 列表"
   ]
  },
  {
   "cell_type": "code",
   "execution_count": null,
   "metadata": {},
   "outputs": [],
   "source": [
    "# 字符串和列表非常像\n",
    "\n",
    "str1 = \"Hello\"\n",
    "str2 = \"World\"\n",
    "\n",
    "print(str1[0])\n",
    "print(str1[:3])\n",
    "print(str1 + \"!\")\n",
    "print(str1 + str2 + \"!\"*3)"
   ]
  },
  {
   "cell_type": "markdown",
   "metadata": {},
   "source": [
    "#### 一个奇怪的例子\n",
    "\n",
    "- 你能用调试，观察 `i` 和 `li` 的变化吗\n",
    "- 为什么会这样？你能给出一个解释并发到 Piazza 上吗？"
   ]
  },
  {
   "cell_type": "code",
   "execution_count": null,
   "metadata": {},
   "outputs": [],
   "source": [
    "li = [1, 3, 5, 7, 9, 11]\n",
    "for i in li: # 一边迭代一边修改很危险！\n",
    "    if i == 5:\n",
    "        li.remove(i)\n",
    "    print(i, end=' ')"
   ]
  },
  {
   "cell_type": "markdown",
   "metadata": {},
   "source": [
    "### Nested `for` 循环嵌套"
   ]
  },
  {
   "cell_type": "code",
   "execution_count": null,
   "metadata": {},
   "outputs": [],
   "source": [
    "import time\n",
    "\n",
    "for i in [1, 2, 3]:\n",
    "    for j in [1, 2, 3]:\n",
    "        print(f\"i={i}, j={j}\", end=' | ')\n",
    "        time.sleep(1) # 暂停 1 秒\n",
    "    print() # 相当于换行\n",
    "print('Bingo')"
   ]
  },
  {
   "cell_type": "markdown",
   "metadata": {},
   "source": [
    "### 太少了，我要 100 的循环 - `range`\n",
    "\n",
    "```py\n",
    "range(stop) # 默认从 0 到 stop - 1\n",
    "range(start, stop[, step=1]) # 从 start 到 stop - 1\n",
    "range(start, stop, step) # 从 start 到 stop - step，步长为 step\n",
    "```"
   ]
  },
  {
   "cell_type": "code",
   "execution_count": null,
   "metadata": {},
   "outputs": [],
   "source": [
    "print(range(1, 10)) # 神奇，输出有点反直觉？\n",
    "print(type(range(1, 10))) # 原来是 range 类型，怎么办呢？\n",
    "print(list(range(1, 10))) # 使用强制类型转换转成列表"
   ]
  },
  {
   "cell_type": "code",
   "execution_count": null,
   "metadata": {},
   "outputs": [],
   "source": [
    "list(range(4)) # 从 0 开始，到 3 结束，默认步长为 1"
   ]
  },
  {
   "cell_type": "code",
   "execution_count": null,
   "metadata": {},
   "outputs": [],
   "source": [
    "list(range(3, 9)) # 从 3 开始，到 8 结束，默认步长为 1"
   ]
  },
  {
   "cell_type": "code",
   "execution_count": null,
   "metadata": {},
   "outputs": [],
   "source": [
    "list(range(3, 9, 2)) # 从 3 开始，到 8 结束，步长为 2"
   ]
  },
  {
   "cell_type": "code",
   "execution_count": null,
   "metadata": {},
   "outputs": [],
   "source": [
    "list(range(7, 2, -1)) # 从 7 开始，到 3 结束，步长为 -1"
   ]
  },
  {
   "cell_type": "code",
   "execution_count": null,
   "metadata": {},
   "outputs": [],
   "source": [
    "list(range(4, 1)) # 无法生成任何数字，转换成列表为空"
   ]
  },
  {
   "cell_type": "markdown",
   "metadata": {},
   "source": [
    "#### Example: 判断奇数、偶数\n",
    "\n",
    "- 这里涉及到了一点关于 [格式化输出](https://docs.python.org/zh-cn/3/tutorial/inputoutput.html) 的用法，RTFM\n",
    "    - 字符串前的 `f` 是什么意思？\n",
    "    - 字符串里的 `{i:2}` 是什么意思？运行的时候被替换成了什么？\n",
    "    - 如果去掉 `:2` 输出是什么？你能明白 `:2` 的意思了吗？\n",
    "    - 输出的格式是否更美观了？字符串是否可以从分割的变成一个整体了？\n",
    "    - 你能理解格式化输出的意义了吗？\n",
    "- 其实观察就可以发现，就是“让数字占据两位，用空格补齐”，那如果数字有三位呢？修改代码，观察结果。"
   ]
  },
  {
   "cell_type": "code",
   "execution_count": null,
   "metadata": {},
   "outputs": [],
   "source": [
    "for i in range(1, 101):\n",
    "    if i % 2 == 0:\n",
    "        print(f'Num:{i:2}: even')\n",
    "    else:\n",
    "        print(f'Num:{i:2}: odd')"
   ]
  },
  {
   "cell_type": "markdown",
   "metadata": {},
   "source": [
    "#### 刚刚提过的小问题\n",
    "\n",
    "- 循环创建的变量仍然可以被访问！\n",
    "- 若该名字已经被创建过，也会覆盖该变量！\n",
    "- 在日后编程一定要注意这种细节～科学地命名可以避免这一个问题。\n",
    "- 编程习惯很重要，干净和有区分度的命名会避免小 bug\n",
    "- 循环中，旧时通常使用 `i`, `j`, `k` 作为循环变量"
   ]
  },
  {
   "cell_type": "code",
   "execution_count": null,
   "metadata": {},
   "outputs": [],
   "source": [
    "num = 2\n",
    "print(\"num =\", num)\n",
    "\n",
    "for num in [1, 5, 10]:\n",
    "    print(num,end=' ')\n",
    "\n",
    "print()\n",
    "print(\"num =\", num)"
   ]
  },
  {
   "cell_type": "markdown",
   "metadata": {},
   "source": [
    "#### Example: 判断质数\n",
    "\n",
    "- 你能理解下面代码的思路吗？\n",
    "- 在什么情况下会执行到 `return True`？为什么会执行到那一句？\n",
    "- 你明白`return` 提前结束的意义了吗？"
   ]
  },
  {
   "cell_type": "code",
   "execution_count": null,
   "metadata": {},
   "outputs": [],
   "source": [
    "def is_prime(num):\n",
    "    # 思路：默认输入的是一个素数，除非我们找到了一个因子\n",
    "    if num < 2:\n",
    "        return False # 0 和 1 不是素数！可以提前结束！\n",
    "    for i in range(2, num):\n",
    "        if num % i == 0:\n",
    "            return False # 找到了一个因子，不是素数，函数提前结束！\n",
    "    return True # 没有找到因子，是素数！\n",
    "\n",
    "input_num = int(input(\"Input a number:\"))\n",
    "\n",
    "print(is_prime(input_num))"
   ]
  }
 ],
 "metadata": {
  "kernelspec": {
   "display_name": "base",
   "language": "python",
   "name": "python3"
  },
  "language_info": {
   "codemirror_mode": {
    "name": "ipython",
    "version": 3
   },
   "file_extension": ".py",
   "mimetype": "text/x-python",
   "name": "python",
   "nbconvert_exporter": "python",
   "pygments_lexer": "ipython3",
   "version": "3.12.7"
  }
 },
 "nbformat": 4,
 "nbformat_minor": 2
}
