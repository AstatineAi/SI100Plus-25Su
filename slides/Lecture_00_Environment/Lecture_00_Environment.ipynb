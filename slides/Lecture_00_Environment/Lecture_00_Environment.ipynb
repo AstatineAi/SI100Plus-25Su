{
 "cells": [
  {
   "cell_type": "markdown",
   "metadata": {},
   "source": [
    "# Lecture 0: 环境配置\n",
    "\n",
    "按照之前的安装指南，我们已经安装了 Anaconda 和 VSCode，接下来我们将学习如何在 VSCode 中运行 Jupyter Notebook。\n",
    "\n",
    "在后面的课程中，我们将使用 Jupyter Notebook 进行代码演示，同学们自己也可以使用 Jupyter Notebook 进行代码编写和调试。\n",
    "\n",
    "现在，在页面的上方，有 \"+ Code\", \"+ Markdown\" 等按钮的那一菜单栏的最右侧，有一个标识你现在使用的 Kernel 按钮。\n",
    "\n",
    "我们要将使用的环境切换为我们新建的 `si100` 环境，点击那个按钮，然后选择 si100，若没有找到 si100，点击 \"Select Another Kernel\" -> \"Python Environments...\" -> \"si100\"\n",
    "\n",
    "下面的代码块是一个会输出 \"Hello, SI100+\" 的代码块，点击代码块左侧的三角形按钮，即可运行代码块。"
   ]
  },
  {
   "cell_type": "code",
   "execution_count": null,
   "metadata": {},
   "outputs": [],
   "source": [
    "# click the run button on the left!\n",
    "print(\"Hello, SI100+\")"
   ]
  },
  {
   "cell_type": "markdown",
   "metadata": {},
   "source": [
    "如果你看到了 \"Hello, SI100+\"，代表我们的环境配置成功了！"
   ]
  }
 ],
 "metadata": {
  "kernelspec": {
   "display_name": "si100+",
   "language": "python",
   "name": "python3"
  },
  "language_info": {
   "codemirror_mode": {
    "name": "ipython",
    "version": 3
   },
   "file_extension": ".py",
   "mimetype": "text/x-python",
   "name": "python",
   "nbconvert_exporter": "python",
   "pygments_lexer": "ipython3",
   "version": "3.12.4"
  }
 },
 "nbformat": 4,
 "nbformat_minor": 2
}
