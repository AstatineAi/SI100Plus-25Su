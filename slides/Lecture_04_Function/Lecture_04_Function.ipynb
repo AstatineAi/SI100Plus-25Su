{
 "cells": [
  {
   "cell_type": "markdown",
   "metadata": {},
   "source": [
    "# Python Lecture 4：**函数**\n",
    "\n",
    "*100% 真人手敲制作！不含任何 GPT 成分！*\n",
    "\n",
    "Made with ♥ by SI100+ (2024) Staff."
   ]
  },
  {
   "cell_type": "markdown",
   "metadata": {},
   "source": [
    "## Part 0. 在开始之前\n",
    "\n",
    "### 查询已有函数用法 - `help()`\n",
    "\n",
    "- 尝试打开终端运行 `help(print)` 看看是什么样的？\n",
    "- 尝试在下面的代码块中，将 `print` 换成 `input`, `\"SI100P\"` 等，运行，看看会发生什么。"
   ]
  },
  {
   "cell_type": "code",
   "execution_count": null,
   "metadata": {},
   "outputs": [],
   "source": [
    "# 实例 3.0.1 - 课件 p4\n",
    "\n",
    "help(print)"
   ]
  },
  {
   "cell_type": "markdown",
   "metadata": {},
   "source": [
    "### 查询已有函数用法 - 代码提示\n",
    "\n",
    "- 尝试将鼠标悬浮在下面的 `print` 上，看看会发生什么？两个有什么区别？\n",
    "- 尝试悬浮在别的代码上，看看会发生什么？"
   ]
  },
  {
   "cell_type": "code",
   "execution_count": null,
   "metadata": {},
   "outputs": [],
   "source": [
    "# 课后自主尝试\n",
    "\n",
    "print\n",
    "print(123)"
   ]
  },
  {
   "cell_type": "markdown",
   "metadata": {},
   "source": [
    "- 尝试在下方代码块中缓慢打出 `print(\"Hello\", end=\"!\")`，看看代码提示有什么变化？"
   ]
  },
  {
   "cell_type": "code",
   "execution_count": null,
   "metadata": {},
   "outputs": [],
   "source": [
    "# 课后自主尝试\n",
    "\n",
    "pass\n",
    "# print(\"Hello\", end=\"!\")"
   ]
  },
  {
   "cell_type": "markdown",
   "metadata": {},
   "source": [
    "### 查询已有函数用法 - `?`\n",
    "\n",
    "- 尝试替换 `print`，看看会发生什么"
   ]
  },
  {
   "cell_type": "code",
   "execution_count": null,
   "metadata": {},
   "outputs": [],
   "source": [
    "# 示例 3.0.2 - 课件 p8\n",
    "\n",
    "print?"
   ]
  },
  {
   "cell_type": "markdown",
   "metadata": {},
   "source": [
    "## Part.1 Python 中的函数\n",
    "\n",
    "### 为什么要有函数？\n",
    "\n",
    "你写了一个 Python 脚本，可以把摄氏度转换为华氏度"
   ]
  },
  {
   "cell_type": "code",
   "execution_count": null,
   "metadata": {},
   "outputs": [],
   "source": [
    "# 示例 3.1.1 - 课件 p11\n",
    "\n",
    "celsius = 26.5\n",
    "fahrenheit = celsius * 9 / 5 + 32\n",
    "print(\"摄氏温度\", celsius, \"对应的华氏温度为\", fahrenheit)"
   ]
  },
  {
   "cell_type": "markdown",
   "metadata": {},
   "source": [
    "感觉没什么问题！但是如果我不希望每次转换不同的温度时都要打开源代码然后修改 `celsius = 26.5` 这一行呢？\n",
    "\n",
    "我们可以使用前面学到的 `input()` 函数。"
   ]
  },
  {
   "cell_type": "code",
   "execution_count": null,
   "metadata": {},
   "outputs": [],
   "source": [
    "# 示例 3.1.2 - 课件 p11\n",
    "\n",
    "celsius = float(input(\"请输入摄氏温度：\"))\n",
    "fahrenheit = celsius * 9 / 5 + 32\n",
    "print(\"摄氏温度\", celsius, \"对应的华氏温度为\", fahrenheit)"
   ]
  },
  {
   "cell_type": "markdown",
   "metadata": {},
   "source": [
    "如果我们现在有一个复杂的计算过程，需要分别获取多个摄氏温度，然后均转化为华氏温度，用于后续的计算过程呢？\n",
    "\n",
    "这时候单独一次的摄氏温度不应该从输入读入了，同时，转化出来的华氏温度也不是我们最后要的结果，不应该使用输出的方式。\n",
    "\n",
    "怎么办 -- 变量！"
   ]
  },
  {
   "cell_type": "code",
   "execution_count": null,
   "metadata": {},
   "outputs": [],
   "source": [
    "# 示例 3.1.3 - 课件 p11\n",
    "\n",
    "# 假如前面的流程已经把要转换的温度保存在变量 var_in 里面\n",
    "\n",
    "var_in = 37.5\n",
    "\n",
    "# 下面的代码是负责转换的部分\n",
    "celsius = var_in\n",
    "fahrenheit = celsius * 9 / 5 + 32\n",
    "\n",
    "# 最后，新建一个变量 var_out，把转化完成的温度放在 var_out，方便后面使用\n",
    "var_out = fahrenheit\n",
    "\n",
    "# 其他复杂的计算...\n",
    "\n",
    "# 最后输出了结果\n",
    "print(var_out + 10)"
   ]
  },
  {
   "cell_type": "markdown",
   "metadata": {},
   "source": [
    "如果我们把这个过程变成函数，就能像使用 `type` 那样使用它。"
   ]
  },
  {
   "cell_type": "code",
   "execution_count": null,
   "metadata": {},
   "outputs": [],
   "source": [
    "# 示例 3.1.4 - 课件 p11\n",
    "\n",
    "var_in = 37.5\n",
    "\n",
    "# 把合适的东西放进 var_in 之后，var_out 就会变成我们要的结果\n",
    "# 中间发生了什么？不需要关心，这就是函数的意义\n",
    "var_out = type(var_in)\n",
    "\n",
    "print(var_out)"
   ]
  },
  {
   "cell_type": "code",
   "execution_count": null,
   "metadata": {},
   "outputs": [],
   "source": [
    "# 示例 3.1.5 - 课件 p11\n",
    "# 无法运行，真正定义我们自己的函数的方法会在后面涉及\n",
    "\n",
    "var_in = 37.5\n",
    "\n",
    "# 把上面的多行代码 “浓缩” 成这个函数\n",
    "var_out = celsius_to_fahrenheit(var_in)\n",
    "\n",
    "print(var_out)"
   ]
  },
  {
   "cell_type": "markdown",
   "metadata": {},
   "source": [
    "### 函数调用\n",
    "\n",
    "调用函数必须符合指定的格式：\n",
    "\n",
    "`函数名 左括号(    函数参数    )右括号`"
   ]
  },
  {
   "cell_type": "code",
   "execution_count": null,
   "metadata": {},
   "outputs": [],
   "source": [
    "# 示例 3.1.6 - 课件 p13\n",
    "\n",
    "# 结构不符的将不会被视为对函数的调用\n",
    "\n",
    "print(\"Hello\") # 结构完整，print 函数会做事"
   ]
  },
  {
   "cell_type": "code",
   "execution_count": null,
   "metadata": {},
   "outputs": [],
   "source": [
    "# 示例 3.1.7 - 课件 p13\n",
    "\n",
    "print \"Hello\" # print 并不会被执行"
   ]
  },
  {
   "cell_type": "code",
   "execution_count": null,
   "metadata": {},
   "outputs": [],
   "source": [
    "# 示例 3.1.8 - 课件 p14\n",
    "\n",
    "print(\"这一行下面会有一个空行\")\n",
    "\n",
    "# 不使用参数，调用 print\n",
    "# 其实是输出了一个空白行（皇帝的新输出）\n",
    "print()\n",
    "\n",
    "# 使用多个参数调用 print\n",
    "print(\"Hello\", \"My\", \"SI100+\")"
   ]
  },
  {
   "cell_type": "markdown",
   "metadata": {},
   "source": [
    "#### 返回值（return value）\n",
    "\n",
    "- 有的函数运行的没有明确的结果，比如 `print`\n",
    "- 也存在没有返回值的函数\n",
    "- 没有返回值 $\\to$ 尝试获取返回值就会得到 `None`"
   ]
  },
  {
   "cell_type": "code",
   "execution_count": null,
   "metadata": {},
   "outputs": [],
   "source": [
    "# 示例 3.1.9 - 课件 p17\n",
    "\n",
    "# type 的作用是获取类型\n",
    "# 所以它的结果（返回值）就是获取到的类型\n",
    "t = type(123)\n",
    "print(t)\n",
    "\n",
    "# print 的作用是输出\n",
    "# 输出的任务在执行完 print 时就结束了\n",
    "# 它应该有什么结果吗？1？2？True？\n",
    "# 不需要结果，无返回值的函数\n",
    "p = print(\"123\")\n",
    "\n",
    "# 得到了 None\n",
    "print(p)"
   ]
  },
  {
   "cell_type": "code",
   "execution_count": null,
   "metadata": {},
   "outputs": [],
   "source": [
    "# 课后自主尝试 - 内置函数\n",
    "\n",
    "print(max(1, 2, 6, 5, 3))\n",
    "\n",
    "print(min(-1, 2))\n",
    "\n",
    "print(abs(-1))"
   ]
  },
  {
   "cell_type": "code",
   "execution_count": null,
   "metadata": {},
   "outputs": [],
   "source": [
    "# 示例 3.1.10 - 课件 p19\n",
    "\n",
    "print(\"hello from si100+\".capitalize())"
   ]
  },
  {
   "cell_type": "markdown",
   "metadata": {},
   "source": [
    "## Part.2 定义你的函数\n",
    "\n",
    "- 要定义一个函数，我们会用关键字 `def` 开头，后接函数名称和一对圆括号\n",
    "- 圆括号里面是**参数** (Parameter)，可以有多个，用逗号分隔\n",
    "- 圆括号里写下的变量可以直接在函数里面使用，实际的值将由调用时 **真正的参数** 决定\n",
    "\t- 例如 `f(2)` 会自动将 `x` 赋值为 `2`，这样才计算得出了正确的结果\n",
    "- **一定不要忘记那个冒号！**\n",
    "\t- 冒号相当于告诉 Python 后面的代码块是函数的内容\n",
    "\t- 代码块取决于**缩进**，冒号后面跟的是很多行开头是 4 个空格的代码，同属于一个代码块"
   ]
  },
  {
   "cell_type": "code",
   "execution_count": null,
   "metadata": {},
   "outputs": [],
   "source": [
    "# 示例 3.2.1 - 课件 p26\n",
    "\n",
    "def celsius_to_fahrenheit(celsius):\n",
    "    fahrenheit = celsius * 9 / 5 + 32\n",
    "    \n",
    "result = celsius_to_fahrenheit(23)\n",
    "print(result)"
   ]
  },
  {
   "cell_type": "markdown",
   "metadata": {},
   "source": [
    "- 我们刚才定义的函数得到了 `None`，也就是没有返回值\n",
    "- Python 中，函数可以通过 `return` 语句返回一个值\n",
    "\n",
    "### 返回语句\n"
   ]
  },
  {
   "cell_type": "code",
   "execution_count": null,
   "metadata": {},
   "outputs": [],
   "source": [
    "# 示例 3.2.2 - 课件 p26\n",
    "\n",
    "def celsius_to_fahrenheit(celsius):\n",
    "    fahrenheit = celsius * 9 / 5 + 32\n",
    "    return fahrenheit\n",
    "\n",
    "result = celsius_to_fahrenheit(23)\n",
    "print(result)"
   ]
  },
  {
   "cell_type": "markdown",
   "metadata": {},
   "source": [
    "### 函数声明的位置\n",
    "\n",
    "为什么下面的代码块会报错？"
   ]
  },
  {
   "cell_type": "code",
   "execution_count": null,
   "metadata": {},
   "outputs": [],
   "source": [
    "# 示例 3.2.3 - 课件 p27\n",
    "\n",
    "say_my_name(\"初音未来\")\n",
    "\n",
    "def say_my_name(name):\n",
    "\tprint(\"我去,\", name, \"!\")"
   ]
  },
  {
   "cell_type": "code",
   "execution_count": null,
   "metadata": {},
   "outputs": [],
   "source": [
    "# 示例 3.2.4 - 课件 p28\n",
    "\n",
    "def ChuanShanJia():\n",
    "\tprint(\"Gui Ye 先生\")\n",
    "\tprint(\"Tian Huang 陛...下\")\n",
    "\tprint(\"我滴任务完成辣\")\n",
    "\treturn \"拉开了手榴弹，并没有爆炸\"\n",
    "\tprint(\"啊哈哈哈哈哈哈哈哈\") # 笑不出来\n",
    "\n",
    "print(ChuanShanJia())"
   ]
  },
  {
   "cell_type": "markdown",
   "metadata": {},
   "source": [
    "可以发现上面的函数，只有函数体前三行的 `print` 和第四行的 `return` 被执行了。\n",
    "\n",
    "最后的 `print` 由于在 `return` 之后，`return` 执行之后，函数的调用就结束了，所以最后的那一条 `print` 不会被执行。\n",
    "\n",
    "---\n",
    "\n",
    "如果在没有缩进的最底层代码块混合着函数定义和其他语句，运行顺序是什么样的？"
   ]
  },
  {
   "cell_type": "code",
   "execution_count": null,
   "metadata": {},
   "outputs": [],
   "source": [
    "# 示例 3.2.5 - 课件 p29\n",
    "\n",
    "def say_my_name(name):\n",
    "    print(\"我去,\", name, \"!\")\n",
    "\n",
    "print(\"是谁？\")\n",
    "say_my_name(\"初音未来\")\n",
    "print(\"你好！\")"
   ]
  },
  {
   "cell_type": "markdown",
   "metadata": {},
   "source": [
    "- `return` 下面一行为什么是暗色的？他会被执行吗？"
   ]
  },
  {
   "cell_type": "markdown",
   "metadata": {},
   "source": [
    "## Part.3 函数里里外外\n",
    "\n",
    "### 作用域"
   ]
  },
  {
   "cell_type": "code",
   "execution_count": null,
   "metadata": {},
   "outputs": [],
   "source": [
    "# 示例 3.3.1 - 课件 p34\n",
    "\n",
    "which_li_hua = \"高考英语卷中\"\n",
    "\n",
    "def ShanghaiTech(): \n",
    "    which_li_hua = \"上海科技大学\"\n",
    "    print(\"上科大的\", which_li_hua)\n",
    "\n",
    "def SUSTech(): # 假设隔壁大学没有李华\n",
    "     # 隔壁大学人的第一反应肯定是高考英语卷中的李华\n",
    "    print(\"隔壁大学\", which_li_hua)\n",
    "\n",
    "# 外面的人（最外层）没有听说过别的李华\n",
    "print(\"外面的人\", which_li_hua)\n",
    "ShanghaiTech()\n",
    "SUSTech()\n",
    "\n",
    "# ShanghaiTech 的李华不会影响外面的人心中的李华\n",
    "print(\"外面的人\", which_li_hua)"
   ]
  },
  {
   "cell_type": "markdown",
   "metadata": {},
   "source": [
    "- （可选）结合下列代码，观察为什么报错？"
   ]
  },
  {
   "cell_type": "code",
   "execution_count": null,
   "metadata": {},
   "outputs": [],
   "source": [
    "# 课后自主尝试\n",
    "\n",
    "ans = 0 # 全局变量，作用范围为全局\n",
    "\n",
    "def scope1():\n",
    "\t# ans = 1\n",
    "\tprint(ans)\n",
    "\n",
    "def scope2():\n",
    "\tprint(ans) # 接下来的局部变量 ans 还没有被赋值，全局变量却有重名，所以会报错\n",
    "\tans = 2 # 本函数的局部变量 ans\n",
    "\tscope1()\n",
    "\tprint(ans)\n",
    "\n",
    "print(ans) # 1. 输出全局变量 ans\n",
    "scope2()\n",
    "print(ans)"
   ]
  },
  {
   "cell_type": "code",
   "execution_count": null,
   "metadata": {},
   "outputs": [],
   "source": [
    "# 课后自主尝试\n",
    "\n",
    "ans = 0 # 全局变量，作用范围为全局\n",
    "\n",
    "def scope1():\n",
    "\t# ans = 1\n",
    "\tprint(ans)\n",
    "\n",
    "def scope2():\n",
    "\tprint(ans)\n",
    "\t# ans = 2 # 如果不定义，就会自动访问全局变量 ans，而没有报错\n",
    "\tscope1()\n",
    "\tprint(ans)\n",
    "\n",
    "print(ans) # 1. 输出全局变量 ans\n",
    "scope2()\n",
    "print(ans)"
   ]
  }
 ],
 "metadata": {
  "kernelspec": {
   "display_name": "base",
   "language": "python",
   "name": "python3"
  },
  "language_info": {
   "codemirror_mode": {
    "name": "ipython",
    "version": 3
   },
   "file_extension": ".py",
   "mimetype": "text/x-python",
   "name": "python",
   "nbconvert_exporter": "python",
   "pygments_lexer": "ipython3",
   "version": "3.12.4"
  }
 },
 "nbformat": 4,
 "nbformat_minor": 2
}
