{
 "cells": [
  {
   "cell_type": "markdown",
   "metadata": {},
   "source": [
    "# Python Lecture 7：**面向对象**\n",
    "\n",
    "*100% 真人手敲制作！不含任何 GPT 成分！*\n",
    "\n",
    "Made with ♥ by SI100+ (2025) Staff."
   ]
  },
  {
   "cell_type": "markdown",
   "metadata": {},
   "source": [
    "## Part 1. 数据抽象"
   ]
  },
  {
   "cell_type": "code",
   "execution_count": null,
   "metadata": {},
   "outputs": [],
   "source": [
    "# 示例 7.1.1\n",
    "\n",
    "year = 2025\n",
    "month = 8\n",
    "day = 16\n",
    "\n",
    "def set_time(new_year, new_month, new_day):\n",
    "    global year, month, day\n",
    "    year = new_year\n",
    "    month = new_month\n",
    "    day = new_day\n",
    "    print(f\"时间已保存：{year}年{month}月{day}日\")\n",
    "\n",
    "def display_time():\n",
    "    print(f\"当前时间：{year}年{month}月{day}日\")\n",
    "    \n",
    "display_time()\n",
    "set_time(2026, 1, 1)\n",
    "display_time()"
   ]
  },
  {
   "cell_type": "code",
   "execution_count": null,
   "metadata": {},
   "outputs": [],
   "source": [
    "# 示例 7.1.2\n",
    "\n",
    "year = 2025\n",
    "month = 8\n",
    "day = 16\n",
    "hour = 19\n",
    "minute = 20\n",
    "second = 0\n",
    "\n",
    "def set_time(new_year, new_month, new_day, new_hour, new_minute, new_second):\n",
    "    global year, month, day, hour, minute, second\n",
    "    year = new_year\n",
    "    month = new_month\n",
    "    day = new_day\n",
    "    hour = new_hour\n",
    "    minute = new_minute\n",
    "    second = new_second\n",
    "    print(f\"时间已保存：{year}年{month}月{day}日 {hour}时{minute}分{second}秒\")\n",
    "\n",
    "def display_time():\n",
    "    print(f\"当前时间：{year}年{month}月{day}日 {hour}时{minute}分{second}秒\")\n",
    "\n",
    "display_time()\n",
    "set_time(2026, 1, 1, 10, 30, 45)\n",
    "display_time()"
   ]
  },
  {
   "cell_type": "code",
   "execution_count": null,
   "metadata": {},
   "outputs": [],
   "source": [
    "# 示例 7.1.3\n",
    "\n",
    "clock_1 = [2025, 8, 16, 19, 20, 0]\n",
    "clock_2 = [2025, 8, 16, 20, 00, 0]\n",
    "\n",
    "my_clocks = [clock_1, clock_2]\n",
    "\n",
    "def set_time(clock, new_time):\n",
    "    for i in range(len(clock)):\n",
    "        clock[i] = new_time[i]\n",
    "    print(f\"时间已保存：{clock[0]}年{clock[1]}月{clock[2]}日 {clock[3]}时{clock[4]}分{clock[5]}秒\")\n",
    "    \n",
    "def display_time(clock):\n",
    "    print(f\"当前时间：{clock[0]}年{clock[1]}月{clock[2]}日 {clock[3]}时{clock[4]}分{clock[5]}秒\")\n",
    "    \n",
    "display_time(my_clocks[0])\n",
    "set_time(my_clocks[0], [2026, 1, 1, 10, 30, 45])\n",
    "display_time(my_clocks[0])\n",
    "\n",
    "# 另一个时钟不会被影响\n",
    "display_time(my_clocks[1])"
   ]
  },
  {
   "cell_type": "markdown",
   "metadata": {},
   "source": [
    "## Part 2. 类"
   ]
  },
  {
   "cell_type": "code",
   "execution_count": null,
   "metadata": {},
   "outputs": [],
   "source": [
    "# 示例 7.2.1\n",
    "\n",
    "str_a = \"heLLo, sI100+\"\n",
    "str_b = \"shaNghAiTecH\"\n",
    "\n",
    "# 都能用 .capitalize 找到 “首字母大写” 的方法\n",
    "print(f\"str_a 首字母大写格式化后是 {str_a.capitalize()}\")\n",
    "print(f\"str_b 首字母大写格式化后是 {str_b.capitalize()}\")\n",
    "\n",
    "print()\n",
    "\n",
    "list_a = [1, 2, 3]\n",
    "list_b = [2, 4, 6, 8]\n",
    "\n",
    "print(f\"list_a = {list_a}\")\n",
    "print(f\"list_b = {list_b}\")\n",
    "\n",
    "# 都能用 .append 找到 “向列表末端添加元素” 的方法\n",
    "list_a.append(4)\n",
    "list_b.append(10)\n",
    "\n",
    "print(f\"list_a = {list_a}\")\n",
    "print(f\"list_b = {list_b}\")"
   ]
  },
  {
   "cell_type": "code",
   "execution_count": null,
   "metadata": {},
   "outputs": [],
   "source": [
    "# 示例 7.2.2\n",
    "\n",
    "class DemoClass:\n",
    "    var = 42\n",
    "\n",
    "# 无法找到 var\n",
    "print(var)"
   ]
  },
  {
   "cell_type": "code",
   "execution_count": null,
   "metadata": {},
   "outputs": [],
   "source": [
    "# 示例 7.2.3\n",
    "\n",
    "class DemoClass:\n",
    "    var = 42\n",
    "\n",
    "# 可以从 DemoClass 中找到 var\n",
    "print(DemoClass.var)"
   ]
  },
  {
   "cell_type": "markdown",
   "metadata": {},
   "source": [
    "为了知道 `self` 是什么，我们首先需要知道调用一个方法的时候发生了什么："
   ]
  },
  {
   "cell_type": "code",
   "execution_count": null,
   "metadata": {},
   "outputs": [],
   "source": [
    "# 示例 7.2.4\n",
    "\n",
    "class DemoClass:\n",
    "    def method():\n",
    "        print(\"这个方法被调用了！\")\n",
    "\n",
    "demo_instance = DemoClass()\n",
    "\n",
    "print(\"从类调用:\")\n",
    "DemoClass.method()\n",
    "\n",
    "print(\"从实例调用:\")\n",
    "demo_instance.method()"
   ]
  },
  {
   "cell_type": "markdown",
   "metadata": {},
   "source": [
    "可以发现，从类调用的时候一切正常，但是从实例调用的时候却出现了报错信息：\n",
    "\n",
    "```log\n",
    "DemoClass.method() takes 0 positional arguments but 1 was given\n",
    "```\n",
    "\n",
    "也就是 `DemoClass.method()` 这个函数不接受任何参数 (就像我们在 `def method()` 里定义的那样，参数列表是空的), 但是运行 `demo_instance.method()` 的时候传入了一个参数.\n",
    "\n",
    "这就是 Python 如何在一个方法里面找到现在调用方法的实例本身的方式。\n",
    "\n",
    "在调用某个实例的方法时, 会自动把这个实例本身作为第一个参数传入方法 : https://docs.python.org/3/reference/datamodel.html#instance-methods\n",
    "\n",
    "例如对于下面一段代码"
   ]
  },
  {
   "cell_type": "code",
   "execution_count": null,
   "metadata": {},
   "outputs": [],
   "source": [
    "# 示例 7.2.5\n",
    "\n",
    "class DemoClass:\n",
    "    def call_method(a, b):\n",
    "        print(f\"a 是 {a}, 类型为 {type(a)}\")\n",
    "        print(f\"b 是 {b}, 类型为 {type(b)}\")\n",
    "\n",
    "demo_instance = DemoClass()\n",
    "DemoClass.call_method(demo_instance, 42)\n",
    "demo_instance.call_method(42)"
   ]
  },
  {
   "cell_type": "markdown",
   "metadata": {},
   "source": [
    "`demo_instance.call_method(42)` 就相当于 `DemoClass.call_method(demo_instance, 42)`\n",
    "\n",
    "我们通常在定义一个方法时加入参数 `self` 来表示这个过程："
   ]
  },
  {
   "cell_type": "code",
   "execution_count": null,
   "metadata": {},
   "outputs": [],
   "source": [
    "# 示例 7.2.6\n",
    "\n",
    "class DemoClass:\n",
    "    def method(self):\n",
    "        print(\"This method is called!\")\n",
    "        \n",
    "demo_instance = DemoClass()\n",
    "demo_instance.method()"
   ]
  },
  {
   "cell_type": "code",
   "execution_count": null,
   "metadata": {},
   "outputs": [],
   "source": [
    "# 示例 7.2.7\n",
    "\n",
    "class DemoClass:\n",
    "    def method1(self):\n",
    "        print(\"This method is called!\")\n",
    "        self.method2()\n",
    "\n",
    "    def method2(self):\n",
    "        print(\"This method is also called!\")\n",
    "\n",
    "demo_instance = DemoClass()\n",
    "demo_instance.method1()"
   ]
  },
  {
   "cell_type": "markdown",
   "metadata": {},
   "source": [
    "以及, 在声明一些不从实例调用的方法时, 我们会使用 `@staticmethod` 或者 `@classmethod`, 请自行查阅文档.\n",
    "\n",
    "小故事 : https://docs.python.org/3/faq/design.html#why-must-self-be-used-explicitly-in-method-definitions-and-calls"
   ]
  },
  {
   "cell_type": "code",
   "execution_count": null,
   "metadata": {},
   "outputs": [],
   "source": [
    "# 小练习：用类实现一个简单的时钟\n",
    "\n",
    "class Clock:\n",
    "    def __init__(self, year, month, day):\n",
    "        self.year = year\n",
    "        self.month = month\n",
    "        self.day = day\n",
    "\n",
    "    # 参数列表里应该填什么？\n",
    "    def set_time():\n",
    "        # 这里应该写什么？\n",
    "        pass\n",
    "\n",
    "    def display_time(self):\n",
    "        print(f\"Time: {self.year}-{self.month}-{self.day}\")\n",
    "\n",
    "clock1 = Clock(2025, 8, 16)\n",
    "clock1.display_time()\n",
    "clock1.set_time(2026, 1, 1)\n",
    "clock1.display_time()"
   ]
  },
  {
   "cell_type": "markdown",
   "metadata": {},
   "source": [
    "# Part 3. 所谓的面向对象编程"
   ]
  },
  {
   "cell_type": "code",
   "execution_count": null,
   "metadata": {},
   "outputs": [],
   "source": [
    "# 示例 7.3.1\n",
    "\n",
    "class Clock:\n",
    "    def __init__(self, hour, minute, second):\n",
    "        self.hour = hour  # 公有\n",
    "        self._minute = minute # 保护\n",
    "        self.__second = second # 私有\n",
    "\n",
    "    def set_second(self, second):\n",
    "        if 0 <= second < 60:\n",
    "            self.__second = second\n",
    "        else:\n",
    "            print(\"错误：秒数必须在 0-59 之间！\")\n",
    "\n",
    "    def display_time(self):\n",
    "        # 在类的内部，可以自由访问所有成员\n",
    "        print(f\"时间是: {self.hour}:{self._minute}:{self.__second}\")\n",
    "\n",
    "# --- 外部代码 ---\n",
    "my_clock = Clock(10, 30, 59)\n",
    "\n",
    "# 访问公有成员\n",
    "my_clock.hour = 11 \n",
    "print(f\"公有小时: {my_clock.hour}\")\n",
    "\n",
    "# 访问保护成员 (不推荐，但可以)\n",
    "my_clock._minute = 25 \n",
    "print(f\"保护分钟: {my_clock._minute}\")\n",
    "\n",
    "# 尝试直接访问私有成员 (会报错 AttributeError)\n",
    "# print(my_clock.__second)\n",
    "\n",
    "# 尝试直接修改私有成员 (实际上是创建了一个新属性，并未修改原始的 __second)\n",
    "my_clock.__second = 99 \n",
    "print(my_clock.__second) # 输出 99\n",
    "my_clock.display_time() # 可以发现真正的秒数并未被修改\n",
    "\n",
    "# 通过我们提供的接口来修改\n",
    "my_clock.set_second(45)\n",
    "my_clock.display_time()\n",
    "\n",
    "my_clock.set_second(100)\n",
    "my_clock.display_time()"
   ]
  },
  {
   "cell_type": "code",
   "execution_count": null,
   "metadata": {},
   "outputs": [],
   "source": [
    "# 示例 7.3.2\n",
    "\n",
    "class Clock:\n",
    "    def __init__(self, hour, minute):\n",
    "        self.hour = hour\n",
    "        self.minute = minute\n",
    "\n",
    "    def display(self):\n",
    "        print(f\"当前时间: {self.hour:02d}:{self.minute:02d}\")\n",
    "\n",
    "# AlarmClock 继承自 Clock\n",
    "class AlarmClock(Clock):\n",
    "    def __init__(self, hour, minute, alarm_hour, alarm_minute):\n",
    "        # 使用 super() 调用父类的 __init__ 方法，完成 hour 和 minute 的初始化\n",
    "        super().__init__(hour, minute)\n",
    "        # 添加自己的新属性\n",
    "        self.alarm_hour = alarm_hour\n",
    "        self.alarm_minute = alarm_minute\n",
    "        self.is_alarm_on = False\n",
    "\n",
    "    # 添加自己的新方法\n",
    "    def set_alarm(self, on_off):\n",
    "        self.is_alarm_on = on_off\n",
    "        status = \"开启\" if on_off else \"关闭\"\n",
    "        print(f\"闹钟已{status}\")\n",
    "    \n",
    "    # 重写父类的 display 方法\n",
    "    def display(self):\n",
    "        super().display() # 可以先调用父类的方法打印时间\n",
    "        if self.is_alarm_on:\n",
    "            print(f\"闹钟设定于: {self.alarm_hour:02d}:{self.alarm_minute:02d}\")\n",
    "\n",
    "# --- 外部代码 ---\n",
    "# 创建父类实例\n",
    "basic_clock = Clock(10, 30)\n",
    "print(\"--- 基本时钟 ---\")\n",
    "basic_clock.display()\n",
    "\n",
    "# 创建子类实例\n",
    "my_alarm_clock = AlarmClock(10, 31, 7, 0)\n",
    "print(\"\\n--- 闹钟 ---\")\n",
    "my_alarm_clock.set_alarm(True)\n",
    "my_alarm_clock.display() # 调用的是子类重写后的 display 方法"
   ]
  }
 ],
 "metadata": {
  "kernelspec": {
   "display_name": "Python 3",
   "language": "python",
   "name": "python3"
  },
  "language_info": {
   "codemirror_mode": {
    "name": "ipython",
    "version": 3
   },
   "file_extension": ".py",
   "mimetype": "text/x-python",
   "name": "python",
   "nbconvert_exporter": "python",
   "pygments_lexer": "ipython3",
   "version": "3.10.2"
  }
 },
 "nbformat": 4,
 "nbformat_minor": 2
}
