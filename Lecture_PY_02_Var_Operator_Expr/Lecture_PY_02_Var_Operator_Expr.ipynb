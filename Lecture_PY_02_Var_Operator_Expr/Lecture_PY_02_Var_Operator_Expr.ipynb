{
 "cells": [
  {
   "cell_type": "markdown",
   "metadata": {},
   "source": [
    "# Python Lecture 2：**变量、运算符和表达式**\n",
    "\n",
    "*100% 纯人工敲键盘制作！不含任何 GPT 成分！*\n",
    "\n",
    "主要写作人：徐启翰"
   ]
  },
  {
   "cell_type": "markdown",
   "metadata": {},
   "source": [
    "### Python 基本语法：命名（关键字）、缩进、注释\n",
    "\n",
    "#### Python 标识符命名规定\n",
    "\n",
    "* 第一个字符必须是字母或下划线 `_` 。\n",
    "* 剩下的部分可由字母、数字及下划线组成。\n",
    "* 区分大小写。\n",
    "\n",
    "例如："
   ]
  },
  {
   "cell_type": "code",
   "execution_count": null,
   "metadata": {},
   "outputs": [],
   "source": [
    "# 示例 2.1.1 - 课件 p9\n",
    "\n",
    "si100p = 123\n",
    "SI100p = 456\n",
    "\n",
    "print(si100p)\n",
    "print(SI100p)\n",
    "# 预期结果：两者并非同一变量，所以两个语句输出不同"
   ]
  },
  {
   "cell_type": "code",
   "execution_count": null,
   "metadata": {},
   "outputs": [],
   "source": [
    "# 示例 2.1.2 - 课件 p9\n",
    "\n",
    "# 错误命名例：\n",
    "123abc = 3"
   ]
  },
  {
   "cell_type": "markdown",
   "metadata": {},
   "source": [
    "注意：违反命名规则**不一定**报错，但很可能会导致 Python 程序出现随机的异常行为。\n",
    "> 致正在自己阅读这份文档的同学们：\n",
    ">\n",
    "> 如果你使用 VS Code 打开此 Notebook 文件，你可能会发现上面的 `123abc` 的一部分被划上了红色波浪下划线。\n",
    ">\n",
    "> 波浪下划线标示了由 VS Code 自带的静态语法检查功能检查出的问题。红色下划线代表**错误 (Error)**，其几乎肯定会使程序停止运行；黄色下划线代表**警告 (Warning)**，其有几率使程序结果出错或产生异常行为。\n",
    ">\n",
    "> VS Code 检查出的问题也会统一显示在窗口下半部分的 `PROBLEMS（问题）` 选项卡中（如果窗口没有下半部分，可按快捷键 `Ctrl + J` 调出）。\n",
    ">\n",
    ">虽然在某些情况下 VS Code 会错误地认为正常代码中存在问题，但是要想让程序正常运行，最好先保证其没有被检查出任何问题。"
   ]
  },
  {
   "cell_type": "markdown",
   "metadata": {},
   "source": [
    "#### Python 关键字\n",
    "\n",
    "**关键字 (keyword)**：对于 Python 来说有特殊含义的词，这些词不能被用作标识符名称。\n",
    "\n",
    "> Python 内置的 `keyword` 模块记录有当前版本的所有关键字。"
   ]
  },
  {
   "cell_type": "code",
   "execution_count": null,
   "metadata": {},
   "outputs": [],
   "source": [
    "# 示例 2.1.3 - 课件 p11\n",
    "\n",
    "import keyword # 导入内置 keyword 模块\n",
    "print(keyword.kwlist) # 显示 keyword.kwlist 所记录的关键字"
   ]
  },
  {
   "cell_type": "code",
   "execution_count": null,
   "metadata": {},
   "outputs": [],
   "source": [
    "# 示例 2.1.4 - 课件 p11\n",
    "\n",
    "# 尝试用关键字作为标识符名称……\n",
    "and = 1"
   ]
  },
  {
   "cell_type": "markdown",
   "metadata": {},
   "source": [
    "#### Python 的注释\n",
    "\n",
    "**注释 (comment)** 是代码文件中不会被执行的文本。注释虽然不影响程序执行，但会使代码更容易被阅读和理解。\n",
    "\n",
    "**单行注释**：以 `#` 开头，**`#` 后直到行尾**的内容将被视为注释。\n",
    "\n",
    "**多行注释（近似）**：用三个单引号 `'''` 或双引号 `\"\"\"` 包括注释内容"
   ]
  },
  {
   "cell_type": "code",
   "execution_count": null,
   "metadata": {},
   "outputs": [],
   "source": [
    "# 示例 2.1.5 - 课件 p14\n",
    "\n",
    "# 我是单行注释！\n",
    "print(\"我能正常执行!\") # 我也是单行注释！\n",
    "# print(\"我怎么也变成注释了？我不会被执行了！\")"
   ]
  },
  {
   "cell_type": "code",
   "execution_count": null,
   "metadata": {},
   "outputs": [],
   "source": [
    "# 示例 2.1.6 - 课件 p15\n",
    "\n",
    "'''\n",
    "我是一个被用作注释的多行字符串。\n",
    "下面是一个 print 语句。\n",
    "\n",
    "空行不会打断多行字符串的效果。\n",
    "\n",
    "print(\"这行代码不会被执行\")\n",
    "'''\n",
    "\n",
    "print(\"这行代码可以被正常执行\")"
   ]
  },
  {
   "cell_type": "markdown",
   "metadata": {},
   "source": [
    "### 变量和基本数据类型"
   ]
  },
  {
   "cell_type": "markdown",
   "metadata": {},
   "source": [
    "**变量 (variable)**：用于存储数据的“容器”\n",
    "\n",
    "变量命名同样适用于开头所讲的命名规则。同时，命名应尽可能有意义并反映实际用途。"
   ]
  },
  {
   "cell_type": "code",
   "execution_count": null,
   "metadata": {},
   "outputs": [],
   "source": [
    "# 示例 2.3.1 - 课件 p20\n",
    "\n",
    "age = 25          # 整型数字变量，用于记录年龄\n",
    "height = 175.5    # 浮点型数字变量，用于记录身高\n",
    "                  #（注：Python 的浮点型是双精度浮点数）\n",
    "name = \"Alice\"    # 字符串变量，用于记录姓名\n",
    "is_student = True # 布尔型变量，用于标识是否为学生\n",
    "\n",
    "print(name)       # 输出 name, 我们使用标识符 name 访问了之前保存的字符串"
   ]
  },
  {
   "cell_type": "markdown",
   "metadata": {},
   "source": [
    "**Playground:** 实践使用变量赋值语句，并尝试借助变量进行简单数学计算。\n",
    "\n",
    "> Python 内置的 `type()` 能告诉我们变量属于哪个数据类型。"
   ]
  },
  {
   "cell_type": "code",
   "execution_count": null,
   "metadata": {},
   "outputs": [],
   "source": [
    "# 示例 2.3.2 - 课件 p25\n",
    "\n",
    "text_str = \"text\"        # 声明一个变量，赋值为字符串 \"text\"\n",
    "print( type(text_str) )  # str（字符串）类型\n",
    "\n",
    "print( type(age) )       # 在前面的示例声明的 age = 25\n",
    "\n",
    "age = 15                 # 给 age 赋值 15\n",
    "print(age)               # 输出 age 的值\n",
    "\n",
    "age = 20                 # 给 age 赋值 20\n",
    "\n",
    "# 简单加法：输出字面值结果 30\n",
    "# age 没有被重新赋值，其值仍为 20 不变\n",
    "print(age + 10)\n",
    "\n",
    "# Tips: 在 Notebook 中，如果代码单元格的最后一行是直接的变量或数据，\n",
    "# 执行此单元格后将在执行结果的最末尾直接输出其值\n",
    "age"
   ]
  },
  {
   "cell_type": "markdown",
   "metadata": {},
   "source": [
    "**等等……**"
   ]
  },
  {
   "cell_type": "code",
   "execution_count": null,
   "metadata": {},
   "outputs": [],
   "source": [
    "# 示例 2.3.3 - 课件 p26\n",
    "\n",
    "# 声明两个浮点型变量并赋值\n",
    "x = 0.1 \n",
    "y = 0.2\n",
    "print(type(x))\n",
    "print(type(y))\n",
    "\n",
    "print(\"x + y =\", x + y) # 为什么？\n",
    "\n",
    "x + y == 0.3 # 与 Python 中的 0.3 相等吗？"
   ]
  },
  {
   "cell_type": "markdown",
   "metadata": {},
   "source": [
    "#### 浮点型数字（浮点数）及其误差\n",
    "\n",
    "浮点数在计算机中以二进制存储：\n",
    "* 0.1 实际存储的值近似于十进制的 0.1000000000000000055511...\n",
    "* 0.2 实际存储的值近似于十进制的 0.2000000000000000111022...\n",
    "* 两个值相加，得到的结果近似于十进制下 0.3000000000000000444...\n",
    "  * 注：浮点数是以二进制形式相加，直接在十进制下相加的话并不和上面的结果相等。\n",
    "\n",
    "而 0.3 实际存储的值接近于 0.2999999999999999889... 因此会出现上述的 \"0.1 + 0.2 ≠ 0.3\".\n",
    "\n",
    "一般情况下，你可以通过舍去小数部分太小的尾数来解决；如果对计算精度要求较高，最好使用 `decimal` 等计算模块。"
   ]
  },
  {
   "cell_type": "code",
   "execution_count": null,
   "metadata": {},
   "outputs": [],
   "source": [
    "# 示例 2.3.4 - 课件 p29\n",
    "\n",
    "# 使用 decimal 模块中的 Decimal 类型\n",
    "from decimal import Decimal\n",
    "\n",
    "result = Decimal('0.1') + Decimal('0.2')\n",
    "print(result) # 0.3"
   ]
  },
  {
   "cell_type": "markdown",
   "metadata": {},
   "source": [
    "### 运算符与优先级\n",
    "\n",
    "基本算术运算符：`+`, `-`, `*`, `/`, `//`, `%`, `**`。\n",
    "\n",
    "* `//`（整除）为除法结果舍去小数位（取商）。\n",
    "* `%`（取余/求模）为取得两数相除后的余数。\n",
    "* `**` 为指数运算。"
   ]
  },
  {
   "cell_type": "code",
   "execution_count": null,
   "metadata": {},
   "outputs": [],
   "source": [
    "# 示例 2.4.1 - 课件 p32\n",
    "\n",
    "x = 5 # 变量 x 赋值为 5，类型为整型 (int)\n",
    "y = 3 # 变量 y 赋值为 3，类型为整型 (int)\n",
    "\n",
    "print(\"x + y =\", x + y)\n",
    "print(\"x - y =\", x - y)\n",
    "\n",
    "print()\n",
    "\n",
    "print(\"x * y =\", x * y)\n",
    "print(\"x / y =\", x / y)    # 除法运算，结果为浮点数\n",
    "\n",
    "print()\n",
    "\n",
    "print(\"x // y =\", x // y)  # 5 除以 3 商 1 余 2，取其商\n",
    "print(\"x % y =\", x % y)    # 5 除以 3 商 1 余 2，取其余数\n",
    "\n",
    "print()\n",
    "\n",
    "print(\"x ** y =\", x ** y)"
   ]
  },
  {
   "cell_type": "code",
   "execution_count": null,
   "metadata": {},
   "outputs": [],
   "source": [
    "# 示例 2.4.2 - 课件 p43\n",
    "\n",
    "ans = 3 * 3 + 5 % 3 + 16 ** (1/2)\n",
    "print(ans)\n",
    "type(ans)"
   ]
  },
  {
   "cell_type": "markdown",
   "metadata": {},
   "source": [
    "#### 基本输入输出\n",
    "\n",
    "输入输出 (Input/Output 简称 I/O) 是程序读取和输出数据的基本途径。\n",
    "\n",
    "有两种输入输出类型：标准 (Standard I/O) 和文件 (File).\n",
    "\n",
    "**标准输入输出**的操作目标是命令行/控制台，通常用于交互式环境。其中：\n",
    "\n",
    "* `input()` 用于从用户输入获取数据。\n",
    "* `print(x)` 用于在屏幕上打印变量 `x`（结尾附加一个换行）。\n",
    "  * `print(x, end=\"abc\")` 可以把结尾的换行符替换为 `abc`。\n",
    "  * 相似地，`print(x, end=\"\")` 可去掉默认附加的换行。\n",
    "\n",
    "* 使用 `input(x)` 可在接收输入时先输出变量 `x`，以便提示用户输入。\n",
    "* `input()` 将一切输入作为字符串 (`str`) 处理。\n",
    "* 使用 `print(x, y, ...)` 将在一行内依序输出 `x`, `y`, ...（以空格间隔）\n",
    "  * 例如 `print(\"非常好SI\", 100, \"P\")` 将输出 `非常好SI 100 P`.\n",
    "\n",
    "> 在 Notebook 中，`input()` 调起的输入框会出现在页面上方，如下图。\n",
    ">\n",
    "><img src=\"images/0-1.png\" width=\"50%\">"
   ]
  },
  {
   "cell_type": "code",
   "execution_count": null,
   "metadata": {},
   "outputs": [],
   "source": [
    "# 示例 2.4.3 - 课件 p44\n",
    "\n",
    "# 标准输入输出（Standard I/O）演示\n",
    "x = input(\"Please input a value for x: \")\n",
    "print(\"x =\", x)"
   ]
  },
  {
   "cell_type": "markdown",
   "metadata": {},
   "source": [
    "**文件输入输出**的操作目标是硬盘上的文件。\n",
    "\n",
    "可以使用 Python 内置的 `open()` 打开文件进行读取或写入操作："
   ]
  },
  {
   "cell_type": "code",
   "execution_count": null,
   "metadata": {},
   "outputs": [],
   "source": [
    "# 示例 2.4.4 - 课件 p45\n",
    "\n",
    "# 文件输入输出（File IO）演示\n",
    "\n",
    "filename = input(\"输入目标文件的文件名：\") # 获取目标文件名\n",
    "\n",
    "f = open(filename, \"r\")  # 以读取模式打开文件\n",
    "content = f.read()       # 读取文件全部内容\n",
    "\n",
    "f.close() # 关闭文件\n",
    "\n",
    "print(\"文件内容：\")\n",
    "print(\"===========\")\n",
    "print(content)           # 输出文件内容\n",
    "print(\"===========\")\n",
    "\n",
    "\n",
    "f = open(\"test.txt\", \"w\")  # 以覆写模式打开文件（此行执行后文件会被清空）\n",
    "\n",
    "f.write(\"Hello, World!\\n\") # 从文件开头覆盖写入字符串（\\n 意为换行符）\n",
    "f.write(\"This is a text.\") # 从上一操作处继续写入\n",
    "\n",
    "f.close()                  # 关闭文件\n",
    "\n",
    "print(\"文件已覆写。\")\n",
    "\n",
    "\n",
    "f = open(filename, \"r\")   # 以读取模式打开文件\n",
    "\n",
    "content = f.read()        # 读取文件全部内容\n",
    "\n",
    "f.close()                 # 关闭文件\n",
    "\n",
    "print(\"文件内容：\")\n",
    "print(\"===========\")\n",
    "print(content)            # 输出文件内容\n",
    "print(\"===========\")\n",
    "\n",
    "\n",
    "append_string = input(\"输入要附加到文件末尾的内容：\")\n",
    "\n",
    "f =  open(filename, \"a\") # 以附加模式打开（从文件末尾写入，不覆盖原有内容）\n",
    "\n",
    "f.write(append_string)   # 在文件末尾附加内容\n",
    "\n",
    "f.close()                # 关闭文件\n",
    "\n",
    "print(\"文件已写入。\")\n",
    "\n",
    "\n",
    "f = open(filename, \"r\")  # 以读取模式打开文件\n",
    "content = f.read()       # 读取文件全部内容\n",
    "print(\"文件内容：\")\n",
    "print(\"===========\")\n",
    "print(content)           # 输出文件内容\n",
    "print(\"===========\")"
   ]
  },
  {
   "cell_type": "markdown",
   "metadata": {},
   "source": [
    "#### 示例：A + B 问题\n",
    "接收用户输入的两个整数，计算并输出两者的和。\n"
   ]
  },
  {
   "cell_type": "code",
   "execution_count": null,
   "metadata": {},
   "outputs": [],
   "source": [
    "# 示例 2.4.5 - 课件 p46\n",
    "\n",
    "a = input(\"Input an integer a: \")   # 提示用户输入整数 a\n",
    "b = input(\"Input an integer b: \")   # 提示用户输入整数 b\n",
    "print(\"a + b =\", a + b)             # 输出 a + b"
   ]
  },
  {
   "cell_type": "markdown",
   "metadata": {},
   "source": [
    "为什么输出结果是两个数字连在一起？"
   ]
  },
  {
   "cell_type": "code",
   "execution_count": null,
   "metadata": {},
   "outputs": [],
   "source": [
    "# 示例 2.4.6 - 课件 p46\n",
    "\n",
    "print( type(a) )    # 输出 a 的类型\n",
    "print( type(b) )    # 输出 b 的类型"
   ]
  },
  {
   "cell_type": "markdown",
   "metadata": {},
   "source": [
    "我们发现：`a` 和 `b` 都是字符串 (`str`) ！为什么？\n",
    "\n",
    "前面提到……\n",
    "\n",
    "> `input()` **将一切输入作为字符串 (`str`) 处理**。\n",
    "\n",
    ">字符串支持加法运算 `+`，效果是将前后字符串相连接。\n",
    "\n",
    "因此，假如你分别输入了 `12` 和 `34`，输出的就是 `\"12\" + \"34\"` 的结果，也就是字符串 `\"1234\"`。\n",
    "\n",
    "然而我们想要处理的是数字（更确切地说，整型 `int`）。为此，我们需要将 `input()` 的结果转换为整型。"
   ]
  },
  {
   "cell_type": "markdown",
   "metadata": {},
   "source": [
    "#### 强制类型转换\n",
    "\n",
    "对于某一类型 `typename`，我们可以通过 `typename(x)` 强制转换数据 `x` 为 `typename` 类型。注意：此操作相当于运算符，并不是修改值，因此被操作的 `x` 是不会受影响的。"
   ]
  },
  {
   "cell_type": "code",
   "execution_count": null,
   "metadata": {},
   "outputs": [],
   "source": [
    "# 示例 2.4.7 - 课件 p49\n",
    "\n",
    "# 把上面的字符串 a 和 b 转换为整型……\n",
    "a_int = int(a)\n",
    "b_int = int(b)\n",
    "\n",
    "# 上两者均为整型\n",
    "print(\"a_int =\", a_int) # 输出由 a 向整型转化得到的 a_int 的值\n",
    "print(\"type(a_int) =\", type(a_int)) # 检查 a_int 类型是否和我们期望一致\n",
    "print(\"b_int =\", b_int)\n",
    "print(\"type(b_int) =\", type(b_int))\n",
    "\n",
    "# 原先的 a 和 b 没有受到影响\n",
    "print(\"type(a) =\", type(a))\n",
    "print(\"type(b) =\", type(b))"
   ]
  },
  {
   "cell_type": "markdown",
   "metadata": {},
   "source": [
    "把类型转换应用到我们一开始写的代码中，问题就解决了。"
   ]
  },
  {
   "cell_type": "code",
   "execution_count": null,
   "metadata": {},
   "outputs": [],
   "source": [
    "# 示例 2.4.8 - 课件 p49\n",
    "\n",
    "a_raw = input(\"Input an integer a：\") # input() 获取输入\n",
    "a = int(a_raw) # 将输入转换为 int 赋值给 a\n",
    "\n",
    "# 也可以这样做：（嵌套语句）\n",
    "b = int(input(\"Input an integer b：\")) # 将 input() 获取的输入先转换为 int 再赋值给 b\n",
    "\n",
    "print(\"a + b =\", a + b)"
   ]
  },
  {
   "cell_type": "markdown",
   "metadata": {},
   "source": [
    "注意：上面 `a` 和 `b` 的赋值流程虽然看起来不同，但结果是一样的。\n",
    "\n",
    "就像数学中嵌套两个函数形成复合函数 $f(g(x))$ 一样，Python 中允许类似“嵌套语句”的用法。上面对 `b` 的赋值语句即是将 `input()` 嵌套进了 `int()` 之中。"
   ]
  },
  {
   "cell_type": "markdown",
   "metadata": {},
   "source": [
    "### 比较运算符和布尔运算"
   ]
  },
  {
   "cell_type": "markdown",
   "metadata": {},
   "source": [
    "#### 比较运算符\n",
    "\n",
    "**比较运算符 (comparison operators)** 用于比较两个值，其结果是一个布尔值，代表该比较式是否成立。\n",
    "\n",
    "* `==` ：判断相等 **（注意是 2 个等号，不要与赋值运算符 `=` 混淆）**\n",
    "* `!=` ：判断不等\n",
    "* `>` ：判断大于\n",
    "* `<` ：判断小于\n",
    "* `>=` ：判断大于等于\n",
    "* `<=` ：判断小于等于"
   ]
  },
  {
   "cell_type": "code",
   "execution_count": null,
   "metadata": {},
   "outputs": [],
   "source": [
    "# 示例 2.5.1 - 课件 p52\n",
    "\n",
    "a = 3\n",
    "b = 3.0\n",
    "print(type(a), type(b))\n",
    "\n",
    "print(\"a == b:\", a == b)\n",
    "\n",
    "print(\"a + b:\", a + b <= a) # 比较运算符的优先级低于一般的算术运算符\n",
    "\n",
    "print(\"a != 1:\", a != 1)\n",
    "\n",
    "today = 4 # 今天是星期几？\n",
    "is_thursday = (today == 4) # 今天是星期四吗？\n",
    "print(\"is_thursday:\",is_thursday)\n",
    "\n",
    "m = 0.1 + 0.2\n",
    "print(\"m > 0.3:\", m > 0.3) # 还记得为什么吗？"
   ]
  },
  {
   "cell_type": "markdown",
   "metadata": {},
   "source": [
    "#### 布尔运算符与布尔运算\n",
    "\n",
    "\n",
    "**布尔运算符 (boolean operators)** 也称逻辑运算符 (logical operators)，其对布尔值进行布尔运算（也称逻辑运算）。\n",
    "\n",
    "| `A` | `B` | `A and B` | `A or B` | `not A` |\n",
    "| ---------- | ---------- | ------------------ | ----------------- | ----------------- |\n",
    "| `True`   | `True`   | `True`           | `True`          | `False`         |\n",
    "| `True`   | `False`  | `False`          | `True`          | (同上)            |\n",
    "| `False`  | `True`   | `False`          | `True`          | `True`          |\n",
    "| `False`  | `False`  | `False`          | `False`         | (同上)            |\n"
   ]
  },
  {
   "cell_type": "code",
   "execution_count": null,
   "metadata": {},
   "outputs": [],
   "source": [
    "# 示例 2.5.2 - 课件 p53\n",
    "\n",
    "s1 = True and False and True\n",
    "\n",
    "print(s1)\n",
    "print(not s1)\n"
   ]
  },
  {
   "cell_type": "markdown",
   "metadata": {},
   "source": [
    "#### 布尔运算符的短路求值\n",
    "\n",
    "- 在 `A and B and C and D and ...` 这样的表达式中，如果 `A` 为 `False`，则无论 `B`, `C`, `D` ... 的值如何，整个表达式必然为 `False`，因此后续的表达式就没有必要计算下去了。\n",
    "- 类似的，在 `A or B or C or D or ...` 中，如果 `A` 为 `True`，则整个表达式必然为 `True` 。 \n",
    "\n",
    "Python 的布尔运算符就能够这样“偷懒”。\n",
    "\n",
    "布尔运算符 `and` 和 `or` 是**短路运算符（short-circuit operators）**：其参数从左至右求值，一旦可以确定结果，就不再继续求值。"
   ]
  },
  {
   "cell_type": "code",
   "execution_count": null,
   "metadata": {},
   "outputs": [],
   "source": [
    "# 示例 2.5.3 - 课件 p54\n",
    "\n",
    "is_thursday = True       # 今天是星期四吗？\n",
    "you_have_money = False   # 你有钱吗？\n",
    "i_have_money = False     # 我有钱吗？\n",
    "hungry = False           # 我饿吗？\n",
    "kfc_nearby = False       # 附近有K*C吗？（虽然上科大校园里就有）\n",
    "\n",
    "# 需要你V我50吗？\n",
    "v_me_50 = is_thursday or you_have_money or i_have_money or hungry or kfc_nearby\n",
    "\n",
    "v_me_50"
   ]
  },
  {
   "cell_type": "markdown",
   "metadata": {},
   "source": [
    "### 逻辑表达式\n",
    "\n",
    "**逻辑表达式 (logical expression)** 用于判断多个条件是否满足某种逻辑关系，并返回布尔值作为结果（`True` 或 `False`）。"
   ]
  },
  {
   "cell_type": "markdown",
   "metadata": {},
   "source": [
    "**运算符优先级：**\n",
    "类型转换 > `**` > 正负号 (`+x`, `-x`) > [`*`, `/`, `//`, `%`] > [`+`, `-`] > 比较运算符 (`==`, `!=`, `<`, `<=`, `>`, `>=`) > 布尔运算符 (`and`, `or`, `not`, ...) > ..."
   ]
  },
  {
   "cell_type": "code",
   "execution_count": null,
   "metadata": {},
   "outputs": [],
   "source": [
    "# 示例 2.5.4 - 课件 p55\n",
    "\n",
    "# 假设有一基金投资系统：\n",
    "\n",
    "is_logged_in = False    # 你登录了吗？\n",
    "is_admin = True         # 你是管理员吗？\n",
    "is_approved = False     # 你通过了审核吗？\n",
    "account_balance = 2002  # 你的账户余额是多少？\n",
    "\n",
    "# 当用户的余额足够承担风险（超过基准线 1000 的两倍）、通过了审核且已经登录，方可进行购买操作\n",
    "# 但是管理员可以直接购买，不受上面条件的限制\n",
    "\n",
    "has_permission = (is_logged_in and is_approved and account_balance / 2 >= 1000) or is_admin"
   ]
  }
 ],
 "metadata": {
  "kernelspec": {
   "display_name": "base",
   "language": "python",
   "name": "python3"
  },
  "language_info": {
   "codemirror_mode": {
    "name": "ipython",
    "version": 3
   },
   "file_extension": ".py",
   "mimetype": "text/x-python",
   "name": "python",
   "nbconvert_exporter": "python",
   "pygments_lexer": "ipython3",
   "version": "3.12.4"
  }
 },
 "nbformat": 4,
 "nbformat_minor": 2
}
