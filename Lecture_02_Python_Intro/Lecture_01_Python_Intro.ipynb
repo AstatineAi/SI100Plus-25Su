{
 "cells": [
  {
   "cell_type": "markdown",
   "metadata": {},
   "source": [
    "## Lecture 1: 编程语言和Python简介\n",
    "\n",
    "### Python 基础语义 - 执行顺序\n",
    "\n",
    "运行下面的代码，看看输出结果是什么？"
   ]
  },
  {
   "cell_type": "code",
   "execution_count": null,
   "metadata": {},
   "outputs": [],
   "source": [
    "x = 123\n",
    "y = 456\n",
    "print(x + y)\n",
    "print(\"Hello, SI100+ 2024!\")"
   ]
  },
  {
   "cell_type": "markdown",
   "metadata": {},
   "source": [
    "可以发现，先输出了 $123 + 456$ 的结果 $579$，然后输出了 Hello, SI100+ 2024!\n",
    "\n",
    "试着调换一下两个含有 `print` 的行："
   ]
  },
  {
   "cell_type": "code",
   "execution_count": null,
   "metadata": {},
   "outputs": [],
   "source": [
    "x = 123\n",
    "y = 456\n",
    "print(\"Hello, SI100+ 2024!\")\n",
    "print(x + y)"
   ]
  },
  {
   "cell_type": "markdown",
   "metadata": {},
   "source": [
    "运行后发现，输出结果变成了 Hello, SI100+ 2024! 和 579，与之前的输出结果不同。\n",
    "\n",
    "Python 的执行顺序就是这样，从上到下，逐行执行。\n",
    "\n",
    "如果我们再调换一些代码的位置？"
   ]
  },
  {
   "cell_type": "code",
   "execution_count": null,
   "metadata": {},
   "outputs": [],
   "source": [
    "p = 123\n",
    "print(p + q)\n",
    "q = 456\n",
    "print(\"Hello, SI100+ 2024!\")"
   ]
  },
  {
   "cell_type": "markdown",
   "metadata": {},
   "source": [
    "代码运行出现了错误，因为从上到下执行，在执行 `print(p + q)` 时，还没有执行 `q = 456`，我们并没有得到这个 `q`，不能在 `print(p + q)` 中使用它。"
   ]
  },
  {
   "cell_type": "markdown",
   "metadata": {},
   "source": [
    "\n",
    "### Python 基础语义 - `print` 语句\n",
    "\n",
    "尝试运行下面的代码，看看会发生什么。"
   ]
  },
  {
   "cell_type": "code",
   "execution_count": null,
   "metadata": {},
   "outputs": [],
   "source": [
    "print(\"Hello, SI100+ 2024!\")"
   ]
  },
  {
   "cell_type": "code",
   "execution_count": null,
   "metadata": {},
   "outputs": [],
   "source": [
    "print(\"Hello, ShanghaiTech!\")"
   ]
  },
  {
   "cell_type": "markdown",
   "metadata": {},
   "source": [
    "总结“规律”：\n",
    "\n",
    "1. 两个 `print` 都输出了一行内容\n",
    "2. 两个 `print` 输出的内容和后面括号内的内容一致\n",
    "\n",
    "即，`print` 的含义是“输出括号内的内容”。\n",
    "\n",
    "举一反三，提取这个语法的结构：\n",
    "\n",
    "> 前面的内容 左括号( 中间的内容 )右括号\n",
    "\n",
    "前面，我们尝试替换了 `print` 后括号内的内容，但是依然局限于一些句子，如果替换成别的东西呢？"
   ]
  },
  {
   "cell_type": "code",
   "execution_count": null,
   "metadata": {},
   "outputs": [],
   "source": [
    "# 我们可不可以输出 print 本身\n",
    "print(print)"
   ]
  },
  {
   "cell_type": "code",
   "execution_count": null,
   "metadata": {},
   "outputs": [],
   "source": [
    "# 还能输出什么，试一试\n",
    "print(    )"
   ]
  },
  {
   "cell_type": "markdown",
   "metadata": {},
   "source": [
    "`print(print)` 得到了结果：`<built-in function print>`，也就是 `print` 确实把括号内的内容输出了，`print` 的含义就是一个内置的（built-in）函数。"
   ]
  },
  {
   "cell_type": "markdown",
   "metadata": {},
   "source": [
    "### Python 基础语义 - 形如 `x = y` 的语句\n",
    "\n",
    "我们用前面发现的 `print` 语句，来看看执行 `x = y` 起到了什么作用。"
   ]
  },
  {
   "cell_type": "code",
   "execution_count": null,
   "metadata": {},
   "outputs": [],
   "source": [
    "x = 123\n",
    "print(x)\n",
    "\n",
    "x = 456\n",
    "print(x)"
   ]
  },
  {
   "cell_type": "markdown",
   "metadata": {},
   "source": [
    "### Python 基础语义 - 数学表达式\n",
    "\n",
    "我们会在 “变量、运算符、表达式” 一节中详细讲述我们可以进行哪些数学运算。"
   ]
  },
  {
   "cell_type": "code",
   "execution_count": null,
   "metadata": {},
   "outputs": [],
   "source": [
    "x = 123 * 456 + 789\n",
    "print(x)"
   ]
  },
  {
   "cell_type": "markdown",
   "metadata": {},
   "source": [
    "### Python 基础语义 - 组合语句\n",
    "\n",
    "我们可以把上面的要素结合在一起。"
   ]
  },
  {
   "cell_type": "code",
   "execution_count": null,
   "metadata": {},
   "outputs": [],
   "source": [
    "x = 123\n",
    "y = 3 * x ** 2 + 2 * x + 1\n",
    "z = x * y - (x + y) ** 2\n",
    "print(y)\n",
    "print(z)"
   ]
  }
 ],
 "metadata": {
  "kernelspec": {
   "display_name": "si100+",
   "language": "python",
   "name": "python3"
  },
  "language_info": {
   "codemirror_mode": {
    "name": "ipython",
    "version": 3
   },
   "file_extension": ".py",
   "mimetype": "text/x-python",
   "name": "python",
   "nbconvert_exporter": "python",
   "pygments_lexer": "ipython3",
   "version": "3.12.4"
  }
 },
 "nbformat": 4,
 "nbformat_minor": 2
}
