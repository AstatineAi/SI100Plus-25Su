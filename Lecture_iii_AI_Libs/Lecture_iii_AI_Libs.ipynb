{
 "cells": [
  {
   "cell_type": "markdown",
   "metadata": {},
   "source": [
    "# Lecture iii: AI 工具库\n",
    "\n",
    "*100% 真人手敲制作！不含任何 GPT 成分！*\n",
    "\n",
    "Made with ♥ by SI100+ (2024) Staff."
   ]
  },
  {
   "cell_type": "markdown",
   "metadata": {},
   "source": [
    "## Part 1: NumPy\n",
    "\n",
    "在前面的课程中，我们了解到了 Python 中的 List 数据结构。在一个列表中，可以有多种类型的数据，列表中存储的 `int` 类型没有范围限制，可以存储任意大小的整数。但是，在机器学习等领域，我们通常需要处理大量的，在一定范围内的数据，因此我们可以按照这个特殊的使用场景对数据结构进行优化。 NumPy 库就提供了这样的功能。\n",
    "\n",
    "### 1.1 安装 NumPy\n",
    "\n",
    "使用 `conda` 或 `pip` 安装 NumPy 库\n",
    "\n",
    "运行下面的代码块以安装此 notebook 要用到的所有库。\n",
    "\n",
    "下载可能较慢，请耐心等待。\n",
    "\n",
    "若你在配置环境时创建的虚拟环境名称不是 `si100`，请将下面的代码块中的 `si100` 替换为你的虚拟环境名称。"
   ]
  },
  {
   "cell_type": "code",
   "execution_count": null,
   "metadata": {},
   "outputs": [],
   "source": [
    "!conda activate si100 && pip install -r ./requirements.txt -i https://pypi.tuna.tsinghua.edu.cn/simple"
   ]
  },
  {
   "cell_type": "markdown",
   "metadata": {},
   "source": [
    "### 1.2 NumPy 的基本对象 -- `ndarray`\n",
    "\n",
    "NumPy 的核心元素是 `ndarray`，它是一个多维数组。一个 `ndarray` 内的所有元素都是相同类型的，这样可以保证数组的存储效率和运算效率。"
   ]
  },
  {
   "cell_type": "code",
   "execution_count": null,
   "metadata": {},
   "outputs": [],
   "source": [
    "import numpy as np\n",
    "\n",
    "l = list(range(10))\n",
    "print(l)\n",
    "\n",
    "# 从 list 创建一个 numpy 数组\n",
    "numpy_l = np.array(l)\n",
    "print(numpy_l)\n",
    "\n",
    "print()\n",
    "\n",
    "# 当列表内有多种数据类型时，numpy 会将所有数据类型转换为同一种数据类型\n",
    "# 我们在后面只会使用到数字类型的数据，这里只是为了演示\n",
    "l = [1, 2, 3.1415, 'abc']\n",
    "print(l)\n",
    "\n",
    "numpy_l = np.array(l)\n",
    "print(numpy_l)"
   ]
  },
  {
   "cell_type": "code",
   "execution_count": null,
   "metadata": {},
   "outputs": [],
   "source": [
    "# ndarray 支持多维数组\n",
    "import numpy as np\n",
    "\n",
    "l = [[1, 2, 3], [4, 5, 6], [7, 8, 9]]\n",
    "\n",
    "numpy_l = np.array(l)\n",
    "print(numpy_l)"
   ]
  },
  {
   "cell_type": "markdown",
   "metadata": {},
   "source": [
    "### 1.3 `ndarray` 的属性\n",
    "\n",
    "类似于 Python 的 List，`ndarray` 也可以通过多维的下表索引来访问元素，可以进行切片操作等。\n",
    "\n",
    "在 NumPy 中，维度个数（嵌套层数）被称为轴（axis），轴的数量被称为秩（rank）。"
   ]
  },
  {
   "cell_type": "code",
   "execution_count": null,
   "metadata": {},
   "outputs": [],
   "source": [
    "# 获取数组的维度\n",
    "\n",
    "# 无嵌套的数组，形成一维的 ndarray\n",
    "l = [1, 2, 3, 4, 5]\n",
    "numpy_l = np.array(l)\n",
    "print(f\"使用 {l} 创建的 numpy_l 维度个数为: {numpy_l.ndim}\")\n",
    "\n",
    "# 嵌套了一层的数组，形成二维的 ndarray\n",
    "l = [[1, 2, 3], [4, 5, 6], [7, 8, 9]]\n",
    "numpy_l = np.array(l)\n",
    "print(f\"使用 {l} 创建的 numpy_l 维度个数为: {numpy_l.ndim}\")\n",
    "\n",
    "# 可以使用多维下标访问数组元素\n",
    "print(f\"列表 {l} 的第 2 行第 3 列的元素为: {l[1][2]}\")\n",
    "print(f\"numpy 数组 {numpy_l} 的第 2 行第 3 列的元素为: {numpy_l[1, 2]}\")"
   ]
  },
  {
   "cell_type": "markdown",
   "metadata": {},
   "source": [
    "`ndarray` 还有其他可以直接访问的属性：\n",
    "\n",
    "- `ndarray.shape`：数组的维度，返回一个元组，元组的长度就是数组的秩，每个元素的值对应于数组在该维度上的大小\n",
    "- `ndarray.size`：数组中元素的总数\n",
    "- `ndarray.dtype`：数组中元素的类型\n",
    "- `ndarray.itemsize`：数组中每个元素类型相同，在计算机内以相同大小的二进制数据存储，`itemsize` 属性返回数组中每个元素的大小（以字节为单位）"
   ]
  },
  {
   "cell_type": "code",
   "execution_count": null,
   "metadata": {},
   "outputs": [],
   "source": [
    "import numpy as np\n",
    "\n",
    "# 创建一个整数类型的数组\n",
    "l = np.array([[1, 2, 3], [4, 5, 6], [7, 8, 9]])\n",
    "\n",
    "print(l)\n",
    "print(f\"l 的维度个数为: {l.ndim}\")\n",
    "print(f\"每个维度的大小分别为: {l.shape}\")\n",
    "print(f\"l 内总元素个数为: {l.size}\")\n",
    "print(f\"l 的数据类型为: {l.dtype}\")\n",
    "\n",
    "print()\n",
    "\n",
    "# 创建一个浮点数类型的数组\n",
    "floating_l = np.array([[1.1, 2.5, 3.9], [4.3, 5.7, 6.1], [7.5, 8.9, 9.3]])\n",
    "print(floating_l)\n",
    "print(f\"floating_l 的数据类型为: {floating_l.dtype}\")"
   ]
  },
  {
   "cell_type": "markdown",
   "metadata": {},
   "source": [
    "### 1.4 `ndarray` 的限制\n",
    "\n",
    "- `ndarray` 中的所有元素都是相同类型的，这样可以保证数组的存储效率和运算效率\n",
    "- 创建多维数组时，要求每一维的大小相同"
   ]
  },
  {
   "cell_type": "code",
   "execution_count": null,
   "metadata": {},
   "outputs": [],
   "source": [
    "# 尝试用维度不一致的列表创建 ndarray\n",
    "# l 中的第三个元素是一个长度为 2 的列表，而前两个元素是长度为 3 的列表\n",
    "\n",
    "l = [[1, 2, 3], [4, 5, 6], [7, 8]]\n",
    "\n",
    "numpy_l = np.array(l)\n",
    "\n",
    "numpy_l"
   ]
  },
  {
   "cell_type": "markdown",
   "metadata": {},
   "source": [
    "### 1.5 创建与修改 `ndarray`\n",
    "\n",
    "在上面的例子中，我们使用了 `np.array()` 函数，从 Python 的 List 中创建了一个 `ndarray`。除此之外，NumPy 还提供了其他创建 `ndarray` 的方法。\n",
    "\n",
    "- `np.zeros(shape)`：创建一个指定形状的全 0 数组，`shape` 是一个元组，表示数组的形状，如 `(3, 4)` 表示一个 3 行 4 列的数组，`(2, 3, 4)` 表示一个 2 行 3 列 4 深度的三维数组\n",
    "- `np.ones(shape)`：创建一个指定形状的全 1 数组\n",
    "- `np.arange(start, stop, step)`：创建一个一维数组，从 `start` 开始，到 `stop` 结束，步长为 `step`\n",
    "- `np.linspace(start, stop, num)`：创建一个一维数组，从 `start` 开始，到 `stop` 结束，长度为 `num` 的等差数列，包含 `start` 和 `stop`"
   ]
  },
  {
   "cell_type": "code",
   "execution_count": null,
   "metadata": {},
   "outputs": [],
   "source": [
    "import numpy as np\n",
    "\n",
    "# 创建一个 3x3 的全 0 数组\n",
    "l = np.zeros((3, 3))\n",
    "print(\"3x3 的全 0 数组:\")\n",
    "print(l)\n",
    "print()\n",
    "\n",
    "print(f\"函数 zeros 产生的数组的默认数据类型为: {l.dtype}\")\n",
    "\n",
    "print()\n",
    "\n",
    "# 创建一个 2x3x4 的全 1 数组\n",
    "l = np.ones((2, 3, 4))\n",
    "print(\"2x3x4 的全 1 数组:\")\n",
    "print(l)\n",
    "print()\n",
    "\n",
    "# 创建一个 2x5 的全 7 数组\n",
    "l = np.full((2, 5), 7)\n",
    "print(\"2x5 的全 7 数组:\")\n",
    "print(l)\n",
    "print()\n",
    "\n",
    "# 创建一个从 0 到 9 的一维数组\n",
    "l = np.arange(10)\n",
    "print(\"从 0 到 9 的一维数组:\")\n",
    "print(l)\n",
    "print()\n",
    "\n",
    "# 创建一个从 0 到 2 的等间距长为 9 的数组\n",
    "l = np.linspace(0, 2, 9)\n",
    "print(\"从 0 到 2 的等间距长为 9 的数组:\")\n",
    "print(l)"
   ]
  },
  {
   "cell_type": "markdown",
   "metadata": {},
   "source": [
    "在创建数组的时候，可以手动指定数组中元素的类型，如 `np.zeros((3, 4), dtype=np.int32)`。"
   ]
  },
  {
   "cell_type": "code",
   "execution_count": null,
   "metadata": {},
   "outputs": [],
   "source": [
    "import numpy as np\n",
    "\n",
    "# 包含浮点数的列表，但我们指定了数据类型为整数\n",
    "l = np.array([[1.5, 2.7], [3.9, 4.1], [5.4, 6.2]], dtype=np.int64)\n",
    "\n",
    "l"
   ]
  },
  {
   "cell_type": "code",
   "execution_count": null,
   "metadata": {},
   "outputs": [],
   "source": [
    "import numpy as np\n",
    "\n",
    "# numpy.ones() 返回的多维数组的数据类型默认为 float64\n",
    "l = np.ones((2, 3))\n",
    "print(l)\n",
    "print(f\"l 的数据类型为: {l.dtype}\")\n",
    "\n",
    "# 通过指定 dtype 参数，可以指定返回的数组的数据类型\n",
    "l = np.ones((2, 3), dtype=np.int64)\n",
    "print(l)\n",
    "print(f\"l 的数据类型为: {l.dtype}\")"
   ]
  },
  {
   "cell_type": "markdown",
   "metadata": {},
   "source": [
    "在创建数组之后，可以通过多种方式修改数组的值，如直接赋值、切片赋值等。\n",
    "\n",
    "我们还可以使用 `np.reshape()` 函数或 `ndarray` 的 `reshape()` 方法改变数组的形状。但是要注意，改变形状之后，数组的元素个数不能发生变化。\n",
    "\n",
    "如，一个 4x6 的数组，可以改变为 3x8 的数组，但是不能改变为 5x5 的数组。"
   ]
  },
  {
   "cell_type": "code",
   "execution_count": null,
   "metadata": {},
   "outputs": [],
   "source": [
    "import numpy as np\n",
    "\n",
    "l = np.arange(24)\n",
    "print(\"通过 arange 创建的一维数组:\")\n",
    "print(l)\n",
    "\n",
    "# 将一维数组转换为 4x6 的二维数组\n",
    "l = l.reshape(4, 6)\n",
    "print(\"通过 reshape 转换为 4x6 的二维数组:\")\n",
    "print(l)"
   ]
  },
  {
   "cell_type": "code",
   "execution_count": null,
   "metadata": {},
   "outputs": [],
   "source": [
    "import numpy as np\n",
    "\n",
    "l = np.arange(24)\n",
    "print(\"通过 arange 创建的一维数组:\")\n",
    "print(l)\n",
    "\n",
    "# 只有变化后元素个数与原数组元素个数相等时，reshape 才能成功\n",
    "\n",
    "l = l.reshape(5, 5)"
   ]
  },
  {
   "cell_type": "markdown",
   "metadata": {},
   "source": [
    "### 1.6 `ndarray` 的运算\n",
    "\n",
    "`ndarray` 之间可以进行算术运算，运算规则和 Python 中的 List 不同，两个 `ndarray` 对应位置的元素会进行相应的运算，而 `ndarray` 和一个数进行运算时，会对 `ndarray` 中的每一个元素进行相应的运算。"
   ]
  },
  {
   "cell_type": "code",
   "execution_count": null,
   "metadata": {},
   "outputs": [],
   "source": [
    "import numpy as np\n",
    "\n",
    "a = np.arange(9).reshape(3, 3)\n",
    "b = np.ones((3, 3), dtype=np.int64)\n",
    "\n",
    "print(\"a:\")\n",
    "print(a)\n",
    "\n",
    "print(\"b:\")\n",
    "print(b)\n",
    "\n",
    "# 对应元素相加\n",
    "c = a + b\n",
    "\n",
    "print(\"a + b:\")\n",
    "print(c)\n",
    "\n",
    "print()\n",
    "\n",
    "# 对应元素相乘\n",
    "c = a * b\n",
    "\n",
    "print(\"a * b:\")\n",
    "print(c)\n",
    "\n",
    "print()\n",
    "\n",
    "# 数组内每个元素与一个标量进行运算\n",
    "c = a + 5\n",
    "\n",
    "print(\"a 内每个元素加 5:\")\n",
    "print(c)"
   ]
  },
  {
   "cell_type": "code",
   "execution_count": null,
   "metadata": {},
   "outputs": [],
   "source": [
    "import numpy as np\n",
    "\n",
    "# 特殊运算，矩阵乘法\n",
    "a = np.arange(1, 13).reshape(3, 4)\n",
    "b = np.arange(1, 13).reshape(4, 3)\n",
    "\n",
    "print(\"a:\")\n",
    "print(a)\n",
    "\n",
    "print(\"b:\")\n",
    "print(b)\n",
    "\n",
    "c = np.dot(a, b)\n",
    "print(\"a 与 b 的矩阵乘法结果:\")\n",
    "print(c)"
   ]
  },
  {
   "cell_type": "markdown",
   "metadata": {},
   "source": [
    "NumPy 还有一些其他的运算函数，如对 `ndarray` 的统计运算（求和、求平均值、求最大值、求最小值等）、对 `ndarray` 应用数学函数（如三角函数、指数函数等）等。"
   ]
  },
  {
   "cell_type": "code",
   "execution_count": null,
   "metadata": {},
   "outputs": [],
   "source": [
    "# 使用 ndarray 的方法进行运算\n",
    "import numpy as np\n",
    "\n",
    "a = np.random.randint(0, 100, 100)\n",
    "\n",
    "print(\"a:\")\n",
    "print(a)\n",
    "\n",
    "print(f\"a 中元素的和为: {a.sum()}\")\n",
    "print(f\"a 中元素的最小值为: {a.min()}\")\n",
    "print(f\"a 中元素的平均数为: {a.mean()}\")\n",
    "print(f\"a 中元素的标准差为: {a.std()}\")\n"
   ]
  },
  {
   "cell_type": "markdown",
   "metadata": {},
   "source": [
    "可以在 https://numpy.org/doc/stable/user/quickstart.html 查询 NumPy 的更多基础功能。"
   ]
  },
  {
   "cell_type": "markdown",
   "metadata": {},
   "source": [
    "### 1.7 NumPy 的优势\n",
    "\n",
    "NumPy 的优势在于比 Python 的 List 更加高效的存储和运算。\n",
    "\n",
    "下面的两个例子均为计算 5000x5000 的，一个全 0 一个全 1 的矩阵的和，可以看到 NumPy 的速度比原生 Python 快很多。\n",
    "\n",
    "如果数据量更大呢？计算过程更复杂呢？"
   ]
  },
  {
   "cell_type": "code",
   "execution_count": null,
   "metadata": {},
   "outputs": [],
   "source": [
    "# Python List 存储矩阵\n",
    "a = [[0 for _ in range(5000)] for _ in range(5000)]\n",
    "b = [[1 for _ in range(5000)] for _ in range(5000)]\n",
    "\n",
    "result = [[0 for _ in range(5000)] for _ in range(5000)]\n",
    "\n",
    "# 手动实现矩阵加法\n",
    "for i in range(500):\n",
    "    for j in range(500):\n",
    "        result[i][j] = a[i][j] + b[i][j]\n",
    "        \n",
    "result"
   ]
  },
  {
   "cell_type": "code",
   "execution_count": null,
   "metadata": {},
   "outputs": [],
   "source": [
    "# 使用 numpy 实现矩阵加法\n",
    "import numpy as np\n",
    "\n",
    "a = np.zeros((5000, 5000))\n",
    "b = np.ones((5000, 5000))\n",
    "\n",
    "result = a + b\n",
    "\n",
    "result"
   ]
  },
  {
   "cell_type": "markdown",
   "metadata": {},
   "source": [
    "## Part 2: PyTorch\n",
    "\n",
    "PyTorch 是一个开源的机器学习库，它提供了很多用于构建机器学习模型的工具。\n",
    "\n",
    "接下来我们会以 Lecture 8 中的感知机和 Lecture 9 中的多层感知机为例，展示如何使用 PyTorch 来实现训练模型与使用模型求解。\n",
    "\n",
    "### 2.1 安装 PyTorch\n",
    "\n",
    "在运行了 notebook 开头的代码块之后，你已经安装了 PyTorch。\n",
    "\n",
    "这里的 PyTorch 是基于 CPU 的版本，如果你想使用 GPU 来加速计算，卸载当前版本的 PyTorch，然后按照 [PyTorch 官网](https://pytorch.org/get-started/locally/) 的指引安装对应平台、对应 CUDA 版本的 PyTorch。\n",
    "\n",
    "### 2.2 任务描述\n",
    "\n",
    "通过 [Bank-Note-Authentication\n",
    "](https://www.kaggle.com/datasets/shanks0465/banknoteauthentication) 数据集里面采集的部分真钞与假钞的特征，我们将训练一个感知机模型，用于区分真钞与假钞。\n",
    "\n",
    "数据集中包含五列信息：\n",
    "\n",
    "1. 图像经小波变换后的方差(variance)\n",
    "2. 图像经小波变换后的偏态(skewness)\n",
    "3. 图像经小波变换后的峰度(curtosis)\n",
    "4. 图像的熵(entropy)\n",
    "5. 图像里的钞票类型（一个为 0 或 1 的整数）\n",
    "\n",
    "可以发现这是我们提到的二分类问题，我们可以取出两个特征，作为感知机训练用的点集 $\\left\\{(x_1^{(i)}, x_2^{(i)}, y^{(i)}\\right\\}$ 中的 $x_1^{(i)}$ 和 $x_2^{(i)}$，将钞票类型作为标签 $y^{(i)}$。\n",
    "\n",
    "<img src=\"./images/box.png\" width=\"75%\">"
   ]
  },
  {
   "cell_type": "code",
   "execution_count": 48,
   "metadata": {},
   "outputs": [
    {
     "name": "stdout",
     "output_type": "stream",
     "text": [
      "[[ 3.6216  -0.44699]\n",
      " [ 4.5459  -1.4621 ]\n",
      " [ 3.866    0.10645]\n",
      " ...\n",
      " [-3.7503  -2.7771 ]\n",
      " [-3.5637  -1.2823 ]\n",
      " [-2.5419   1.1952 ]]\n",
      "[0. 0. 0. ... 1. 1. 1.]\n"
     ]
    }
   ],
   "source": [
    "import numpy as np\n",
    "\n",
    "file_name = 'data_banknote_authentication.csv'\n",
    "\n",
    "data = np.loadtxt(file_name, delimiter=',')\n",
    "\n",
    "x = data[:, [0, 3]]\n",
    "y = data[:, 4]\n"
   ]
  }
 ],
 "metadata": {
  "kernelspec": {
   "display_name": "prac",
   "language": "python",
   "name": "python3"
  },
  "language_info": {
   "codemirror_mode": {
    "name": "ipython",
    "version": 3
   },
   "file_extension": ".py",
   "mimetype": "text/x-python",
   "name": "python",
   "nbconvert_exporter": "python",
   "pygments_lexer": "ipython3",
   "version": "3.12.4"
  }
 },
 "nbformat": 4,
 "nbformat_minor": 2
}
