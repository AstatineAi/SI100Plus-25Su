{
 "cells": [
  {
   "cell_type": "markdown",
   "metadata": {},
   "source": [
    "# SI 100+ Python Exercise 2\n",
    "\n",
    "*100% 真人手敲制作！不含任何 GPT 成分！*\n",
    "\n",
    "Made with ♥  by SI100+ (2025) Staff.\n",
    "\n",
    "---\n"
   ]
  },
  {
   "cell_type": "markdown",
   "metadata": {},
   "source": [
    "欢迎你点开这份 Notebook 文件！我们将带你快速巩固学过的知识！现在开始吧～\n",
    "\n",
    "点击每个代码块左上角的 ▶ 即可运行！\n",
    "\n",
    "> 请务必将下载下来的习题资料**全部解压**到特定文件夹，否则无法正常工作！"
   ]
  },
  {
   "cell_type": "code",
   "execution_count": null,
   "metadata": {},
   "outputs": [],
   "source": [
    "print(\"如果看到有输出，那么说明你配置成功啦！\")"
   ]
  },
  {
   "cell_type": "code",
   "execution_count": null,
   "metadata": {
    "_kg_hide-input": true,
    "_kg_hide-output": true
   },
   "outputs": [],
   "source": [
    "# 每次重启 Notebook 都需要重新运行这个代码！\n",
    "from learntools.core import binder; binder.bind(globals())\n",
    "from learntools.python.ex2 import *\n",
    "print(\"Setup complete! You're ready to start question 1.\")"
   ]
  },
  {
   "cell_type": "markdown",
   "metadata": {},
   "source": [
    "<hr/>\n",
    "\n",
    "## 1. 今天是疯狂星期四\n",
    "\n",
    "今天是疯狂星期四！由于你之前鸽了很多同学，现在你需要帮他们代购 K*C 才能平息他们的怒火。但是你鸽的人太多了，点餐小程序不幸地崩溃了，为了不当大冤种，你希望用 Python 计算**最少需要花多少钱**。\n",
    "\n",
    "在下一个代码单元中，创建一个有三个参数的函数  `calculate_price`，接受三个参数 `nuggs`，`fries` 和 `drink`，分别代表鸡块、薯条和饮料的数量。函数应该返回一个整数，表示买这些食物的总价。\n",
    "\n",
    "这个函数应该返回你恰好买到满足需求的餐食**最少**需要花多少钱。\n",
    "\n",
    "菜单如下：\n",
    "\n",
    "- 一份鸡块 10 元\n",
    "- 一份薯条 5 元\n",
    "- 一杯饮料 2 元\n",
    "- 一份鸡块加一份薯条的套餐 12 元\n",
    "- 菜单上任何一项都可以点无数次\n",
    "\n",
    "例如 \n",
    "\n",
    "- 一份鸡块一杯饮料应该返回 12\n",
    "- 两份鸡块一份薯条应该返回 22 （套餐 12 + 10）"
   ]
  },
  {
   "cell_type": "code",
   "execution_count": null,
   "metadata": {},
   "outputs": [],
   "source": [
    "def calculate_price(nuggs, fries, drink):\n",
    "    pass # 删除这行后，开始写你的代码\n",
    "\n",
    "q1.check()"
   ]
  },
  {
   "cell_type": "code",
   "execution_count": null,
   "metadata": {},
   "outputs": [],
   "source": [
    "q1.hint()"
   ]
  },
  {
   "cell_type": "markdown",
   "metadata": {},
   "source": [
    "<hr/>\n",
    "\n",
    "# 4. K*C 决策器\n",
    "\n",
    "做一个 K*C 决策器\n",
    "\n",
    "众所周知，上科大 K*C 常年位居学校食堂评比第一名不动摇，热爱 疯狂星期四 的你决定下完课就去吃肯德基。\n",
    "\n",
    "但你不是什么时候都想吃的，这取决于很多因素，例如：今天是不是星期四？你的零花钱够不够？有没有吃腻？有没有人愿意和你拼 30 块鸡块？诸如此类……\n",
    "\n",
    "太麻烦了，你决定用你新学的 Python 来编写一个肯德基决策器，只需要按逻辑编写好，每天只需修改对应的数据，就帮你自动生成去不去吃肯德基！\n",
    "\n",
    "注意，如果不记得了，可以去复习复习 “逻辑表达式”"
   ]
  },
  {
   "cell_type": "code",
   "execution_count": null,
   "metadata": {},
   "outputs": [],
   "source": [
    "def is_KFC_wanted( # 不用管这里奇奇怪怪的换行，只是为了让代码注释更好看\n",
    "        is_thursday, # 是否是周四\n",
    "        is_opened, # KFC 是否营业\n",
    "        is_hungry, # 是否饿了\n",
    "        has_nuggets_friends, # 是否拼鸡块的朋友\n",
    "        is_full, # 是否全是人\n",
    "        wallet_money, # 钱包里的钱\n",
    "        ):\n",
    "##################### 请不要改上面所有的代码 ######################\n",
    "\n",
    "    # 你只有在这些情况下会去吃 KFC\n",
    "    # 1. 首先，营业是必需的，否则你根本去不了\n",
    "    # 2. 其次，钱包里至少（大于等于）有 50 块钱也是必需的，否则你买不起\n",
    "    # 3. 如果是周四，而且有人和你拼鸡块的话，人多也没有关系，因为有优惠\n",
    "    # 4. 如果你饿了，而且人不多，那么你一定会去吃\n",
    "\n",
    "    # 请只用一个 return 语句写完你的答案\n",
    "    pass\n",
    "\n",
    "\n",
    "# Check your answer\n",
    "q4.check()"
   ]
  },
  {
   "cell_type": "code",
   "execution_count": null,
   "metadata": {},
   "outputs": [],
   "source": [
    "# q4.hint()\n",
    "# q4.solution()"
   ]
  },
  {
   "cell_type": "markdown",
   "metadata": {},
   "source": [
    "# Keep Going\n",
    "\n",
    "太强了！你已经完成了我们第二次试炼！"
   ]
  },
  {
   "cell_type": "markdown",
   "metadata": {},
   "source": [
    "---\n",
    "\n",
    "有任何疑问，欢迎到 Piazza 发帖～～～"
   ]
  }
 ],
 "metadata": {
  "kaggle": {
   "accelerator": "none",
   "dataSources": [],
   "isGpuEnabled": false,
   "isInternetEnabled": false,
   "language": "python",
   "sourceType": "notebook"
  },
  "kernelspec": {
   "display_name": "Python 3",
   "language": "python",
   "name": "python3"
  },
  "language_info": {
   "codemirror_mode": {
    "name": "ipython",
    "version": 3
   },
   "file_extension": ".py",
   "mimetype": "text/x-python",
   "name": "python",
   "nbconvert_exporter": "python",
   "pygments_lexer": "ipython3",
   "version": "3.12.4"
  },
  "learntools_metadata": {
   "lesson_index": 0,
   "type": "exercise"
  }
 },
 "nbformat": 4,
 "nbformat_minor": 4
}
