{
 "cells": [
  {
   "cell_type": "markdown",
   "id": "c5b024d1",
   "metadata": {},
   "source": [
    "<hr/>\n",
    "\n",
    "### 2. V 我 50\n",
    "\n",
    "你帮同学们代购了 K\\*C，现在你需要收款，但是由于你在催同学付款的时候还在水群，一不小心把没有买 K\\*C 也放进了收款名单里面，从名单里面把没有买 K\\*C 的同学剔除，然后把忘记加上的同学加入名单吧！\n",
    "\n",
    "在下面的代码块中使用 `list` 内置的一些方法，将没有让你代购 K\\*C 的 `Zambar` 同学从名单中剔除，并且加上买了 K\\*C 的 `Asta` 同学。"
   ]
  },
  {
   "cell_type": "code",
   "execution_count": null,
   "id": "dc8b4ed2",
   "metadata": {},
   "outputs": [],
   "source": [
    "buyer_list = [\"Alice\", \"Bob\", \"Li Hua\", \"Zambar\", \"hypoxanthine\"]\n",
    "\n",
    "# Your code here.\n",
    "\n",
    "q2.check()"
   ]
  },
  {
   "cell_type": "code",
   "execution_count": null,
   "id": "2855161a",
   "metadata": {},
   "outputs": [],
   "source": [
    "q2.hint()"
   ]
  },
  {
   "cell_type": "markdown",
   "id": "f63f7818",
   "metadata": {},
   "source": [
    "<hr/>\n",
    "\n",
    "### 3. 计算课程等第\n",
    "\n",
    "你需要实现一个简化的等第计算函数，输入课程每个部分的分数和权重，输出最终的等第。\n",
    "\n",
    "等第的规则如下：\n",
    "\n",
    "| 分数 | 等第 |\n",
    "| --- | --- |\n",
    "| 90-100 | A |\n",
    "| 80-89 | B |\n",
    "| 70-79 | C |\n",
    "| 60-69 | D |\n",
    "| 0-59 | F |\n",
    "\n",
    "下面的函数已经大致实现了这个功能，补全缺少的部分，并且修改错误的部分："
   ]
  },
  {
   "cell_type": "code",
   "execution_count": null,
   "id": "289b1d6d",
   "metadata": {},
   "outputs": [],
   "source": [
    "from typing import List, Tuple\n",
    "\n",
    "def calculate_grade(s_p_list: List[Tuple[int, float]]) -> str:\n",
    "    # s_p_list 是一个包含了每部分分数和对应的权重的列表\n",
    "    # 每部分分数总是整数，而权重总是小数\n",
    "    # 根据 Typing 的提示，尝试理解给分列表 s_p_list 的格式是什么\n",
    "    total_score = 0\n",
    "    \n",
    "    # score 应该是按照每部分分数和权重计算得到的加权平均数\n",
    "    # 实现计算 score 的逻辑\n",
    "    \n",
    "    # 使用循环遍历 s_p_list\n",
    "    \n",
    "    # 下面的判断 score 的逻辑正确吗？\n",
    "    result = \"No grade\"\n",
    "    \n",
    "    if total_score >= 90:\n",
    "        result = \"A\"\n",
    "    if total_score >= 80:\n",
    "        result = \"B\"\n",
    "    if total_score >= 70:\n",
    "        result = \"C\"\n",
    "    if total_score >= 60:\n",
    "        result = \"D\"\n",
    "    if total_score < 60:\n",
    "        result = \"F\"\n",
    "            \n",
    "    return result\n",
    "\n",
    "\n",
    "\n",
    "# Check your answer\n",
    "q3.check()"
   ]
  },
  {
   "cell_type": "code",
   "execution_count": null,
   "id": "4b4b0ba4",
   "metadata": {},
   "outputs": [],
   "source": [
    "q3.hint()"
   ]
  },
  {
   "cell_type": "code",
   "execution_count": null,
   "id": "345a48f6",
   "metadata": {},
   "outputs": [],
   "source": [
    "q3.solution()"
   ]
  }
 ],
 "metadata": {
  "language_info": {
   "name": "python"
  }
 },
 "nbformat": 4,
 "nbformat_minor": 5
}
