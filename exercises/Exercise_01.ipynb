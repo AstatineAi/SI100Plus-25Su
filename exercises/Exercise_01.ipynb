{
 "cells": [
  {
   "cell_type": "markdown",
   "metadata": {},
   "source": [
    "# SI 100+ Python Exercise 1\n",
    "\n",
    "*100% 真人手敲制作！不含任何 GPT 成分！*\n",
    "\n",
    "Made with ♥  by SI100+ (2025) Staff.\n",
    "\n",
    "---\n"
   ]
  },
  {
   "cell_type": "markdown",
   "metadata": {},
   "source": [
    "欢迎你点开这份 Notebook 文件！我们将带你快速巩固学过的知识！现在开始吧～\n",
    "\n",
    "点击每个代码块左上角的 ▶ 即可运行！\n",
    "\n",
    "> 请务必将下载下来的习题资料**全部解压**到特定文件夹，否则无法正常工作！"
   ]
  },
  {
   "cell_type": "code",
   "execution_count": 1,
   "metadata": {},
   "outputs": [
    {
     "name": "stdout",
     "output_type": "stream",
     "text": [
      "如果看到有输出，那么说明你配置成功啦！\n"
     ]
    }
   ],
   "source": [
    "print(\"如果看到有输出，那么说明你配置成功啦！\")"
   ]
  },
  {
   "cell_type": "markdown",
   "metadata": {},
   "source": [
    "尝试在上面的代码块中添加一行，并运行！看看会发生什么！\n",
    "\n",
    "接下来，让我们熟悉一下 Notebook 环境的一些基本操作：\n",
    "- 点击上方的代码块，进入编辑\n",
    "- 按下键盘左上角的 `ESC` 键，蓝色的焦点框会消失，但是左侧的竖线仍然还在\n",
    "- 按下 `a` 或者 `b` 键，`a` (above)会在当前代码块上方添加一个代码块，`b` (below) 会在当前代码块下方添加一个代码块。\n",
    "- 鼠标悬浮在某一个代码块下方，会出现 `+ Code`, `+ Markdown` 的按钮\n",
    "    - `+ Code` 也会在它所在的位置插入一个代码块\n",
    "    - `+ Markdown` 会在所在位置插入一个 `Markdown` 块，它负责文本的部分。\n",
    "\n",
    "> 没有听说过 Markdown? 不要紧，你可以去网上搜索，他是一个用来标记的语言，可以用简单的符号来实现类似于 Word 的排版功能，你也可以将它用作纯文本用。事实上，你现在看到的文字就是由 Markdown 书写的。Markdown 也非常适合用来做笔记，如果想要了解 Markdown，可以自己探索，也可以在 Piazza 上面发帖，我们有可能也会出一期 Markdown 教程（虽然它也很容易上手！）\n",
    "\n",
    "好极了！你已经熟悉它的使用了！\n",
    "\n",
    "接下来运行下面一个代码块来开始这个练习吧！（每次重启 Notebook 都需要运行这个代码！）"
   ]
  },
  {
   "cell_type": "code",
   "execution_count": null,
   "metadata": {
    "_kg_hide-input": true,
    "_kg_hide-output": true
   },
   "outputs": [],
   "source": [
    "from learntools.core import binder; binder.bind(globals())\n",
    "from learntools.python.ex1 import *\n",
    "print(\"Setup complete! You're ready to start question 0.\")"
   ]
  },
  {
   "cell_type": "markdown",
   "metadata": {},
   "source": [
    "# 0.\n",
    "\n",
    "下面的问题非常简单，猜猜某 Staff 喜欢的颜色 **（英文）**。\n",
    "\n",
    "为了回答此问题，你只需要在下面的代码块中创建一个名为 `color` 的变量，并为其指定适当的字符串值即可。\n",
    "我们已经写好了 `q0.check()` 用来检查答案，你只需要替换掉 `pass` 并完成代码就好\n",
    "\n",
    "另：pass 是什么？ pass 是一个空语句，它不做任何事情，一般用做占位语句。"
   ]
  },
  {
   "cell_type": "code",
   "execution_count": null,
   "metadata": {},
   "outputs": [],
   "source": [
    "# Your code here.\n",
    "pass\n",
    "\n",
    "# Check your answer\n",
    "q0.check()"
   ]
  },
  {
   "cell_type": "markdown",
   "metadata": {},
   "source": [
    "答案错误？没关系，下面我们附上了两个被注释掉的语句，光标放到该语句，使用 `Ctrl` + `/` 就可以取消注释\n",
    "\n",
    "取消注释后，运行下面的代码，就可以查看提示和答案了！"
   ]
  },
  {
   "cell_type": "code",
   "execution_count": null,
   "metadata": {},
   "outputs": [],
   "source": [
    "# q0.hint()\n",
    "# q0.solution()"
   ]
  },
  {
   "cell_type": "markdown",
   "metadata": {},
   "source": [
    "接下来的问题以相同的方式工作。唯一会改变的是问题编号。对于下一个问题，您将调用 `q1.check()`、`q1.hint()`、`q1.solution()`，对于问题 2，您将调用 `q2.check()`，依此类推。"
   ]
  },
  {
   "cell_type": "markdown",
   "metadata": {},
   "source": [
    "<hr/>\n",
    "\n",
    "# 1. 圆的半径面积计算器\n",
    "\n",
    "你需要根据我们给出的圆的直径和 `pi` 的值，合理地赋值半径和面积两个变量。不用输出，我们会直接检查你的变量是否正确。\n",
    "\n",
    "下面给出了 Python 的基本运算符，也许有点帮助\n",
    "\n",
    "| Operator     | Name           | Description                                            |\n",
    "|--------------|----------------|--------------------------------------------------------|\n",
    "| ``a + b``    | Addition       | Sum of ``a`` and ``b``                                 |\n",
    "| ``a - b``    | Subtraction    | Difference of ``a`` and ``b``                          |\n",
    "| ``a * b``    | Multiplication | Product of ``a`` and ``b``                             |\n",
    "| ``a / b``    | True division  | Quotient of ``a`` and ``b``                            |\n",
    "| ``a // b``   | Floor division | Quotient of ``a`` and ``b``, removing fractional parts |\n",
    "| ``a % b``    | Modulus        | Integer remainder after division of ``a`` by ``b``     |\n",
    "| ``a ** b``   | Exponentiation | ``a`` raised to the power of ``b``                     |\n",
    "| ``-a``       | Negation       | The negative of ``a``                                  |\n",
    "\n",
    "<span style=\"display:none\"></span>\n"
   ]
  },
  {
   "cell_type": "code",
   "execution_count": null,
   "metadata": {},
   "outputs": [],
   "source": [
    "pi = 3.14159 # 这是一个估计值\n",
    "diameter = 3\n",
    "\n",
    "# 现在请创建一个名为 'radius' 的变量，其值等于直径的一半\n",
    "pass\n",
    "\n",
    "# 现在请创建一个名为 'area' 的变量，其值等于半径平方乘以 pi\n",
    "pass\n",
    "\n",
    "# Check your answer\n",
    "q1.check()"
   ]
  },
  {
   "cell_type": "code",
   "execution_count": null,
   "metadata": {},
   "outputs": [],
   "source": [
    "# 需要帮助？请取消注释 q1.hint() 或 q1.solution() 并运行\n",
    "#q1.hint()\n",
    "#q1.solution()"
   ]
  },
  {
   "cell_type": "markdown",
   "metadata": {},
   "source": [
    "<hr/>\n",
    "\n",
    "# 2.交换变量\n",
    "\n",
    "让我们来尝试交换 `a`, `b` 变量的值"
   ]
  },
  {
   "cell_type": "code",
   "execution_count": null,
   "metadata": {},
   "outputs": [],
   "source": [
    "####################### 这一段并不需要更改！ ############################\n",
    "# 如果你好奇的话，这是两个列表类型的变量\n",
    "# 我们将在下面的问题中使用它\n",
    "\n",
    "a = [1, 2, 3]\n",
    "b = [3, 2, 1]\n",
    "q2.store_original_ids() # 这里我们保存了一份原始的数据，以便稍后检查你的答案\n",
    "######################################################################\n",
    "\n",
    "# Your code here.\n",
    "\n",
    "######################################################################\n",
    "\n",
    "# Check your answer\n",
    "q2.check()"
   ]
  },
  {
   "cell_type": "code",
   "execution_count": null,
   "metadata": {},
   "outputs": [],
   "source": [
    "#q2.hint()"
   ]
  },
  {
   "cell_type": "code",
   "execution_count": null,
   "metadata": {},
   "outputs": [],
   "source": [
    "#q2.solution()"
   ]
  },
  {
   "cell_type": "markdown",
   "metadata": {},
   "source": [
    "<hr/>\n",
    "\n",
    "# 3a. “24” 点\n",
    "\n",
    "往下面的代码中添加一些括号，让他值为 1"
   ]
  },
  {
   "cell_type": "code",
   "execution_count": null,
   "metadata": {},
   "outputs": [],
   "source": [
    "5 - 3 // 2"
   ]
  },
  {
   "cell_type": "code",
   "execution_count": null,
   "metadata": {},
   "outputs": [],
   "source": [
    "#q3.a.hint()"
   ]
  },
  {
   "cell_type": "code",
   "execution_count": null,
   "metadata": {},
   "outputs": [],
   "source": [
    "# 我们其实没办法检查你的答案，所以这里只是展示了一个可能的解法，运行了就算你对吧～\n",
    "q3.a.solution()"
   ]
  },
  {
   "cell_type": "markdown",
   "metadata": {},
   "source": [
    "# 3b. 【有点小难】的“24”点\n",
    "\n",
    "添加括号，让下面的代码结果为 0"
   ]
  },
  {
   "cell_type": "code",
   "execution_count": null,
   "metadata": {},
   "outputs": [],
   "source": [
    "8 - 3 * 2 - 1 + 1"
   ]
  },
  {
   "cell_type": "code",
   "execution_count": null,
   "metadata": {},
   "outputs": [],
   "source": [
    "#q3.b.hint()"
   ]
  },
  {
   "cell_type": "code",
   "execution_count": null,
   "metadata": {},
   "outputs": [],
   "source": [
    "# 运行查看答案\n",
    "q3.b.solution()"
   ]
  },
  {
   "cell_type": "markdown",
   "metadata": {},
   "source": [
    "# Keep Going\n",
    "\n",
    "非常好！你已经完成了我们第一次试炼！"
   ]
  },
  {
   "cell_type": "markdown",
   "metadata": {},
   "source": [
    "---\n",
    "\n",
    "有任何疑问，欢迎到 Piazza 发帖～～～"
   ]
  }
 ],
 "metadata": {
  "kaggle": {
   "accelerator": "none",
   "dataSources": [],
   "isGpuEnabled": false,
   "isInternetEnabled": false,
   "language": "python",
   "sourceType": "notebook"
  },
  "kernelspec": {
   "display_name": "base",
   "language": "python",
   "name": "python3"
  },
  "language_info": {
   "codemirror_mode": {
    "name": "ipython",
    "version": 3
   },
   "file_extension": ".py",
   "mimetype": "text/x-python",
   "name": "python",
   "nbconvert_exporter": "python",
   "pygments_lexer": "ipython3",
   "version": "3.11.7"
  },
  "learntools_metadata": {
   "lesson_index": 0,
   "type": "exercise"
  }
 },
 "nbformat": 4,
 "nbformat_minor": 4
}
