{
 "cells": [
  {
   "cell_type": "markdown",
   "metadata": {},
   "source": [
    "# Python Lecture 4：**控制流**\n",
    "\n",
    "*100% 真人手敲制作！不含任何 GPT 成分！*\n",
    "\n",
    "Made with ♥  by SI100+ (2024) Staff."
   ]
  },
  {
   "cell_type": "markdown",
   "metadata": {},
   "source": [
    "# 00. 控制流是什么"
   ]
  },
  {
   "cell_type": "markdown",
   "metadata": {},
   "source": [
    "## 01. 条件语句"
   ]
  },
  {
   "cell_type": "markdown",
   "metadata": {},
   "source": [
    "### `if`, `if-else`, `if-elif-else`"
   ]
  },
  {
   "cell_type": "code",
   "execution_count": 37,
   "metadata": {},
   "outputs": [
    {
     "name": "stdout",
     "output_type": "stream",
     "text": [
      "x is a positive number\n"
     ]
    }
   ],
   "source": [
    "x = 10\n",
    "if x > 0:\n",
    "    print(\"x is a positive number\")"
   ]
  },
  {
   "cell_type": "code",
   "execution_count": 38,
   "metadata": {},
   "outputs": [
    {
     "name": "stdout",
     "output_type": "stream",
     "text": [
      "x is not a positive number\n"
     ]
    }
   ],
   "source": [
    "x = -10\n",
    "if x > 0:\n",
    "    print(\"x is a positive number\")\n",
    "else:\n",
    "    print(\"x is not a positive number\")"
   ]
  },
  {
   "cell_type": "code",
   "execution_count": 39,
   "metadata": {},
   "outputs": [
    {
     "name": "stdout",
     "output_type": "stream",
     "text": [
      "x is zero\n"
     ]
    }
   ],
   "source": [
    "x = 0\n",
    "if x > 0:\n",
    "    print(\"x is a positive number\")\n",
    "elif x < 0:\n",
    "    print(\"x is a negative number\")\n",
    "else:\n",
    "    print(\"x is zero\")"
   ]
  },
  {
   "cell_type": "code",
   "execution_count": 41,
   "metadata": {},
   "outputs": [
    {
     "name": "stdout",
     "output_type": "stream",
     "text": [
      "x < 1\n"
     ]
    }
   ],
   "source": [
    "x = 0\n",
    "if x > 1:\n",
    "    print(\"x > 1\")\n",
    "elif x < 1: # 中间的条件已经满足，后面的条件不会再判断\n",
    "    print(\"x < 1\") \n",
    "elif x == 0:\n",
    "    print(\"x is zero\")"
   ]
  },
  {
   "cell_type": "markdown",
   "metadata": {},
   "source": [
    "- 大家可以更改 `x` 的值，看看是否符合预期"
   ]
  },
  {
   "cell_type": "code",
   "execution_count": 42,
   "metadata": {},
   "outputs": [
    {
     "name": "stdout",
     "output_type": "stream",
     "text": [
      "Huge\n"
     ]
    }
   ],
   "source": [
    "x = 50\n",
    "if x < 2:\n",
    "    print('Small')\n",
    "else:\n",
    "    if x < 10:\n",
    "        print('Medium')\n",
    "    elif x < 20:\n",
    "        print('Big')\n",
    "    elif x < 100:\n",
    "        print('Huge')\n",
    "    else:\n",
    "        print('Ginormous')"
   ]
  },
  {
   "cell_type": "markdown",
   "metadata": {},
   "source": [
    "### `While` 循环"
   ]
  },
  {
   "cell_type": "code",
   "execution_count": 5,
   "metadata": {},
   "outputs": [
    {
     "name": "stdout",
     "output_type": "stream",
     "text": [
      "很内向，吃饱了也不说话，就一直吃吃吃吃吃吃吃吃吃吃\n",
      "吃饱了\n"
     ]
    }
   ],
   "source": [
    "hungry = 10 # 如饱\n",
    "print(\"很内向，吃饱了也不说话，就一直\", end=\"\")\n",
    "\n",
    "while hungry > 0:\n",
    "    print(\"吃\", end=\"\")\n",
    "    hungry = hungry - 1\n",
    "\n",
    "print()\n",
    "print(\"吃饱了\")"
   ]
  },
  {
   "cell_type": "markdown",
   "metadata": {},
   "source": [
    "### Example: 一个猜数字小游戏"
   ]
  },
  {
   "cell_type": "code",
   "execution_count": 6,
   "metadata": {},
   "outputs": [
    {
     "name": "stdout",
     "output_type": "stream",
     "text": [
      "小了\n",
      "小了\n",
      "大了\n",
      "猜对了\n"
     ]
    }
   ],
   "source": [
    "ans = 25\n",
    "guess = int(input(\"请猜测: \"))\n",
    "\n",
    "while(ans != guess):\n",
    "    if(ans < guess):\n",
    "        print(\"大了\")\n",
    "    else:\n",
    "        print(\"小了\")\n",
    "    guess = int(input(\"请重猜: \"))\n",
    "\n",
    "print(\"猜对了\")"
   ]
  },
  {
   "cell_type": "markdown",
   "metadata": {},
   "source": [
    "## `break`, `continue`"
   ]
  },
  {
   "cell_type": "code",
   "execution_count": 16,
   "metadata": {},
   "outputs": [
    {
     "name": "stdout",
     "output_type": "stream",
     "text": [
      "1\n",
      "1\n",
      "2\n",
      "2\n",
      "3\n",
      "end.\n"
     ]
    }
   ],
   "source": [
    "i = 0\n",
    "while i < 5:\n",
    "    i += 1\n",
    "    print(i)\n",
    "    if i == 3:\n",
    "        break\n",
    "    print(i)\n",
    "print(\"end.\")"
   ]
  },
  {
   "cell_type": "code",
   "execution_count": 14,
   "metadata": {},
   "outputs": [
    {
     "name": "stdout",
     "output_type": "stream",
     "text": [
      "1\n",
      "1\n",
      "2\n",
      "2\n",
      "3\n",
      "4\n",
      "4\n",
      "5\n",
      "5\n",
      "end.\n"
     ]
    }
   ],
   "source": [
    "i = 0\n",
    "while i < 5:\n",
    "    i += 1\n",
    "    print(i)\n",
    "    if i == 3:\n",
    "        continue\n",
    "    print(i)\n",
    "print(\"end.\")"
   ]
  },
  {
   "cell_type": "markdown",
   "metadata": {},
   "source": [
    "### Example: 进制转换 (HARD)"
   ]
  },
  {
   "cell_type": "code",
   "execution_count": 23,
   "metadata": {},
   "outputs": [
    {
     "name": "stdout",
     "output_type": "stream",
     "text": [
      "10 的二进制是 1010\n"
     ]
    }
   ],
   "source": [
    "def decimal_to_binary(n):  \n",
    "    binary_num = ''  \n",
    "    while n > 0:  \n",
    "        remainder = n % 2\n",
    "        binary_num = str(remainder) + binary_num # 不能写成 += 顺序不对\n",
    "        n //= 2 # n = n // 2\n",
    "    return binary_num  \n",
    "\n",
    "decimal_number = 10\n",
    "binary_number = decimal_to_binary(decimal_number)  \n",
    "print(decimal_number, \"的二进制是\", binary_number)"
   ]
  },
  {
   "cell_type": "markdown",
   "metadata": {},
   "source": [
    "## `for`"
   ]
  },
  {
   "cell_type": "code",
   "execution_count": 26,
   "metadata": {},
   "outputs": [
    {
     "name": "stdout",
     "output_type": "stream",
     "text": [
      "前面忘了，喜欢唱, 跳, rap, 篮球, Music!\n"
     ]
    }
   ],
   "source": [
    "skills = ['唱', '跳', 'rap', '篮球']\n",
    "\n",
    "print(\"前面忘了，喜欢\", end=\"\")\n",
    "\n",
    "for skill in skills:\n",
    "    print(skill, end=\", \")\n",
    "\n",
    "print(\"Music!\")"
   ]
  },
  {
   "cell_type": "code",
   "execution_count": 31,
   "metadata": {},
   "outputs": [
    {
     "name": "stdout",
     "output_type": "stream",
     "text": [
      "1!2!3!4!5!6!\n",
      "6\n"
     ]
    }
   ],
   "source": [
    "for char in \"123456\":\n",
    "    print(char, end=\"!\")\n",
    "print()\n",
    "print(char)"
   ]
  },
  {
   "cell_type": "code",
   "execution_count": 30,
   "metadata": {},
   "outputs": [
    {
     "name": "stdout",
     "output_type": "stream",
     "text": [
      "apple, banana, cherry, "
     ]
    }
   ],
   "source": [
    "for fruit in [\"apple\", \"banana\", \"cherry\"]:\n",
    "    print(fruit, end=\", \")"
   ]
  },
  {
   "cell_type": "markdown",
   "metadata": {},
   "source": []
  },
  {
   "cell_type": "code",
   "execution_count": 33,
   "metadata": {},
   "outputs": [
    {
     "name": "stdout",
     "output_type": "stream",
     "text": [
      "1 3 5 9 11 "
     ]
    }
   ],
   "source": [
    "li = [1, 3, 5, 7, 9, 11]\n",
    "for i in li: # 一边迭代一边修改很危险！\n",
    "    if i == 5:\n",
    "        li.remove(i)\n",
    "    print(i, end=' ')"
   ]
  },
  {
   "cell_type": "markdown",
   "metadata": {},
   "source": []
  },
  {
   "cell_type": "code",
   "execution_count": 36,
   "metadata": {},
   "outputs": [
    {
     "name": "stdout",
     "output_type": "stream",
     "text": [
      "num = 2\n",
      "1 5 10 \n",
      "num = 10\n"
     ]
    }
   ],
   "source": [
    "num = 2\n",
    "print(\"num =\", num)\n",
    "\n",
    "for num in [1, 5, 10]:\n",
    "    print(num,end=' ')\n",
    "\n",
    "print()\n",
    "print(\"num =\", num)"
   ]
  }
 ],
 "metadata": {
  "kernelspec": {
   "display_name": "base",
   "language": "python",
   "name": "python3"
  },
  "language_info": {
   "codemirror_mode": {
    "name": "ipython",
    "version": 3
   },
   "file_extension": ".py",
   "mimetype": "text/x-python",
   "name": "python",
   "nbconvert_exporter": "python",
   "pygments_lexer": "ipython3",
   "version": "3.11.7"
  }
 },
 "nbformat": 4,
 "nbformat_minor": 2
}
