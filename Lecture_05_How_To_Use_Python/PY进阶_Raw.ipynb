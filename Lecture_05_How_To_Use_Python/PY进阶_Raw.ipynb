{
 "cells": [
  {
   "cell_type": "markdown",
   "metadata": {},
   "source": [
    "# Python Lecture 5: **Python 进阶**\n",
    "\n",
    "*100% 真人手敲制作！不含任何 GPT 成分！*\n",
    "\n",
    "Made with ♥ by SI100+ (2024) Staff."
   ]
  },
  {
   "cell_type": "markdown",
   "metadata": {},
   "source": [
    "## Part 01: 常见的数据结构"
   ]
  },
  {
   "cell_type": "markdown",
   "metadata": {},
   "source": [
    "### 列表，元组，字典和集合\n",
    "这四个数据结构都是 Python 中很常见的数据结构。\n",
    "\n",
    "我们先对这四类数据结构进行一个简单的介绍：\n",
    "- 列表 (`List`) 和元组 (`Tuple`)\n",
    "  - 列表和元组**按顺序存储数据**。\n",
    "  - 列表通过 `[]` 生成，而元组通过 `()` 生成。\n",
    "  - 列表和元组是**几乎完全相同**的数据结构，唯一的差别是：**元组是只读的**。\n",
    "  - **很多操作都会产生元组**，例如：`x = 1, ` 这个逗号就会导致元组的产生\n",
    "\n",
    "- 字典 (`dict`)\n",
    "  - 字典通过 `{}` 生成，是存储**一个“键”（Key）和一个“值”（Value）之间一对一关系**的数据结构\n",
    "- 集合 (`set`)\n",
    "  - 相对而言用的很少的数据结构，特点是无序、不重复\n",
    "  - 因此，常用集合来**去除重复元素**"
   ]
  },
  {
   "cell_type": "code",
   "execution_count": 2,
   "metadata": {},
   "outputs": [
    {
     "name": "stdout",
     "output_type": "stream",
     "text": [
      "<class 'list'>\n",
      "<class 'tuple'>\n",
      "<class 'dict'>\n",
      "<class 'set'>\n"
     ]
    }
   ],
   "source": [
    "# 构造（创建）列表\n",
    "int_list = [1, 3, 5, 7]\n",
    "print(type(int_list))\n",
    "\n",
    "# 构造元组\n",
    "int_tuple = (2, 4, 6, 8)\n",
    "print(type(int_tuple))\n",
    "\n",
    "# 构造字典\n",
    "int_dict = {'x': 3, 'y': 6, 'z': 7, 'w': 8}\n",
    "print(type(int_dict))\n",
    "\n",
    "# 构造集合\n",
    "int_set = {9, 10, 11, 12}\n",
    "print(type(int_set))\n",
    "\n"
   ]
  },
  {
   "cell_type": "markdown",
   "metadata": {},
   "source": [
    "### List（列表）\n",
    "#### List 的生成、访问与修改\n",
    "* Construct（构造，即“生成”一个列表） : `li = [1, 4, 3]`\n",
    "  * 生成列表时，列表的元素之间用英文逗号 `,` 分隔\n",
    "* Visit（访问，即根据索引“获取”列表的某个元素） : `li[index]`\n",
    "  * 与字符串的索引一样，列表索引**从 0 开始**（这个命名法有其内在原因）\n",
    "  * `index` 为整数\n",
    "    * 若为 `-x` 则指**倒数第 `x` 个**\n",
    "* Change（修改，即修改列表的特定元素）: `li[index] = ...`"
   ]
  },
  {
   "cell_type": "code",
   "execution_count": 9,
   "metadata": {},
   "outputs": [
    {
     "name": "stdout",
     "output_type": "stream",
     "text": [
      "li: [1, 4, 3]\n",
      "li[0]: 1\n",
      "li[1]: 4\n",
      "li[-1]: 3\n",
      "li[-2]: 4\n",
      "修改后的 li: [5, 4, 3]\n"
     ]
    }
   ],
   "source": [
    "# 构造列表\n",
    "li = [1, 4, 3]\n",
    "print(\"li:\", li)\n",
    "\n",
    "# 访问列表中的元素\n",
    "print(\"li[0]:\", li[0]) # 获取第一个元素\n",
    "print(\"li[1]:\", li[1]) # 获取第二个元素\n",
    "print(\"li[-1]:\", li[-1]) # 获取倒数第一个元素\n",
    "print(\"li[-2]:\", li[-2]) # 获取倒数第二个元素\n",
    "\n",
    "# 修改列表中的元素\n",
    "li[0] = 5 # 修改第一个元素为 5\n",
    "print(\"修改后的 li:\",li)"
   ]
  },
  {
   "cell_type": "markdown",
   "metadata": {},
   "source": [
    "#### List 的常用操作\n",
    "* Slides（切片）: `li[start:stop:step]` 获得列表中的某一部分子列表。\n",
    "  - 此处的 `start`, `stop`, `step` 与内置函数 `range(start, stop[, step])` 中的含义相同。\n",
    "\n",
    "- Length（长度）：`len(li)` 获取列表中元素的个数。\n",
    "- Operators（运算符）：`+` 可以连接两个list"
   ]
  },
  {
   "cell_type": "code",
   "execution_count": 31,
   "metadata": {},
   "outputs": [
    {
     "name": "stdout",
     "output_type": "stream",
     "text": [
      "len(li): 3\n",
      "li + li_1: [1, 6, 2, 11, 12, 13]\n"
     ]
    }
   ],
   "source": [
    "# 构造一个列表\n",
    "li = [1, 6, 2]\n",
    "# 获取其长度（其中元素个数）\n",
    "print(\"len(li):\", len(li))\n",
    "\n",
    "# 连接两个列表\n",
    "li_1 = [11, 12, 13]\n",
    "print(\"li + li_1:\", li + li_1)"
   ]
  },
  {
   "cell_type": "markdown",
   "metadata": {},
   "source": [
    "\n"
   ]
  },
  {
   "cell_type": "code",
   "execution_count": 33,
   "metadata": {},
   "outputs": [
    {
     "name": "stdout",
     "output_type": "stream",
     "text": [
      "li_slice1: [6, 2, 9, 5, 4, 3, 10, 7, 8]\n",
      "li_slice2: [1, 6, 2, 9, 5, 4, 3, 10]\n",
      "li_slice3: [6, 9, 4, 10]\n",
      "li_slice4: [1, 9, 3, 8]\n",
      "len(li): 10\n"
     ]
    }
   ],
   "source": [
    "# 构造一个较长的列表\n",
    "li = [1, 6, 2, 9, 5, 4, 3, 10, 7, 8]\n",
    "\n",
    "# 切片\n",
    "# 1. 除第一个之外的其他所有元素\n",
    "li_slice1 = li[1:] # start = 1（第二个）, stop 和 step 为默认值 \n",
    "print(\"li_slice1:\", li_slice1)\n",
    "\n",
    "# 2. 从第一个到倒数第三个（含）\n",
    "li_slice2 = li[:-2] # stop = -2（倒数第二个）, start 和 step 为默认值 \n",
    "print(\"li_slice2:\", li_slice2)\n",
    "\n",
    "# 3. 从第二个（含）到最后一个（不含），且每隔一个元素取一个\n",
    "li_slice3 = li[1:-1:2] # start = 1, stop = len(li) (此处为 10), step = 3 \n",
    "print(\"li_slice3:\", li_slice3)\n",
    "\n",
    "# 4. 从第一个到最后一个（含），且每隔两个元素取一个\n",
    "li_slice4 = li[0:len(li):3] # start = 1, stop = len(li) (此处为 10), step = 3 \n",
    "print(\"li_slice4:\", li_slice4)\n",
    "print(\"len(li):\", len(li))"
   ]
  },
  {
   "cell_type": "markdown",
   "metadata": {},
   "source": [
    "#### List 的一些 Methods（方法）\n",
    "\n",
    "| 名称 | 使用方法 | 作用 |\n",
    "|---|---|---|\n",
    "| append 附加 | `li.append(item)` | 结尾追加一个元素\n",
    "| insert 插入 | `li.insert(idx, item)` | 在指定位置插入一个元素\n",
    "| remove 移除 |  `li.remove(item)` | 删除某个值的第一个匹配项（从列表首个元素开始匹配）\n",
    "| pop 弹出 |  `item = li.pop(index)` | 删除指定位置的元素（如不指定则默认为 `-1`）, 并返回删除的元素的值\n",
    "| index 索引 |  `obj = li.index(item)` | 从列表中找出某个值第一个匹配项的索引位置（从列表首个元素开始匹配）\n",
    "| sort 排序 |  `li.sort()` | 排序，默认从小到大（升序）\n",
    "| reverse 反向 |  `li.reverse()` | 将列表反向"
   ]
  },
  {
   "cell_type": "code",
   "execution_count": 57,
   "metadata": {},
   "outputs": [
    {
     "name": "stdout",
     "output_type": "stream",
     "text": [
      "after append: [1, 2, 9, 7, 9, 5]\n",
      "after insert: [1, 2, 7, 9, 7, 9, 5]\n",
      "after remove: [1, 2, 9, 7, 9, 5]\n",
      "popped: 2\n",
      "after popped: [1, 9, 7, 9, 5]\n",
      "index: 1\n",
      "after index: [1, 9, 7, 9, 5]\n",
      "after sort: [1, 5, 7, 9, 9]\n",
      "after reverse: [9, 9, 7, 5, 1]\n"
     ]
    }
   ],
   "source": [
    "li = [1, 2, 9, 7, 9]\n",
    "\n",
    "li.append(5) # 结尾处加一个\n",
    "print(\"after append:\", li)\n",
    "\n",
    "li.insert(2, 7) # 在索引 `2` （第三个元素）处插入一个\n",
    "print(\"after insert:\", li)\n",
    "\n",
    "li.remove(7) # 删除首个匹配的元素（如果列表中没有对应元素会怎样？）\n",
    "print(\"after remove:\", li)\n",
    "\n",
    "popped = li.pop(1) # 弹出第二个元素\n",
    "print(\"popped:\", popped)\n",
    "print(\"after popped:\", li)\n",
    "\n",
    "index = li.index(9) # 寻找首个匹配的元素的索引值（如果列表中没有对应元素会怎样？）\n",
    "print(\"index:\", index)\n",
    "print(\"after index:\", li)\n",
    "\n",
    "li.sort() # 升序排序（如果需要降序：li.sort(reverse=True) ）\n",
    "print(\"after sort:\", li)\n",
    "\n",
    "li.reverse() # 将列表反向\n",
    "print(\"after reverse:\", li)\n"
   ]
  },
  {
   "cell_type": "markdown",
   "metadata": {},
   "source": [
    "#### Nested list 嵌套列表\n",
    "\n",
    "* 我们可以在 list 中嵌套其他 list\n",
    "* 事实上，列表的元素可以是任意内容，但是我们并不推荐大家把什么乱七八糟的东西都装进列表里\n",
    "  * **最好保持列表里的元素都是相同类型的**！"
   ]
  },
  {
   "cell_type": "code",
   "execution_count": 58,
   "metadata": {},
   "outputs": [
    {
     "data": {
      "text/plain": [
       "[[1, 2, 3], [4, 5, 6]]"
      ]
     },
     "execution_count": 58,
     "metadata": {},
     "output_type": "execute_result"
    }
   ],
   "source": [
    "matrix_2d = [[1, 2, 3], [4, 5, 6]] # 二维列表\n",
    "matrix_2d"
   ]
  },
  {
   "cell_type": "markdown",
   "metadata": {},
   "source": [
    "### Tuple（元组）\n",
    "\n",
    "* Python 的元组与列表类似，不同之处在于，**元组中的元素无法修改**。\n",
    "* 元组使用小括号，列表使用方括号。\n",
    "* 元组创建很简单，只需要在括号中添加元素，并使用逗号隔开即可。\n",
    "\n",
    "* 访问方法和list相同，只是元组中的元素值是不允许修改的。"
   ]
  },
  {
   "cell_type": "code",
   "execution_count": 67,
   "metadata": {},
   "outputs": [
    {
     "name": "stdout",
     "output_type": "stream",
     "text": [
      "('physics', 'chemistry', 1997, 2000)\n",
      "(50,)\n"
     ]
    },
    {
     "ename": "TypeError",
     "evalue": "'tuple' object does not support item assignment",
     "output_type": "error",
     "traceback": [
      "\u001b[1;31m---------------------------------------------------------------------------\u001b[0m",
      "\u001b[1;31mTypeError\u001b[0m                                 Traceback (most recent call last)",
      "Cell \u001b[1;32mIn[67], line 7\u001b[0m\n\u001b[0;32m      5\u001b[0m \u001b[38;5;28mprint\u001b[39m(tup1)\n\u001b[0;32m      6\u001b[0m \u001b[38;5;28mprint\u001b[39m(tup3)\n\u001b[1;32m----> 7\u001b[0m tup2[\u001b[38;5;241m-\u001b[39m\u001b[38;5;241m1\u001b[39m] \u001b[38;5;241m=\u001b[39m \u001b[38;5;241m2006\u001b[39m \u001b[38;5;66;03m# 尝试修改\u001b[39;00m\n\u001b[0;32m      8\u001b[0m \u001b[38;5;28mprint\u001b[39m(tup2)\n",
      "\u001b[1;31mTypeError\u001b[0m: 'tuple' object does not support item assignment"
     ]
    }
   ],
   "source": [
    "tup1 = ('physics', 'chemistry', 1997, 2000)\n",
    "tup2 = (1, 2, 3, 4, 5)\n",
    "tup3 = (50,) #元组中只包含一个元素时，需要在元素后面添加逗号\n",
    "\n",
    "print(tup1)\n",
    "print(tup2)\n",
    "print(tup3)\n",
    "tup2[-1] = 2006 # 尝试修改"
   ]
  },
  {
   "cell_type": "markdown",
   "metadata": {},
   "source": [
    "### Set（集合）\n",
    "\n",
    "* 集合（set）是一个无序的不重复元素序列。**集合的元素无法修改**。\n",
    "\n",
    "* 集合中的元素不会重复，并且可以进行交集、并集、差集等常见的集合操作\n",
    "\n",
    "* 可以使用大括号 { } 创建集合，元素之间用逗号 , 分隔， 或者也可以使用 set() 函数创建集合\n"
   ]
  },
  {
   "cell_type": "code",
   "execution_count": 69,
   "metadata": {},
   "outputs": [
    {
     "name": "stdout",
     "output_type": "stream",
     "text": [
      "{1, 2, 3, 4}\n",
      "{4, 5, 6, 7}\n"
     ]
    },
    {
     "ename": "TypeError",
     "evalue": "'set' object does not support item assignment",
     "output_type": "error",
     "traceback": [
      "\u001b[1;31m---------------------------------------------------------------------------\u001b[0m",
      "\u001b[1;31mTypeError\u001b[0m                                 Traceback (most recent call last)",
      "Cell \u001b[1;32mIn[69], line 6\u001b[0m\n\u001b[0;32m      4\u001b[0m \u001b[38;5;28mprint\u001b[39m(set1)\n\u001b[0;32m      5\u001b[0m \u001b[38;5;28mprint\u001b[39m(set2)\n\u001b[1;32m----> 6\u001b[0m set2[\u001b[38;5;241m3\u001b[39m] \u001b[38;5;241m=\u001b[39m \u001b[38;5;241m3\u001b[39m\n",
      "\u001b[1;31mTypeError\u001b[0m: 'set' object does not support item assignment"
     ]
    }
   ],
   "source": [
    "set1 = {1, 2, 3, 4}            # 直接使用大括号创建集合\n",
    "set2 = set([4, 5, 6, 7])      # 使用 set() 函数从列表创建集合\n",
    "\n",
    "print(set1)\n",
    "print(set2)\n",
    "set2[3] = 3 # 尝试修改"
   ]
  },
  {
   "cell_type": "markdown",
   "metadata": {},
   "source": [
    "### Dict（字典）\n",
    "\n",
    "* 字典的元素形式为 Key-Value pair（键值对）。其中，Key（键）与 Value（值）之间用冒号分割： `key: value`。每个键值对之间用逗号 `,` 分割，整个字典包括在花括号 {} 中 ,格式如下所示：\n",
    "    ```python\n",
    "    d = {key1: value1, key2: value2 }\n",
    "    ```\n",
    "  其中的 `key1: value1` 就称为一个键值对。\n",
    "* 键一般是唯一（不重复）的、不可变的（如果出现重复，后加入字典的键值对会替换掉先前的）。值则是不唯一（可重复）的、可变的。\n",
    "\n",
    "---\n",
    "\n",
    "* Construct (构造): `di = {\"1\": 1, \"2\": 2, \"3\": 3}`\n",
    "* Visit (访问): `print(di[\"1\"])`\n",
    "* Change (修改): `di[\"1\"] = 100`\n",
    "  * **注意：**如果指定的键不存在，则会自动新建对应的键值对！\n",
    "    * 这也是最常用的向字典中插入新键值对的方法。\n",
    "  * 可使用关键词 `in` 检查某个键是否在字典中：`\"1\" in dict`\n",
    "* Delete (删除): `del di[\"1\"]`"
   ]
  },
  {
   "cell_type": "code",
   "execution_count": 85,
   "metadata": {},
   "outputs": [
    {
     "name": "stdout",
     "output_type": "stream",
     "text": [
      "{'a': '3', 'b': 2}\n",
      "3\n",
      "after change: {'a': '3', 'b': 5}\n",
      "Is this key in dict? False\n",
      "Is this key in dict? True\n",
      "after change: {'a': '3', 'b': 5, 'c': 12}\n",
      "after delete: {'b': 5, 'c': 12}\n"
     ]
    }
   ],
   "source": [
    "# 构造字典\n",
    "tinydict = {'a': 1, 'a': '3', 'b': 2}\n",
    "# 有重复的键 a，保留最后一个 a 键值对\n",
    "print(tinydict) \n",
    "\n",
    "print(tinydict['a']) # 访问键 'a' 对应的键值对：输出该键值对的值\n",
    "\n",
    "tinydict['b'] = 5 # 修改键值对\n",
    "print(\"after change:\", tinydict) \n",
    "\n",
    "print(\"Is this key in dict?\", 'c' in tinydict) # 检查指定键是否在字典中\n",
    "\n",
    "tinydict['c'] = 12 # 修改不存在的键值对 = 插入对应键值对\n",
    "print(\"Is this key in dict?\", 'c' in tinydict) # 检查指定键是否在字典中\n",
    "print(\"after change:\", tinydict) \n",
    "\n",
    "del tinydict['a'] # 删除键值对\n",
    "print(\"after delete:\", tinydict) \n"
   ]
  },
  {
   "cell_type": "markdown",
   "metadata": {},
   "source": [
    "## Part 02：Python 常用的第三方库：os, math......"
   ]
  },
  {
   "cell_type": "markdown",
   "metadata": {},
   "source": [
    "### OS 库之文件路径管理\n",
    "- `os.path.exists(path)`: 返回指定路径（可能是文件，也可能是文件夹）是否存在\n",
    "- `os.path.isfile`: 判断指定的路径是否为文件\n",
    "- `os.path.getsize`: 获得指定路径所对应的文件大小\n",
    "- `os.makedirs(path, exist_ok=True)`: 根据指定路径创建文件夹。如果文件夹已经存在，则不进行操作（非常非常常用！） \n",
    "- ...... 还有很多！"
   ]
  },
  {
   "cell_type": "markdown",
   "metadata": {},
   "source": [
    "**TODO:** 讲文件路径的时候可以提前说下相对路径（口头）"
   ]
  },
  {
   "cell_type": "markdown",
   "metadata": {},
   "source": [
    "* 以下代码示例均假设你先解压了压缩文件再打开此 Notebook 文件。\n",
    "* 为保证示例可用性，以下示例均使用相对路径。"
   ]
  },
  {
   "cell_type": "code",
   "execution_count": 102,
   "metadata": {},
   "outputs": [
    {
     "name": "stdout",
     "output_type": "stream",
     "text": [
      "True\n",
      "False\n",
      "True\n",
      "False\n"
     ]
    },
    {
     "ename": "FileExistsError",
     "evalue": "[WinError 183] Cannot create a file when that file already exists: './examples/test'",
     "output_type": "error",
     "traceback": [
      "\u001b[1;31m---------------------------------------------------------------------------\u001b[0m",
      "\u001b[1;31mFileExistsError\u001b[0m                           Traceback (most recent call last)",
      "Cell \u001b[1;32mIn[102], line 17\u001b[0m\n\u001b[0;32m     15\u001b[0m os\u001b[38;5;241m.\u001b[39mmakedirs(\u001b[38;5;124m\"\u001b[39m\u001b[38;5;124m./examples/test\u001b[39m\u001b[38;5;124m\"\u001b[39m, exist_ok\u001b[38;5;241m=\u001b[39m\u001b[38;5;28;01mTrue\u001b[39;00m)\n\u001b[0;32m     16\u001b[0m \u001b[38;5;66;03m# 如果不指定 exist_ok=True，则指定目录已经存在时会报错\u001b[39;00m\n\u001b[1;32m---> 17\u001b[0m os\u001b[38;5;241m.\u001b[39mmakedirs(\u001b[38;5;124m\"\u001b[39m\u001b[38;5;124m./examples/test\u001b[39m\u001b[38;5;124m\"\u001b[39m)\n",
      "File \u001b[1;32m<frozen os>:225\u001b[0m, in \u001b[0;36mmakedirs\u001b[1;34m(name, mode, exist_ok)\u001b[0m\n",
      "\u001b[1;31mFileExistsError\u001b[0m: [WinError 183] Cannot create a file when that file already exists: './examples/test'"
     ]
    }
   ],
   "source": [
    "import os # 导入 OS 库\n",
    "\n",
    "# 当前文件所在目录中是否存在 examples\n",
    "print(os.path.exists(\"./examples\"))\n",
    "# examples 目录中是否存在 test.pdf\n",
    "print(os.path.exists(\"./examples/test.pdf\"))\n",
    "# examples 目录中是否存在 test.txt\n",
    "print(os.path.exists(\"./examples/test.txt\"))\n",
    "\n",
    "# 当前文件所在目录中的 examples 是文件吗？\n",
    "print(os.path.isfile(\"./examples\"))\n",
    "\n",
    "# 在当前所在目录中的 examples 文件夹中创建一个名为 test 的新文件夹\n",
    "# 指定文件夹已经存在时不会发生任何事情 \n",
    "os.makedirs(\"./examples/test\", exist_ok=True)\n",
    "# 如果不指定 exist_ok=True，则指定文件夹已经存在时会报错\n",
    "os.makedirs(\"./examples/test\")"
   ]
  },
  {
   "cell_type": "markdown",
   "metadata": {},
   "source": [
    "### OS 库之文件进程管理\n",
    "**TODO:** Google 了一下发现运行终端指令已经不用 `os.system` 了（现在多用 `subprocess` 模块），而且进程管理还得看是什么操作系统，我的建议是把进程管理这块删了，然后把相对绝对路径挪到上一页的文件路径管理去讲（毕竟文件路径管理用到相对路径了）"
   ]
  },
  {
   "cell_type": "markdown",
   "metadata": {},
   "source": [
    "### OS 库之文件环境参数管理\n",
    "- `os.chdir(path)`: 修改程序当前所操作的路径\n",
    "- `os.getcwd()`: 获取程序当前所操作的*绝对*路径（`cwd` 全称为 current working directory，意为当前工作目录）\n",
    "- `os.getlogin()`: 获取当前系统登录用户名称\n",
    "- `os.cpu_count()`: 获取当前系统的 CPU 数量\n",
    "- `os.urandom(n)`: 获取 n 个字节长度的随机字符串，通常用于加解密运算\n",
    "\n",
    "目前不需要弄懂这些指令的原理等，只需要知道它们的存在以及作用即可。"
   ]
  },
  {
   "cell_type": "code",
   "execution_count": 7,
   "metadata": {},
   "outputs": [
    {
     "name": "stdout",
     "output_type": "stream",
     "text": [
      "16\n",
      "b'c\\n\\xbf~'\n"
     ]
    }
   ],
   "source": [
    "print(os.cpu_count()) \n",
    "print(os.urandom(4)) # 输出的是字节数组，显示格式类似于 b'xxxx'"
   ]
  },
  {
   "cell_type": "markdown",
   "metadata": {},
   "source": [
    "\n",
    "---\n",
    "\n",
    "**以下代码用于同学们自行打开此文件实践操作时使用**\n",
    "\n",
    "限于时间和内容关系，我们无法完整讲解 OS 库中的很多概念（甚至大部分概念是计算机使用角度而非编程角度的）。\n",
    "\n",
    "比如，“操作目录（大多称为当前目录）”，其定义是“当前程序进行操作的位置/目录”，是文件路径中的一个比较重要的概念。单纯一个定义还是比较抽象的，我们可以通过一个探究实例来体会一下。\n",
    "\n",
    "首先运行以下代码，以防你没有导入 OS 库："
   ]
  },
  {
   "cell_type": "code",
   "execution_count": 2,
   "metadata": {},
   "outputs": [],
   "source": [
    "# 只需要执行一次！\n",
    "import os # 导入 OS 库"
   ]
  },
  {
   "cell_type": "markdown",
   "metadata": {},
   "source": [
    "接下来运行如下代码示例一次："
   ]
  },
  {
   "cell_type": "code",
   "execution_count": 6,
   "metadata": {},
   "outputs": [
    {
     "name": "stdout",
     "output_type": "stream",
     "text": [
      "d:\\Users\\imhe6\\OneDrive - shanghaitech.edu.cn\\SI100P 24Summer\\SI100Plus\\Lecture_05_How_To_Use_Python\\hello\\hello\\hello\n"
     ]
    }
   ],
   "source": [
    "# 在当前目录下新建 hello 文件夹（没有 exist_ok=True，所以如果文件夹已经存在就会报错）\n",
    "os.makedirs(\"./hello\")\n",
    "\n",
    "# 把当前目录修改为当前目录下的 hello 文件夹\n",
    "os.chdir(\"./hello\")\n",
    "\n",
    "# 获得程序当前目录\n",
    "print(os.getcwd())\n",
    "\n",
    "# 没有报错，说明成功新建了文件夹"
   ]
  },
  {
   "cell_type": "markdown",
   "metadata": {},
   "source": [
    "注意：第一行“获得程序当前所操作的目录”的输出是绝对路径，可能会很长以致无法显示后半部分。这时可以左右滚动（或使用输出部分底部的滚动条）来查看后半部分。\n",
    "\n",
    "首次执行上面的示例之后，**先不要重复执行**，用文件管理器看看 hello 文件夹（或者观察一下 VS Code 左侧的文件窗格），里面是不是套娃了 hello 文件夹？\n",
    "\n",
    "重复运行几次（不要运行太多次，否则电脑可能卡顿！），每次执行后，观察并思考一下：\n",
    "- 文件夹是不是又多套娃了几层？文件夹的层数和运行次数有什么联系？\n",
    "- 每次执行时，第一行 `os.getcwd()` 的输出有什么变化，这一变化和文件夹的层数、运行次数有什么联系？\n",
    "- 可以看到上述代码中的路径都是相对路径。根据以上思考，你认为其中的 `./` 代指什么？"
   ]
  },
  {
   "cell_type": "markdown",
   "metadata": {},
   "source": [
    "上面代码所作的事情非常简单：\n",
    "1. 在当前目录中新建一个 `hello` 文件夹。\n",
    "2. 以绝对路径形式输出当前目录；\n",
    "3. 把程序的当前目录**修改为当前目录下刚刚新建的** `hello` 文件夹；\n",
    "\n",
    "上面代码所写的相对路径中的 `./` 就代指程序的当前目录。\n",
    "> 现在写相对路径没有必要加 `./` 了，但是加 `./` 可以防止程序在某些极端情况下误认成绝对路径。\n",
    "\n",
    "于是不难看出，每执行一次上述代码，程序就会在它当前的目录新建一个 `hello` 文件夹，然后进入这个新的 `hello` 文件夹（也就是把程序的当前目录修改为刚新建的 `hello` 文件夹）。这形成了一个*类似于*循环的操作，随着运行次数越多，程序的当前目录就越来越深，新建的文件夹也就越来越深，所以你才会在文件夹中见到一个又一个的“hello”（就像某些视频里加的一堆 \"Hello\" 音效那样）。\n",
    "\n",
    "相信通过上面的示例，你应该能对“一个程序的当前目录到底是什么”有一个比较实际的体会了。\n",
    "\n",
    ">（顺便一提，那个经常被用作搞笑音效的 \"Hello, it's me\" 出自 Adele 演唱的同名歌曲 *Hello*，歌还是很好听的。）\n",
    "\n",
    "> 那些 `hello` 文件夹删不掉，提示被另一程序使用怎么办：\n",
    "> 别忘了，每执行一次上述代码，程序的当前目录就会变成倒数第二个被创建出来的文件夹，因此系统会认为那个文件夹正在被我们的程序使用，直接关掉 VS Code（这个 Notebook）后再删掉就可以了。\n"
   ]
  },
  {
   "cell_type": "markdown",
   "metadata": {},
   "source": [
    "## Part 03: 如何安装第三方库"
   ]
  },
  {
   "cell_type": "markdown",
   "metadata": {},
   "source": [
    "**TODO:** 这块还需要演示吗，要演示的话是在 Notebook 里写几个 shell 指令还是直接在 Terminal 里演示？"
   ]
  },
  {
   "cell_type": "markdown",
   "metadata": {},
   "source": [
    "## Part 04: 一些巧妙的 Python 函数"
   ]
  },
  {
   "cell_type": "markdown",
   "metadata": {},
   "source": [
    "### `map`\n",
    "> `map()` 函数接收两个参数，一个是函数，一个是一个可以迭代的对象（如：列表、字典），map 将传入的函数依次作用到序列的每个元素，并把结果作为新的可迭代对象返回。"
   ]
  },
  {
   "cell_type": "code",
   "execution_count": 12,
   "metadata": {},
   "outputs": [
    {
     "data": {
      "text/plain": [
       "[1, 4, 9, 16, 25, 36, 49, 64, 81]"
      ]
     },
     "execution_count": 12,
     "metadata": {},
     "output_type": "execute_result"
    }
   ],
   "source": [
    "# 示例：f(x) = x ** 2\n",
    "def f(x):\n",
    "    return x * x\n",
    "\n",
    "map_obj = map(f, [1, 2, 3, 4, 5, 6, 7, 8, 9])\n",
    "list(map_obj)\n",
    "# 可以发现 list(map_obj) 即为 [f(1), f(2), f(3), f(4), f(5), f(6), f(7), f(8), f(9)]"
   ]
  },
  {
   "cell_type": "markdown",
   "metadata": {},
   "source": [
    "`map` 的高级操作"
   ]
  },
  {
   "cell_type": "code",
   "execution_count": 13,
   "metadata": {},
   "outputs": [
    {
     "data": {
      "text/plain": [
       "['1', '2', '3', '4', '5', '6', '7', '8', '9']"
      ]
     },
     "execution_count": 13,
     "metadata": {},
     "output_type": "execute_result"
    }
   ],
   "source": [
    "# 把一个 list 所有数字转为字符串\n",
    "list(map(str, [1, 2, 3, 4, 5, 6, 7, 8, 9]))"
   ]
  },
  {
   "cell_type": "code",
   "execution_count": 15,
   "metadata": {},
   "outputs": [
    {
     "data": {
      "text/plain": [
       "[123, 1234, 324]"
      ]
     },
     "execution_count": 15,
     "metadata": {},
     "output_type": "execute_result"
    }
   ],
   "source": [
    "# 通过 map 获取输入的数字\n",
    "list(map(int, input().split()))\n",
    "\n",
    "# str.split() 是字符串的一个方法，默认按空格分割一个字符串并以列表形式返回分割结果\n",
    "# 想一想，这个操作是如何实现读取并分割的？"
   ]
  },
  {
   "cell_type": "markdown",
   "metadata": {},
   "source": [
    "### `enumerate`"
   ]
  },
  {
   "cell_type": "markdown",
   "metadata": {},
   "source": [
    "> `enumerate()` 函数用于将一个可遍历的数据对象(如列表、元组或字符串)组合为一个索引序列，同时列出数据和数据下标，一般用在 for 循环当中。"
   ]
  },
  {
   "cell_type": "markdown",
   "metadata": {},
   "source": [
    "假设有一个列表，我们想获取其中每个下标对应的值。"
   ]
  },
  {
   "cell_type": "code",
   "execution_count": 16,
   "metadata": {},
   "outputs": [
    {
     "name": "stdout",
     "output_type": "stream",
     "text": [
      "0: 1\n",
      "1: 1\n",
      "2: 4\n",
      "3: 5\n",
      "4: 1\n",
      "5: 4\n"
     ]
    }
   ],
   "source": [
    "lst = [1, 1, 4, 5, 1, 4]\n",
    "# 不使用 enumerate\n",
    "cnt = 0\n",
    "for val in lst:\n",
    "    print(f\"{cnt}: {val}\")\n",
    "    cnt += 1"
   ]
  },
  {
   "cell_type": "code",
   "execution_count": 17,
   "metadata": {},
   "outputs": [
    {
     "name": "stdout",
     "output_type": "stream",
     "text": [
      "0: 1\n",
      "1: 1\n",
      "2: 4\n",
      "3: 5\n",
      "4: 1\n",
      "5: 4\n"
     ]
    }
   ],
   "source": [
    "lst = [1, 1, 4, 5, 1, 4]\n",
    "# 使用 enumerate\n",
    "for i, val in enumerate(lst):\n",
    "    print(f\"{i}: {val}\")"
   ]
  },
  {
   "cell_type": "markdown",
   "metadata": {},
   "source": [
    "## Part 05： 类型标记：让你的代码更清晰\n",
    "Type hints 即类型提示，是 Python 在 3.5 版本中加入的语法，并在 Python 3.6 基本可用。在此后的版本中，Type hints 的功能不断扩充，至今已经能够实现一个比较完善的静态类型系统。\n",
    "\n",
    "正如其名称暗示的那样，**Type hints 是“类型提示”而不是“类型检查”，** Python **不会在程序运行时检查**你所标注的类型与变量的真实类型是否一致——如果不一致，也并不会产生错误。"
   ]
  },
  {
   "cell_type": "code",
   "execution_count": null,
   "metadata": {},
   "outputs": [],
   "source": [
    "# 基本使用方法：标注 x 的类型应该是整型，而 y 是浮点型，z 是字符串\n",
    "x: int = 114514\n",
    "y: float = 1.114514\n",
    "z: str = \"24 years old, is student\"\n"
   ]
  },
  {
   "cell_type": "code",
   "execution_count": null,
   "metadata": {},
   "outputs": [],
   "source": [
    "# 进阶方法：需要 typing 模块（一个专门用来类型标注的官方库）\n",
    "from typing import List, Dict\n",
    "\n",
    "x: List[int] = [1,2,4,5]\n",
    "y: Dict[str, int] = {\"SZHGG\": 666, \"SI100P\": 6}\n"
   ]
  },
  {
   "cell_type": "markdown",
   "metadata": {},
   "source": [
    "## Part 06：优美的代码\n",
    "\n",
    "请参考 Slides"
   ]
  },
  {
   "cell_type": "markdown",
   "metadata": {},
   "source": [
    "## We wish you a better life with Python (and of course, computer programming!)"
   ]
  }
 ],
 "metadata": {
  "kernelspec": {
   "display_name": "base",
   "language": "python",
   "name": "python3"
  },
  "language_info": {
   "codemirror_mode": {
    "name": "ipython",
    "version": 3
   },
   "file_extension": ".py",
   "mimetype": "text/x-python",
   "name": "python",
   "nbconvert_exporter": "python",
   "pygments_lexer": "ipython3",
   "version": "3.11.7"
  }
 },
 "nbformat": 4,
 "nbformat_minor": 2
}
