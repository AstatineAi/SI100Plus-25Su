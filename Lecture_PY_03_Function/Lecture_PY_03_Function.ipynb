{
 "cells": [
  {
   "cell_type": "markdown",
   "metadata": {},
   "source": [
    "# Python Lecture 3：**函数**\n",
    "\n",
    "*100% 真人手敲制作！不含任何 GPT 成分！*\n",
    "\n",
    "Made with ♥ by SI100+ (2024) Staff."
   ]
  },
  {
   "cell_type": "markdown",
   "metadata": {},
   "source": [
    "## 00. 在开始之前\n",
    "\n",
    "### 查询已有函数用法 - `help()`"
   ]
  },
  {
   "cell_type": "markdown",
   "metadata": {},
   "source": [
    "- 尝试打开终端运行 `help(print)` 看看是什么样的？\n",
    "- 尝试在下面的代码块中，将 `print` 换成 `input`, `\"SI100P\"` 等，运行，看看会发生什么。"
   ]
  },
  {
   "cell_type": "code",
   "execution_count": 2,
   "metadata": {},
   "outputs": [
    {
     "name": "stdout",
     "output_type": "stream",
     "text": [
      "Help on built-in function print in module builtins:\n",
      "\n",
      "print(*args, sep=' ', end='\\n', file=None, flush=False)\n",
      "    Prints the values to a stream, or to sys.stdout by default.\n",
      "    \n",
      "    sep\n",
      "      string inserted between values, default a space.\n",
      "    end\n",
      "      string appended after the last value, default a newline.\n",
      "    file\n",
      "      a file-like object (stream); defaults to the current sys.stdout.\n",
      "    flush\n",
      "      whether to forcibly flush the stream.\n",
      "\n"
     ]
    }
   ],
   "source": [
    "help(print)"
   ]
  },
  {
   "cell_type": "markdown",
   "metadata": {},
   "source": [
    "### 查询已有函数用法 - 代码提示\n",
    "\n",
    "- 尝试将鼠标悬浮在下面的 `print` 上，看看会发生什么？两个有什么区别？\n",
    "- 尝试悬浮在别的代码上，看看会发生什么？"
   ]
  },
  {
   "cell_type": "code",
   "execution_count": null,
   "metadata": {},
   "outputs": [],
   "source": [
    "print\n",
    "print(123)"
   ]
  },
  {
   "cell_type": "markdown",
   "metadata": {},
   "source": [
    "- 尝试在下方代码块中缓慢打出 `print(\"Hello\", end=\"!\")`，看看代码提示有什么变化？"
   ]
  },
  {
   "cell_type": "code",
   "execution_count": 7,
   "metadata": {},
   "outputs": [],
   "source": [
    "pass\n",
    "# print(\"Hello\", end=\"!\")"
   ]
  },
  {
   "cell_type": "markdown",
   "metadata": {},
   "source": [
    "### 查询已有函数用法 - `?`\n",
    "\n",
    "- 尝试替换 `print`，看看会发生什么"
   ]
  },
  {
   "cell_type": "code",
   "execution_count": 8,
   "metadata": {},
   "outputs": [
    {
     "name": "stdout",
     "output_type": "stream",
     "text": [
      "\u001b[0;31mSignature:\u001b[0m \u001b[0mstr\u001b[0m\u001b[0;34m.\u001b[0m\u001b[0misalnum\u001b[0m\u001b[0;34m(\u001b[0m\u001b[0mself\u001b[0m\u001b[0;34m,\u001b[0m \u001b[0;34m/\u001b[0m\u001b[0;34m)\u001b[0m\u001b[0;34m\u001b[0m\u001b[0;34m\u001b[0m\u001b[0m\n",
      "\u001b[0;31mDocstring:\u001b[0m\n",
      "Return True if the string is an alpha-numeric string, False otherwise.\n",
      "\n",
      "A string is alpha-numeric if all characters in the string are alpha-numeric and\n",
      "there is at least one character in the string.\n",
      "\u001b[0;31mType:\u001b[0m      method_descriptor"
     ]
    }
   ],
   "source": [
    "print?"
   ]
  },
  {
   "cell_type": "markdown",
   "metadata": {},
   "source": [
    "### 内置函数初探\n",
    "\n",
    "- `len(str)`: `str` 的长度\n",
    "- `max(a, b)`: `a` 与 `b` 中最大值\n",
    "- `min(a, b)`: `a` 与 `b` 中最小值\n",
    "- `abs(x)`: `x` 的绝对值\n",
    "- `str.upper()` 全大写的 `str`\n",
    "- `str.lower()` 全小写的 `str`\n",
    "- `str.capitalize()` 首字母大写的 `str`\n",
    "- `str.replace(str1, str2)` 将 `str` 中的所有 `str1` 替换成 `str2`\n",
    "- `str.replace(str1, str2, N)` 同上，但最多只替换 `N` 次\n",
    "- `str.isupper()` `str` 是否全是大写字母（布尔类型）\n",
    "- `str.isdigit()` `str` 是否全是数字（布尔类型）\n",
    "- `str.isalpha()` `str` 是否全是字母（布尔类型）\n",
    "- `str.isalnum()` `str` 是否全是数字或字母（布尔类型）"
   ]
  },
  {
   "cell_type": "code",
   "execution_count": 8,
   "metadata": {},
   "outputs": [
    {
     "name": "stdout",
     "output_type": "stream",
     "text": [
      "3\n",
      "2\n",
      "-1\n",
      "1\n",
      "ABC\n",
      "abc\n",
      "Hello from si100b\n",
      "hello!from!si100b\n",
      "hello!from si100b\n",
      "True\n",
      "True\n",
      "True\n",
      "True\n",
      "True\n"
     ]
    }
   ],
   "source": [
    "print(len(\"123\"))\n",
    "print(max(1, 2))\n",
    "print(min(-1, 2))\n",
    "print(abs(-1))\n",
    "print(\"abc\".upper())\n",
    "print(\"ABC\".lower())\n",
    "print(\"hello from si100b\".capitalize())\n",
    "print(\"hello from si100b\".replace(\" \", \"!\"))\n",
    "print(\"hello from si100b\".replace(\" \", \"!\", 1))\n",
    "print(\"HELLO\".isupper())\n",
    "print(\"123\".isdigit())\n",
    "print(\"HeLlO\".isalpha())\n",
    "print(\"39\".isdigit())\n",
    "print(\"SI100b\".isalnum())"
   ]
  },
  {
   "cell_type": "markdown",
   "metadata": {},
   "source": [
    "- 尝试运行下面两个代码块，为什么下面的代码块会报错？"
   ]
  },
  {
   "cell_type": "code",
   "execution_count": 9,
   "metadata": {},
   "outputs": [
    {
     "name": "stdout",
     "output_type": "stream",
     "text": [
      "True\n"
     ]
    }
   ],
   "source": [
    "print(\"123\".isdigit())"
   ]
  },
  {
   "cell_type": "code",
   "execution_count": 10,
   "metadata": {},
   "outputs": [
    {
     "name": "stderr",
     "output_type": "stream",
     "text": [
      "<>:1: SyntaxWarning: invalid decimal literal\n",
      "<>:1: SyntaxWarning: invalid decimal literal\n",
      "/tmp/ipykernel_121557/4142401625.py:1: SyntaxWarning: invalid decimal literal\n",
      "  print(123.isdigit())\n"
     ]
    },
    {
     "ename": "SyntaxError",
     "evalue": "invalid syntax. Perhaps you forgot a comma? (4142401625.py, line 1)",
     "output_type": "error",
     "traceback": [
      "\u001b[0;36m  Cell \u001b[0;32mIn[10], line 1\u001b[0;36m\u001b[0m\n\u001b[0;31m    print(123.isdigit())\u001b[0m\n\u001b[0m          ^\u001b[0m\n\u001b[0;31mSyntaxError\u001b[0m\u001b[0;31m:\u001b[0m invalid syntax. Perhaps you forgot a comma?\n"
     ]
    }
   ],
   "source": [
    "print(123.isdigit())"
   ]
  },
  {
   "cell_type": "markdown",
   "metadata": {},
   "source": [
    "- 尝试运行下面的代码\n",
    "    - 为什么是 `True`? 和你的想法有区别吗? 你能从 `help(\"ABC123\".isupper)` 中找到原因吗?"
   ]
  },
  {
   "cell_type": "code",
   "execution_count": 19,
   "metadata": {},
   "outputs": [
    {
     "name": "stdout",
     "output_type": "stream",
     "text": [
      "True\n",
      "Help on built-in function isupper:\n",
      "\n",
      "isupper() method of builtins.str instance\n",
      "    Return True if the string is an uppercase string, False otherwise.\n",
      "    \n",
      "    A string is uppercase if all cased characters in the string are uppercase and\n",
      "    there is at least one cased character in the string.\n",
      "\n"
     ]
    }
   ],
   "source": [
    "print(\"ABC123%^&\".isupper())\n",
    "\n",
    "help(\"ABC123%^&\".isupper)"
   ]
  },
  {
   "cell_type": "markdown",
   "metadata": {},
   "source": [
    "## 01.函数与方法\n",
    "\n",
    "见 Slides\n",
    "\n",
    "### 简单地导入库"
   ]
  },
  {
   "cell_type": "code",
   "execution_count": 25,
   "metadata": {},
   "outputs": [
    {
     "name": "stdout",
     "output_type": "stream",
     "text": [
      "4.0\n",
      "27\n",
      "0.10046943536490771\n"
     ]
    }
   ],
   "source": [
    "import math # 导入数学库\n",
    "\n",
    "print(math.sqrt(16)) # 使用数学库里的平方根函数\n",
    "\n",
    "import random # 导入随机数库\n",
    "\n",
    "print(random.randint(1,100)) # 输出在 [a,b] 中的的随机整数\n",
    "print(random.random()) # 输出在 0.0 <= x < 1.0 之间的随机小数"
   ]
  },
  {
   "cell_type": "markdown",
   "metadata": {},
   "source": [
    "## 02. 定义函数、调用函数、返回值"
   ]
  },
  {
   "cell_type": "markdown",
   "metadata": {},
   "source": [
    "下面是对 $f(x) = x^2 + 2x + 1$ 的简单实现和调用，我们先尝试自己理解"
   ]
  },
  {
   "cell_type": "code",
   "execution_count": 20,
   "metadata": {},
   "outputs": [
    {
     "data": {
      "text/plain": [
       "9"
      ]
     },
     "execution_count": 20,
     "metadata": {},
     "output_type": "execute_result"
    }
   ],
   "source": [
    "def f(x): # 定义函数，并不会执行\n",
    "\treturn x ** 2 + 2 * x + 1\n",
    "\n",
    "# f(2) # 取消注释这行来执行"
   ]
  },
  {
   "cell_type": "markdown",
   "metadata": {},
   "source": [
    "### 定义函数\n",
    "\n",
    "- 观察下列代码，看看结果是否符合你的预期"
   ]
  },
  {
   "cell_type": "code",
   "execution_count": 14,
   "metadata": {},
   "outputs": [
    {
     "name": "stdout",
     "output_type": "stream",
     "text": [
      "我不在函数内部！\n",
      "我在函数内部！\n",
      "我也在函数内部！\n",
      "我当然也不在函数内部\n"
     ]
    }
   ],
   "source": [
    "def fun(): # 定义一个不需要参数的函数\n",
    "\tprint(\"我在函数内部！\")\n",
    "\tprint(\"我也在函数内部！\")\n",
    "\n",
    "print(\"我不在函数内部！\")\n",
    "fun()\n",
    "print(\"我当然也不在函数内部\")"
   ]
  },
  {
   "cell_type": "markdown",
   "metadata": {},
   "source": [
    "- 为什么下面的代码块会报错？"
   ]
  },
  {
   "cell_type": "code",
   "execution_count": 16,
   "metadata": {},
   "outputs": [
    {
     "ename": "NameError",
     "evalue": "name 'g' is not defined",
     "output_type": "error",
     "traceback": [
      "\u001b[0;31m---------------------------------------------------------------------------\u001b[0m",
      "\u001b[0;31mNameError\u001b[0m                                 Traceback (most recent call last)",
      "Cell \u001b[0;32mIn[16], line 1\u001b[0m\n\u001b[0;32m----> 1\u001b[0m g(\u001b[38;5;124m\"\u001b[39m\u001b[38;5;124m初音未来\u001b[39m\u001b[38;5;124m\"\u001b[39m)\n\u001b[1;32m      3\u001b[0m \u001b[38;5;28;01mdef\u001b[39;00m \u001b[38;5;21mg\u001b[39m(chara):\n\u001b[1;32m      4\u001b[0m \t\u001b[38;5;28mprint\u001b[39m(\u001b[38;5;124m\"\u001b[39m\u001b[38;5;124m我去,\u001b[39m\u001b[38;5;124m\"\u001b[39m, chara, \u001b[38;5;124m\"\u001b[39m\u001b[38;5;124m!\u001b[39m\u001b[38;5;124m\"\u001b[39m)\n",
      "\u001b[0;31mNameError\u001b[0m: name 'g' is not defined"
     ]
    }
   ],
   "source": [
    "g(\"初音未来\")\n",
    "\n",
    "def g(chara):\n",
    "\tprint(\"我去,\", chara, \"!\")"
   ]
  },
  {
   "cell_type": "markdown",
   "metadata": {},
   "source": [
    "- 再次运行？你是否明白了函数的定义+调用的顺序？"
   ]
  },
  {
   "cell_type": "code",
   "execution_count": 18,
   "metadata": {},
   "outputs": [
    {
     "name": "stdout",
     "output_type": "stream",
     "text": [
      "我去, 初音未来 !\n"
     ]
    }
   ],
   "source": [
    "# g(\"初音未来\")\n",
    "\n",
    "def g(chara):\n",
    "\tprint(\"我去,\", chara, \"!\")\n",
    "\t\n",
    "g(\"初音未来\")"
   ]
  },
  {
   "cell_type": "markdown",
   "metadata": {},
   "source": [
    "## 用 `return` 返回计算的结果\n",
    "\n",
    "- 观察下列输出，是否能体会返回的意义？"
   ]
  },
  {
   "cell_type": "code",
   "execution_count": 21,
   "metadata": {},
   "outputs": [
    {
     "name": "stdout",
     "output_type": "stream",
     "text": [
      "None 4 4\n",
      "13\n"
     ]
    }
   ],
   "source": [
    "def calc1(x):\n",
    "\tans = x ** 2\n",
    "\n",
    "def calc2(x):\n",
    "\tans = x ** 2\n",
    "\treturn ans\n",
    "\n",
    "def calc3(x):\n",
    "\treturn x ** 2 # return 也可以直接返回\n",
    "\n",
    "print(calc1(2), calc2(2), calc3(2))\n",
    "print(calc2(2) + calc3(3))"
   ]
  },
  {
   "cell_type": "markdown",
   "metadata": {},
   "source": [
    "- `return` 下面一行为什么是暗色的？他会被执行吗？"
   ]
  },
  {
   "cell_type": "code",
   "execution_count": 22,
   "metadata": {},
   "outputs": [
    {
     "name": "stdout",
     "output_type": "stream",
     "text": [
      "Gui Ye 先生\n",
      "Tian Huang 陛...下\n",
      "我滴任务完成辣\n",
      "拉开了手榴弹，并没有爆炸\n"
     ]
    }
   ],
   "source": [
    "def ChuanShanJia():\n",
    "\tprint(\"Gui Ye 先生\")\n",
    "\tprint(\"Tian Huang 陛...下\")\n",
    "\tprint(\"我滴任务完成辣\")\n",
    "\treturn \"拉开了手榴弹，并没有爆炸\"\n",
    "\tprint(\"啊哈哈哈哈哈哈哈哈\") # 笑不出来\n",
    "\n",
    "print(ChuanShanJia())"
   ]
  },
  {
   "cell_type": "markdown",
   "metadata": {},
   "source": [
    "## 03. 参数\n",
    "\n",
    "### 参数的类型\n",
    "\n",
    "- 尝试运行下列代码，为什么会报错（查看报错信息）？"
   ]
  },
  {
   "cell_type": "code",
   "execution_count": 28,
   "metadata": {},
   "outputs": [
    {
     "name": "stdout",
     "output_type": "stream",
     "text": [
      "Hello"
     ]
    },
    {
     "ename": "TypeError",
     "evalue": "my_print() missing 1 required positional argument: 'end'",
     "output_type": "error",
     "traceback": [
      "\u001b[0;31m---------------------------------------------------------------------------\u001b[0m",
      "\u001b[0;31mTypeError\u001b[0m                                 Traceback (most recent call last)",
      "Cell \u001b[0;32mIn[28], line 5\u001b[0m\n\u001b[1;32m      2\u001b[0m     \u001b[38;5;28mprint\u001b[39m(var, end\u001b[38;5;241m=\u001b[39mend)\n\u001b[1;32m      4\u001b[0m my_print(\u001b[38;5;124m\"\u001b[39m\u001b[38;5;124mHello\u001b[39m\u001b[38;5;124m\"\u001b[39m, \u001b[38;5;124m\"\u001b[39m\u001b[38;5;124m\"\u001b[39m)\n\u001b[0;32m----> 5\u001b[0m my_print(\u001b[38;5;124m\"\u001b[39m\u001b[38;5;124mWorld\u001b[39m\u001b[38;5;124m\"\u001b[39m)\n",
      "\u001b[0;31mTypeError\u001b[0m: my_print() missing 1 required positional argument: 'end'"
     ]
    }
   ],
   "source": [
    "def my_print(var, end):\n",
    "    print(var, end=end)\n",
    "\n",
    "my_print(\"Hello\", \"\")\n",
    "my_print(\"World\")"
   ]
  },
  {
   "cell_type": "markdown",
   "metadata": {},
   "source": [
    "- 运行下列代码块，体会不同参数的用法和不同参数结合的用法。"
   ]
  },
  {
   "cell_type": "code",
   "execution_count": 29,
   "metadata": {},
   "outputs": [
    {
     "name": "stdout",
     "output_type": "stream",
     "text": [
      "x, y, z = 1 2 3\n",
      "x, y, z = 1 3 2\n",
      "x, y, z = 2 1 3\n"
     ]
    }
   ],
   "source": [
    "def pos_func(x, y, z): # 位置参数\n",
    "    print(\"x, y, z =\", x, y, z) # 按顺序输出 x, y, z\n",
    "\n",
    "pos_func(1, 2, 3)\n",
    "pos_func(1, 3, 2)\n",
    "pos_func(2, 1, 3)"
   ]
  },
  {
   "cell_type": "code",
   "execution_count": 41,
   "metadata": {},
   "outputs": [
    {
     "name": "stdout",
     "output_type": "stream",
     "text": [
      "x, y, z = 1 2 3\n",
      "x, y, z = 1 2 3\n",
      "x, y, z = 1 3 2\n"
     ]
    }
   ],
   "source": [
    "def key_func(x, y, z): # 关键字参数\n",
    "    print(\"x, y, z =\", x, y, z)\n",
    "\n",
    "key_func(x=1, y=2, z=3) # 指定参数名传入参数\n",
    "key_func(z=3, y=2, x=1) # 顺序不重要\n",
    "key_func(1, z=2, y=3) # 位置参数和关键字参数可以混合使用"
   ]
  },
  {
   "cell_type": "code",
   "execution_count": 36,
   "metadata": {},
   "outputs": [
    {
     "name": "stdout",
     "output_type": "stream",
     "text": [
      "x, y, z = 1 2 3\n",
      "x, y, z = 1 2 4\n",
      "x, y, z = 1 4 2\n"
     ]
    }
   ],
   "source": [
    "def default_func(x, y, z=3): # 默认参数\n",
    "    print(\"x, y, z =\", x, y, z)\n",
    "\n",
    "default_func(1, 2) # 默认参数 z = 3，可以省略\n",
    "default_func(1, 2, 4) # 传入参数 z = 4，覆盖默认参数 z = 3\n",
    "default_func(x=1, z=2, y=4) # 默认参数和关键字参数也可以混合使用"
   ]
  },
  {
   "cell_type": "code",
   "execution_count": null,
   "metadata": {},
   "outputs": [
    {
     "ename": "SyntaxError",
     "evalue": "positional argument follows keyword argument (4058658961.py, line 1)",
     "output_type": "error",
     "traceback": [
      "\u001b[0;36m  Cell \u001b[0;32mIn[37], line 1\u001b[0;36m\u001b[0m\n",
      "\u001b[0;31m    key_func(1, z=3, 2)\u001b[0m\n",
      "\u001b[0m                      ^\u001b[0m\n",
      "\u001b[0;31mSyntaxError\u001b[0m\u001b[0;31m:\u001b[0m positional argument follows keyword argument\n"
     ]
    }
   ],
   "source": [
    "key_func(1, z=3, 2) # 这是不允许的"
   ]
  },
  {
   "cell_type": "markdown",
   "metadata": {},
   "source": [
    "# 04.作用域\n",
    "\n",
    "- 观察下列代码，理解为什么输出 `which_li_hua` 的值各不相同"
   ]
  },
  {
   "cell_type": "code",
   "execution_count": 5,
   "metadata": {},
   "outputs": [
    {
     "name": "stdout",
     "output_type": "stream",
     "text": [
      "外面的人 高考英语卷中\n",
      "上科大的 上海科技大学\n",
      "隔壁大学 高考英语卷中\n",
      "外面的人 高考英语卷中\n"
     ]
    }
   ],
   "source": [
    "which_li_hua = \"高考英语卷中\"\n",
    "# 我们都知道，李华是一个很有名的人物，他在高考英语卷中出现了很多次\n",
    "# 我们看看不同人提到李华时会想到什么\n",
    "\n",
    "def ShanghaiTech(): # 假设上海科技大学里来了一个李华（假设上科大人尽皆知）\n",
    "    which_li_hua = \"上海科技大学\"\n",
    "    print(\"上科大的\", which_li_hua) # 上科大的人第一反应肯定是上科大的李华\n",
    "\n",
    "def SUSTech(): # 假设隔壁大学没有李华\n",
    "    print(\"隔壁大学\", which_li_hua) # 隔壁大学人的第一反应肯定是高考英语卷中的李华\n",
    "\n",
    "# 外面的人（最外层）没有听说过别的李华\n",
    "print(\"外面的人\", which_li_hua) # 自然会认为这个李华是高考英语卷中的李华\n",
    "ShanghaiTech() # 调用 ShanghaiTech 函数\n",
    "SUSTech() # 调用 SUSTech 函数\n",
    "print(\"外面的人\", which_li_hua) # ShanghaiTech 的李华不会影响外面的人心中的李华"
   ]
  },
  {
   "cell_type": "markdown",
   "metadata": {},
   "source": [
    "- （可选）结合下列代码，观察为什么报错？"
   ]
  },
  {
   "cell_type": "code",
   "execution_count": 57,
   "metadata": {},
   "outputs": [
    {
     "name": "stdout",
     "output_type": "stream",
     "text": [
      "0\n"
     ]
    },
    {
     "ename": "UnboundLocalError",
     "evalue": "cannot access local variable 'ans' where it is not associated with a value",
     "output_type": "error",
     "traceback": [
      "\u001b[0;31m---------------------------------------------------------------------------\u001b[0m",
      "\u001b[0;31mUnboundLocalError\u001b[0m                         Traceback (most recent call last)",
      "Cell \u001b[0;32mIn[57], line 14\u001b[0m\n\u001b[1;32m     11\u001b[0m \t\u001b[38;5;28mprint\u001b[39m(ans)\n\u001b[1;32m     13\u001b[0m \u001b[38;5;28mprint\u001b[39m(ans) \u001b[38;5;66;03m# 1. 输出全局变量 ans\u001b[39;00m\n\u001b[0;32m---> 14\u001b[0m scope2()\n\u001b[1;32m     15\u001b[0m \u001b[38;5;28mprint\u001b[39m(ans)\n",
      "Cell \u001b[0;32mIn[57], line 8\u001b[0m, in \u001b[0;36mscope2\u001b[0;34m()\u001b[0m\n\u001b[1;32m      7\u001b[0m \u001b[38;5;28;01mdef\u001b[39;00m \u001b[38;5;21mscope2\u001b[39m():\n\u001b[0;32m----> 8\u001b[0m \t\u001b[38;5;28mprint\u001b[39m(ans) \u001b[38;5;66;03m# 接下来的局部变量 ans 还没有被赋值，全局变量却有重名，所以会报错\u001b[39;00m\n\u001b[1;32m      9\u001b[0m \tans \u001b[38;5;241m=\u001b[39m \u001b[38;5;241m2\u001b[39m \u001b[38;5;66;03m# 本函数的局部变量 ans\u001b[39;00m\n\u001b[1;32m     10\u001b[0m \tscope1()\n",
      "\u001b[0;31mUnboundLocalError\u001b[0m: cannot access local variable 'ans' where it is not associated with a value"
     ]
    }
   ],
   "source": [
    "ans = 0 # 全局变量，作用范围为全局\n",
    "\n",
    "def scope1():\n",
    "\t# ans = 1\n",
    "\tprint(ans)\n",
    "\n",
    "def scope2():\n",
    "\tprint(ans) # 接下来的局部变量 ans 还没有被赋值，全局变量却有重名，所以会报错\n",
    "\tans = 2 # 本函数的局部变量 ans\n",
    "\tscope1()\n",
    "\tprint(ans)\n",
    "\n",
    "print(ans) # 1. 输出全局变量 ans\n",
    "scope2()\n",
    "print(ans)"
   ]
  },
  {
   "cell_type": "code",
   "execution_count": 58,
   "metadata": {},
   "outputs": [
    {
     "name": "stdout",
     "output_type": "stream",
     "text": [
      "0\n",
      "0\n",
      "0\n",
      "0\n",
      "0\n"
     ]
    }
   ],
   "source": [
    "ans = 0 # 全局变量，作用范围为全局\n",
    "\n",
    "def scope1():\n",
    "\t# ans = 1\n",
    "\tprint(ans)\n",
    "\n",
    "def scope2():\n",
    "\tprint(ans)\n",
    "\t# ans = 2 # 如果不定义，就会自动访问全局变量 ans，而没有报错\n",
    "\tscope1()\n",
    "\tprint(ans)\n",
    "\n",
    "print(ans) # 1. 输出全局变量 ans\n",
    "scope2()\n",
    "print(ans)"
   ]
  },
  {
   "cell_type": "markdown",
   "metadata": {},
   "source": [
    "# 05. 实践——圆的周长面积计算器！"
   ]
  },
  {
   "cell_type": "code",
   "execution_count": 60,
   "metadata": {},
   "outputs": [
    {
     "name": "stdout",
     "output_type": "stream",
     "text": [
      "Area of circle:  78.53981633974483\n",
      "Circumference of circle:  31.41592653589793\n"
     ]
    }
   ],
   "source": [
    "import math # 导入 math 库，可以使用 math.pi\n",
    "\n",
    "def area_of_circle(radius=1): # 默认半径为 1\n",
    "    return math.pi * radius ** 2\n",
    "\n",
    "def circumference_of_circle(radius=1): # 默认半径为 1\n",
    "    return 2 * math.pi * radius\n",
    "\n",
    "r = int(input(\"r = \"))\n",
    "area = area_of_circle(r) # 通过位置参数传入半径\n",
    "circumference = circumference_of_circle(radius=r) # 通过关键字参数传入半径\n",
    "\n",
    "print(\"Area of circle: \", area)\n",
    "print(\"Circumference of circle: \", circumference)"
   ]
  }
 ],
 "metadata": {
  "kernelspec": {
   "display_name": "base",
   "language": "python",
   "name": "python3"
  },
  "language_info": {
   "codemirror_mode": {
    "name": "ipython",
    "version": 3
   },
   "file_extension": ".py",
   "mimetype": "text/x-python",
   "name": "python",
   "nbconvert_exporter": "python",
   "pygments_lexer": "ipython3",
   "version": "3.11.7"
  }
 },
 "nbformat": 4,
 "nbformat_minor": 2
}
