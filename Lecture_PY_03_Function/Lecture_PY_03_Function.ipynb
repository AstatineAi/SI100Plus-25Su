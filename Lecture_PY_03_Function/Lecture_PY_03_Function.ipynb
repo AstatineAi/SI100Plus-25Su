{
 "cells": [
  {
   "cell_type": "code",
   "execution_count": 2,
   "metadata": {},
   "outputs": [
    {
     "name": "stdout",
     "output_type": "stream",
     "text": [
      "Help on built-in function print in module builtins:\n",
      "\n",
      "print(*args, sep=' ', end='\\n', file=None, flush=False)\n",
      "    Prints the values to a stream, or to sys.stdout by default.\n",
      "    \n",
      "    sep\n",
      "      string inserted between values, default a space.\n",
      "    end\n",
      "      string appended after the last value, default a newline.\n",
      "    file\n",
      "      a file-like object (stream); defaults to the current sys.stdout.\n",
      "    flush\n",
      "      whether to forcibly flush the stream.\n",
      "\n"
     ]
    }
   ],
   "source": [
    "help(print)"
   ]
  },
  {
   "cell_type": "code",
   "execution_count": 8,
   "metadata": {},
   "outputs": [
    {
     "name": "stdout",
     "output_type": "stream",
     "text": [
      "\u001b[0;31mSignature:\u001b[0m \u001b[0mstr\u001b[0m\u001b[0;34m.\u001b[0m\u001b[0misalnum\u001b[0m\u001b[0;34m(\u001b[0m\u001b[0mself\u001b[0m\u001b[0;34m,\u001b[0m \u001b[0;34m/\u001b[0m\u001b[0;34m)\u001b[0m\u001b[0;34m\u001b[0m\u001b[0;34m\u001b[0m\u001b[0m\n",
      "\u001b[0;31mDocstring:\u001b[0m\n",
      "Return True if the string is an alpha-numeric string, False otherwise.\n",
      "\n",
      "A string is alpha-numeric if all characters in the string are alpha-numeric and\n",
      "there is at least one character in the string.\n",
      "\u001b[0;31mType:\u001b[0m      method_descriptor"
     ]
    }
   ],
   "source": [
    "print?"
   ]
  },
  {
   "cell_type": "code",
   "execution_count": null,
   "metadata": {},
   "outputs": [
    {
     "name": "stdout",
     "output_type": "stream",
     "text": [
      "True\n"
     ]
    }
   ],
   "source": [
    "print(\"123\".isdigit())"
   ]
  },
  {
   "cell_type": "code",
   "execution_count": null,
   "metadata": {},
   "outputs": [
    {
     "name": "stderr",
     "output_type": "stream",
     "text": [
      "<>:1: SyntaxWarning: invalid decimal literal\n",
      "<>:1: SyntaxWarning: invalid decimal literal\n",
      "/tmp/ipykernel_4039/4142401625.py:1: SyntaxWarning: invalid decimal literal\n",
      "  print(123.isdigit())\n"
     ]
    },
    {
     "ename": "SyntaxError",
     "evalue": "invalid syntax. Perhaps you forgot a comma? (4142401625.py, line 1)",
     "output_type": "error",
     "traceback": [
      "\u001b[0;36m  Cell \u001b[0;32mIn[11], line 1\u001b[0;36m\u001b[0m\n",
      "\u001b[0;31m    print(123.isdigit())\u001b[0m\n",
      "\u001b[0m          ^\u001b[0m\n",
      "\u001b[0;31mSyntaxError\u001b[0m\u001b[0;31m:\u001b[0m invalid syntax. Perhaps you forgot a comma?\n"
     ]
    }
   ],
   "source": [
    "print(123.isdigit())"
   ]
  },
  {
   "cell_type": "code",
   "execution_count": 25,
   "metadata": {},
   "outputs": [
    {
     "name": "stdout",
     "output_type": "stream",
     "text": [
      "4.0\n",
      "27\n",
      "0.10046943536490771\n"
     ]
    }
   ],
   "source": [
    "import math # 导入数学库\n",
    "\n",
    "print(math.sqrt(16)) # 使用数学库里的平方根函数\n",
    "\n",
    "import random # 导入随机数库\n",
    "\n",
    "print(random.randint(1,100)) # 输出在 [a,b] 中的的随机整数\n",
    "print(random.random()) # 输出在 0.0 <= x < 1.0 之间的随机小数"
   ]
  },
  {
   "cell_type": "markdown",
   "metadata": {},
   "source": [
    "$f(x) = x^2 + 2x + 1$"
   ]
  },
  {
   "cell_type": "code",
   "execution_count": 13,
   "metadata": {},
   "outputs": [
    {
     "data": {
      "text/plain": [
       "9"
      ]
     },
     "execution_count": 13,
     "metadata": {},
     "output_type": "execute_result"
    }
   ],
   "source": [
    "def f(x):\n",
    "\treturn x ** 2 + 2 * x + 1\n",
    "\n",
    "f(2)"
   ]
  },
  {
   "cell_type": "code",
   "execution_count": 14,
   "metadata": {},
   "outputs": [
    {
     "name": "stdout",
     "output_type": "stream",
     "text": [
      "我不在函数内部！\n",
      "我在函数内部！\n",
      "我也在函数内部！\n",
      "我当然也不在函数内部\n"
     ]
    }
   ],
   "source": [
    "def fun(): # 定义一个不需要参数的函数\n",
    "\tprint(\"我在函数内部！\")\n",
    "\tprint(\"我也在函数内部！\")\n",
    "\n",
    "print(\"我不在函数内部！\")\n",
    "fun()\n",
    "print(\"我当然也不在函数内部\")"
   ]
  },
  {
   "cell_type": "code",
   "execution_count": 16,
   "metadata": {},
   "outputs": [
    {
     "ename": "NameError",
     "evalue": "name 'g' is not defined",
     "output_type": "error",
     "traceback": [
      "\u001b[0;31m---------------------------------------------------------------------------\u001b[0m",
      "\u001b[0;31mNameError\u001b[0m                                 Traceback (most recent call last)",
      "Cell \u001b[0;32mIn[16], line 1\u001b[0m\n\u001b[0;32m----> 1\u001b[0m g(\u001b[38;5;124m\"\u001b[39m\u001b[38;5;124m初音未来\u001b[39m\u001b[38;5;124m\"\u001b[39m)\n\u001b[1;32m      3\u001b[0m \u001b[38;5;28;01mdef\u001b[39;00m \u001b[38;5;21mg\u001b[39m(chara):\n\u001b[1;32m      4\u001b[0m \t\u001b[38;5;28mprint\u001b[39m(\u001b[38;5;124m\"\u001b[39m\u001b[38;5;124m我去,\u001b[39m\u001b[38;5;124m\"\u001b[39m, chara, \u001b[38;5;124m\"\u001b[39m\u001b[38;5;124m!\u001b[39m\u001b[38;5;124m\"\u001b[39m)\n",
      "\u001b[0;31mNameError\u001b[0m: name 'g' is not defined"
     ]
    }
   ],
   "source": [
    "g(\"初音未来\")\n",
    "\n",
    "def g(chara):\n",
    "\tprint(\"我去,\", chara, \"!\")"
   ]
  },
  {
   "cell_type": "code",
   "execution_count": 18,
   "metadata": {},
   "outputs": [
    {
     "name": "stdout",
     "output_type": "stream",
     "text": [
      "我去, 初音未来 !\n"
     ]
    }
   ],
   "source": [
    "# g(\"初音未来\")\n",
    "\n",
    "def g(chara):\n",
    "\tprint(\"我去,\", chara, \"!\")\n",
    "\t\n",
    "g(\"初音未来\")"
   ]
  },
  {
   "cell_type": "code",
   "execution_count": 4,
   "metadata": {},
   "outputs": [
    {
     "name": "stdout",
     "output_type": "stream",
     "text": [
      "None 4 4\n"
     ]
    }
   ],
   "source": [
    "def calc1(x):\n",
    "\tans = x ** 2\n",
    "\n",
    "def calc2(x):\n",
    "\tans = x ** 2\n",
    "\treturn ans\n",
    "\n",
    "def calc3(x):\n",
    "\treturn x ** 2 # return 也可以直接返回\n",
    "\n",
    "print(calc1(2), calc2(2), calc3(2))"
   ]
  },
  {
   "cell_type": "code",
   "execution_count": 1,
   "metadata": {},
   "outputs": [
    {
     "name": "stdout",
     "output_type": "stream",
     "text": [
      "Gui Ye 先生\n",
      "Tian Huang 陛...下\n",
      "我滴任务完成辣\n",
      "拉开了手榴弹，并没有爆炸\n"
     ]
    }
   ],
   "source": [
    "def ChuanShanJia():\n",
    "\tprint(\"Gui Ye 先生\")\n",
    "\tprint(\"Tian Huang 陛...下\")\n",
    "\tprint(\"我滴任务完成辣\")\n",
    "\treturn \"拉开了手榴弹，并没有爆炸\"\n",
    "\tprint(\"啊哈哈哈哈哈哈哈哈\") # 笑不出来\n",
    "\n",
    "print(ChuanShanJia())"
   ]
  }
 ],
 "metadata": {
  "kernelspec": {
   "display_name": "base",
   "language": "python",
   "name": "python3"
  },
  "language_info": {
   "codemirror_mode": {
    "name": "ipython",
    "version": 3
   },
   "file_extension": ".py",
   "mimetype": "text/x-python",
   "name": "python",
   "nbconvert_exporter": "python",
   "pygments_lexer": "ipython3",
   "version": "3.11.7"
  }
 },
 "nbformat": 4,
 "nbformat_minor": 2
}
